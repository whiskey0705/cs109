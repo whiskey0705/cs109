{
 "cells": [
  {
   "cell_type": "markdown",
   "metadata": {},
   "source": [
    "# HomeWork 0"
   ]
  },
  {
   "cell_type": "code",
   "execution_count": 1,
   "metadata": {
    "collapsed": true
   },
   "outputs": [],
   "source": [
    "%matplotlib inline\n",
    "import matplotlib.pyplot as plt\n",
    "import numpy as np"
   ]
  },
  {
   "cell_type": "markdown",
   "metadata": {},
   "source": [
    "### Draw a sine wave\n",
    "- [np.linspace](https://docs.scipy.org/doc/numpy/reference/generated/numpy.linspace.html#numpy.linspace)\n",
    "- [np.random.normal](https://docs.scipy.org/doc/numpy/reference/generated/numpy.random.normal.html#numpy.random.normal)"
   ]
  },
  {
   "cell_type": "code",
   "execution_count": 16,
   "metadata": {},
   "outputs": [
    {
     "data": {
      "image/png": "[encoded data removed]",
      "text/plain": [
       "<matplotlib.figure.Figure at 0x8417860>"
      ]
     },
     "metadata": {},
     "output_type": "display_data"
    }
   ],
   "source": [
    "# 从0到10等分成30个点，生成一个ndarray\n",
    "x = np.linspace(0,10,30)\n",
    "y = np.sin(x)\n",
    "z = y + np.random.normal(size=30) * 0.2\n",
    "# label和legend搭配使用，显示图例铭文\n",
    "plt.plot(x, y, 'ro-', label='A sine wave') # 'ro-'红色实心圈实线\n",
    "plt.plot(x, z, 'b-', label='Noisy sine') # 'b-'蓝色实线\n",
    "plt.legend(loc=4) \n",
    "plt.xlabel('X axis')\n",
    "plt.ylabel('Y axis');"
   ]
  },
  {
   "cell_type": "markdown",
   "metadata": {},
   "source": [
    "### Hello Numpy"
   ]
  },
  {
   "cell_type": "markdown",
   "metadata": {},
   "source": [
    "#### Make a 3 row x 4 column array of random numbers\n",
    "- [np.random.random](https://docs.scipy.org/doc/numpy/reference/generated/numpy.random.random.html#numpy.random.random)"
   ]
  },
  {
   "cell_type": "code",
   "execution_count": 18,
   "metadata": {},
   "outputs": [
    {
     "data": {
      "text/plain": [
       "array([[ 0.32821882,  0.31435691,  0.0414239 ,  0.2602664 ],\n",
       "       [ 0.72026436,  0.81103659,  0.86618143,  0.96090844],\n",
       "       [ 0.933008  ,  0.45668742,  0.96887441,  0.11540558]])"
      ]
     },
     "execution_count": 18,
     "metadata": {},
     "output_type": "execute_result"
    }
   ],
   "source": [
    "# np.random.random返回[0.0,1.0)之间的浮点数\n",
    "x = np.random.random((3,4))\n",
    "x"
   ]
  },
  {
   "cell_type": "markdown",
   "metadata": {},
   "source": [
    "#### Add 1 to every element"
   ]
  },
  {
   "cell_type": "code",
   "execution_count": 29,
   "metadata": {},
   "outputs": [
    {
     "data": {
      "text/plain": [
       "array([[ 1.32821882,  1.31435691,  1.0414239 ,  1.2602664 ],\n",
       "       [ 1.72026436,  1.81103659,  1.86618143,  1.96090844],\n",
       "       [ 1.933008  ,  1.45668742,  1.96887441,  1.11540558]])"
      ]
     },
     "execution_count": 29,
     "metadata": {},
     "output_type": "execute_result"
    }
   ],
   "source": [
    "x = x + 1\n",
    "x"
   ]
  },
  {
   "cell_type": "markdown",
   "metadata": {},
   "source": [
    "#### Get the element at row 1, column 2"
   ]
  },
  {
   "cell_type": "code",
   "execution_count": 30,
   "metadata": {},
   "outputs": [
    {
     "data": {
      "text/plain": [
       "1.3143569085462388"
      ]
     },
     "execution_count": 30,
     "metadata": {},
     "output_type": "execute_result"
    }
   ],
   "source": [
    "x[0, 1]"
   ]
  },
  {
   "cell_type": "markdown",
   "metadata": {},
   "source": [
    "#### Get the first row"
   ]
  },
  {
   "cell_type": "code",
   "execution_count": 31,
   "metadata": {},
   "outputs": [
    {
     "data": {
      "text/plain": [
       "array([ 1.32821882,  1.31435691,  1.0414239 ,  1.2602664 ])"
      ]
     },
     "execution_count": 31,
     "metadata": {},
     "output_type": "execute_result"
    }
   ],
   "source": [
    "x[0, :]"
   ]
  },
  {
   "cell_type": "markdown",
   "metadata": {},
   "source": [
    "#### Get every 2nd column of the first row"
   ]
  },
  {
   "cell_type": "code",
   "execution_count": 32,
   "metadata": {},
   "outputs": [
    {
     "data": {
      "text/plain": [
       "array([ 1.32821882,  1.0414239 ])"
      ]
     },
     "execution_count": 32,
     "metadata": {},
     "output_type": "execute_result"
    }
   ],
   "source": [
    "x[0, ::2]"
   ]
  },
  {
   "cell_type": "markdown",
   "metadata": {},
   "source": [
    "#### Print the maximum, minimum, and mean of the array"
   ]
  },
  {
   "cell_type": "code",
   "execution_count": 37,
   "metadata": {},
   "outputs": [
    {
     "name": "stdout",
     "output_type": "stream",
     "text": [
      "Max: 1.96887441269\n",
      "Min: 1.04142389934\n",
      "Mean: 1.56471935581\n"
     ]
    }
   ],
   "source": [
    "print('Max:', x.max())\n",
    "print('Min:', x.min())\n",
    "print('Mean:', x.mean())"
   ]
  },
  {
   "cell_type": "markdown",
   "metadata": {},
   "source": [
    "#### Call the x.max function again, but use the axis keyword to print the maximum of each row in x."
   ]
  },
  {
   "cell_type": "code",
   "execution_count": 38,
   "metadata": {},
   "outputs": [
    {
     "name": "stdout",
     "output_type": "stream",
     "text": [
      "[ 1.32821882  1.96090844  1.96887441]\n"
     ]
    }
   ],
   "source": [
    "print(x.max(axis=1))"
   ]
  },
  {
   "cell_type": "markdown",
   "metadata": {},
   "source": [
    "### Simulate 500 coin \"fair\" coin tosses\n",
    "- [np.random.binomial](https://docs.scipy.org/doc/numpy/reference/generated/numpy.random.binomial.html#numpy.random.binomial)"
   ]
  },
  {
   "cell_type": "code",
   "execution_count": 43,
   "metadata": {},
   "outputs": [
    {
     "name": "stdout",
     "output_type": "stream",
     "text": [
      "number of heads: 246\n"
     ]
    }
   ],
   "source": [
    "x = np.random.binomial(500, 0.5)\n",
    "print(f'number of heads: {x}')"
   ]
  },
  {
   "cell_type": "markdown",
   "metadata": {},
   "source": [
    "#### Repeat this simulation 500 times, and use the plt.hist() function to plot a histogram of the number of Heads (1s) in each simulation"
   ]
  },
  {
   "cell_type": "code",
   "execution_count": 47,
   "metadata": {},
   "outputs": [
    {
     "data": {
      "image/png": "[encoded data removed]",
      "text/plain": [
       "<matplotlib.figure.Figure at 0x8630240>"
      ]
     },
     "metadata": {},
     "output_type": "display_data"
    }
   ],
   "source": [
    "heads = np.random.binomial(500, 0.5, size=500)\n",
    "plt.hist(heads, bins=10);"
   ]
  },
  {
   "cell_type": "code",
   "execution_count": 48,
   "metadata": {},
   "outputs": [
    {
     "data": {
      "text/plain": [
       "(500,)"
      ]
     },
     "execution_count": 48,
     "metadata": {},
     "output_type": "execute_result"
    }
   ],
   "source": [
    "heads.shape"
   ]
  },
  {
   "cell_type": "markdown",
   "metadata": {},
   "source": [
    "### The Monty Hall Problem\n",
    "Here's a fun and perhaps surprising statistical riddle, and a good way to get some practice writing python functions\n",
    "\n",
    "In a gameshow, contestants try to guess which of 3 closed doors contain a cash prize (goats are behind the other two doors). Of course, the odds of choosing the correct door are 1 in 3. As a twist, the host of the show occasionally opens a door after a contestant makes his or her choice. This door is always one of the two the contestant did not pick, and is also always one of the goat doors (note that it is always possible to do this, since there are two goat doors). At this point, the contestant has the option of keeping his or her original choice, or swtiching to the other unopened door. The question is: is there any benefit to switching doors? The answer surprises many people who haven't heard the question before.\n",
    "\n",
    "We can answer the problem by running simulations in Python. We'll do it in several parts."
   ]
  },
  {
   "cell_type": "markdown",
   "metadata": {},
   "source": [
    "First, write a function called simulate_prizedoor. This function will simulate the location of the prize in many games -- see the detailed specification below:\n",
    "- [np.random.randint](https://docs.scipy.org/doc/numpy/reference/generated/numpy.random.randint.html#numpy.random.randint)"
   ]
  },
  {
   "cell_type": "code",
   "execution_count": 72,
   "metadata": {},
   "outputs": [],
   "source": [
    "import random\n",
    "\n",
    "def pick_door():\n",
    "    # 随机返回1，2，3中的一个\n",
    "    return random.randint(1,3)\n",
    "\n",
    "\n",
    "class MontyHall:\n",
    "    def __init__(self):\n",
    "        self.prize_door = pick_door()\n",
    "        self.selected_door = None\n",
    "        self.removed_door = None\n",
    "    \n",
    "    def select_door(self):\n",
    "        self.selected_door = pick_door()\n",
    "        \n",
    "    def remove_door(self):\n",
    "        d = pick_door()\n",
    "        while d == self.selected_door or d == self.prize_door:\n",
    "            d = pick_door()\n",
    "        self.removed_door = d\n",
    "        \n",
    "    def switch_choice(self):\n",
    "        self.selected_door = 6 - self.selected_door - self.removed_door\n",
    "        \n",
    "    def user_wins(self):\n",
    "        if self.selected_door == self.prize_door:\n",
    "            return True\n",
    "        else:\n",
    "            return False\n",
    "        \n",
    "    def run_game(self, switch=True):\n",
    "        self.select_door()\n",
    "        self.remove_door()\n",
    "        if switch:\n",
    "            self.switch_choice()\n",
    "        return self.user_wins()\n",
    "    \n",
    "\n",
    "def play(nsim, switch):    \n",
    "    \n",
    "    wins, losses = 0, 0\n",
    "    for i in range(nsim):\n",
    "        m = MontyHall()\n",
    "        if m.run_game(switch=switch):\n",
    "            wins += 1\n",
    "        else:\n",
    "            losses += 1\n",
    "\n",
    "    perc_win = 100*wins/(wins+losses)\n",
    "\n",
    "    print(f'One million Monty Hall games (switch={switch}):')\n",
    "    print(f'won: {wins} games')\n",
    "    print(f'lost: {losses} games')\n",
    "    print('odds: {:.2f}% winning percentage'.format(perc_win))\n"
   ]
  },
  {
   "cell_type": "code",
   "execution_count": 69,
   "metadata": {},
   "outputs": [
    {
     "name": "stdout",
     "output_type": "stream",
     "text": [
      "One million Monty Hall games (switch=True):\n",
      "won: 666166 games\n",
      "lost: 333834 games\n",
      "odds: 66.62% winning percentage\n"
     ]
    }
   ],
   "source": [
    "play(1000000, True)"
   ]
  },
  {
   "cell_type": "code",
   "execution_count": 70,
   "metadata": {},
   "outputs": [
    {
     "name": "stdout",
     "output_type": "stream",
     "text": [
      "One million Monty Hall games (switch=False):\n",
      "won: 333127 games\n",
      "lost: 666873 games\n",
      "odds: 33.31% winning percentage\n"
     ]
    }
   ],
   "source": [
    "play(1000000, False)"
   ]
  },
  {
   "cell_type": "code",
   "execution_count": null,
   "metadata": {
    "collapsed": true
   },
   "outputs": [],
   "source": []
  }
 ],
 "metadata": {
  "kernelspec": {
   "display_name": "Python 3",
   "language": "python",
   "name": "python3"
  },
  "language_info": {
   "codemirror_mode": {
    "name": "ipython",
    "version": 3
   },
   "file_extension": ".py",
   "mimetype": "text/x-python",
   "name": "python",
   "nbconvert_exporter": "python",
   "pygments_lexer": "ipython3",
   "version": "3.6.0"
  }
 },
 "nbformat": 4,
 "nbformat_minor": 2
}
