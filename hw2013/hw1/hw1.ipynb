{
 "cells": [
  {
   "cell_type": "code",
   "execution_count": 18,
   "metadata": {},
   "outputs": [],
   "source": [
    "%matplotlib inline\n",
    "\n",
    "import numpy as np\n",
    "import pandas as pd\n",
    "import matplotlib.pyplot as plt\n",
    "import requests\n",
    "from bs4 import BeautifulSoup\n"
   ]
  },
  {
   "cell_type": "markdown",
   "metadata": {},
   "source": [
    "\n",
    "\n",
    "## Part 1: Collect and Clean\n",
    "\n",
    "The [Real Clear Politics](http://www.realclearpolitics.com) website archives many political polls. In addition, they combine related polls to form an \"RCP average\" estimate of public opinion over time. For example, the chart on [this page](http://www.realclearpolitics.com/epolls/2012/president/us/general_election_romney_vs_obama-1171.html) shows historical polling data for the Obama-Romney presidential race. The chart is an average of the polling data table below the chart.\n",
    "\n",
    "The data used to generate plots like this are stored as XML pages, with URLs like:\n",
    "\n",
    "http://charts.realclearpolitics.com/charts/[id].xml\n",
    "\n",
    "Here, [id] is a unique integer, found at the end of the URL of the page that displays the graph. The id for the Obama-Romney race is 1171:\n",
    "\n",
    "http://charts.realclearpolitics.com/charts/1171.xml\n",
    "\n",
    "Opening this page in Google Chrome or Firefox will show you the XML content in an easy-to-read format. Notice that XML tags are nested inside each other, hierarchically (the jargony term for this is the \"Document Object Model\", or \"DOM\"). The first step of webscraping is almost always exploring the HTML/XML source in a browser, and getting a sense of this hierarchy.\n",
    "\n",
    "---\n",
    "\n",
    "#### Problem 0\n",
    "\n",
    "The above XML page includes 5 distinct tags (one, for example, is `chart`). List these tags, and depict how they nest inside each other using an indented list. For example:\n",
    "\n",
    "* Page\n",
    "  * Section\n",
    "     * Paragraph\n",
    "  * Conclusion"
   ]
  },
  {
   "cell_type": "markdown",
   "metadata": {},
   "source": [
    "*Your Answer Here*\n",
    "\n",
    "* chart\n",
    "    * series\n",
    "        * value\n",
    "    * graphs\n",
    "        * graph\n",
    "            * value"
   ]
  },
  {
   "cell_type": "markdown",
   "metadata": {},
   "source": [
    "---\n",
    "#### Problem 1\n",
    "\n",
    "We want to download and work with poll data like this. Like most programming tasks, we will break this into many smaller, easier pieces\n",
    "\n",
    "Fill in the code for the `get_poll_xml` function, that finds and downloads an XML page discussed above\n",
    "\n",
    "**Hint** \n",
    "\n",
    "`requests.get(\"http://www.google.com\").text` downloads the text from Google's homepage"
   ]
  },
  {
   "cell_type": "code",
   "execution_count": 2,
   "metadata": {
    "collapsed": true
   },
   "outputs": [],
   "source": [
    "\"\"\"\n",
    "Function\n",
    "--------\n",
    "get_poll_xml\n",
    "\n",
    "Given a poll_id, return the XML data as a text string\n",
    "\n",
    "Inputs\n",
    "------\n",
    "poll_id : int\n",
    "    The ID of the poll to fetch\n",
    "\n",
    "Returns\n",
    "-------\n",
    "xml : str\n",
    "    The text of the XML page for that poll_id\n",
    "\n",
    "Example\n",
    "-------\n",
    ">>> get_poll_xml(1044)\n",
    "u'<?xml version=\"1.0\" encoding=\"UTF-8\"?><chart><series><value xid=\\'0\\'>1/27/2009</value>\n",
    "...etc...\n",
    "\"\"\"    \n",
    "#your code here \n",
    "\n",
    "def get_poll_xml(poll_id):\n",
    "    url = f'http://charts.realclearpolitics.com/charts/{poll_id}.xml'\n",
    "    xml = requests.get(url).text\n",
    "    return xml\n",
    "\n",
    "# get_poll_xml(1171)"
   ]
  },
  {
   "cell_type": "markdown",
   "metadata": {},
   "source": [
    "Here are some other functions we'll use later. `plot_colors` contains hints about parsing XML data."
   ]
  },
  {
   "cell_type": "code",
   "execution_count": 3,
   "metadata": {},
   "outputs": [
    {
     "data": {
      "text/plain": [
       "{'Approve': '#000000', 'Disapprove': '#FF0000'}"
      ]
     },
     "execution_count": 3,
     "metadata": {},
     "output_type": "execute_result"
    }
   ],
   "source": [
    "# \"r\"egular \"e\"xpressions is kind of a mini-language to\n",
    "# do pattern matching on text\n",
    "import re\n",
    "\n",
    "def _strip(s):\n",
    "    \"\"\"This function removes non-letter characters from a word\n",
    "    \n",
    "    for example _strip('Hi there!') == 'Hi there'\n",
    "    \"\"\"\n",
    "    return re.sub(r'[\\W_]+', '', s)\n",
    "\n",
    "def plot_colors(xml):\n",
    "    \"\"\"\n",
    "    Given an XML document like the link above, returns a python dictionary\n",
    "    that maps a graph title to a graph color.\n",
    "    \n",
    "    Both the title and color are parsed from attributes of the <graph> tag:\n",
    "    <graph title=\"the title\", color=\"#ff0000\"> -> {'the title': '#ff0000'}\n",
    "    \n",
    "    These colors are in \"hex string\" format. This page explains them:\n",
    "    http://coding.smashingmagazine.com/2012/10/04/the-code-side-of-color/\n",
    "    \n",
    "    Example\n",
    "    -------\n",
    "    >>> plot_colors(get_poll_xml(1044))\n",
    "    {u'Approve': u'#000000', u'Disapprove': u'#FF0000'}\n",
    "    \"\"\"\n",
    "\n",
    "    soup = BeautifulSoup(xml, 'xml')\n",
    "    title = [graph['title'] for graph in soup.find_all('graph')]\n",
    "    color = [graph['color'] for graph in soup.find_all('graph')]\n",
    "    result = {k:v for k,v in zip(title, color)}\n",
    "    return result\n",
    "\n",
    "plot_colors(get_poll_xml(1044))"
   ]
  },
  {
   "cell_type": "markdown",
   "metadata": {},
   "source": [
    "---\n",
    "\n",
    "#### Problem 2\n",
    "\n",
    "Even though `get_poll_xml` pulls data from the web into Python, it does so as a block of text. This still isn't very useful. Use the `web` module in `pattern` to parse this text, and extract data into a pandas DataFrame.\n",
    "\n",
    "**Hints**\n",
    "\n",
    "* You might want create python lists for each column in the XML. Then, to turn these lists into a DataFrame, run\n",
    "\n",
    "`pd.DataFrame({'column_label_1': list_1, 'column_label_2':list_2, ...})`\n",
    "\n",
    "* use the pandas function `pd.to_datetime` to convert strings into dates"
   ]
  },
  {
   "cell_type": "code",
   "execution_count": 4,
   "metadata": {},
   "outputs": [],
   "source": [
    "\"\"\"\n",
    "    Function\n",
    "    ---------\n",
    "    rcp_poll_data\n",
    "\n",
    "    Extract poll information from an XML string, and convert to a DataFrame\n",
    "\n",
    "    Parameters\n",
    "    ----------\n",
    "    xml : str\n",
    "        A string, containing the XML data from a page like \n",
    "        get_poll_xml(1044)\n",
    "        \n",
    "    Returns\n",
    "    -------\n",
    "    A pandas DataFrame with the following columns:\n",
    "        date: The date for each entry\n",
    "        title_n: The data value for the gid=n graph (take the column name from the `title` tag)\n",
    "        \n",
    "    This DataFrame should be sorted by date\n",
    "        \n",
    "    Example\n",
    "    -------\n",
    "    Consider the following simple xml page:\n",
    "    \n",
    "    <chart>\n",
    "    <series>\n",
    "    <value xid=\"0\">1/27/2009</value>\n",
    "    <value xid=\"1\">1/28/2009</value>\n",
    "    </series>\n",
    "    <graphs>\n",
    "    <graph gid=\"1\" color=\"#000000\" balloon_color=\"#000000\" title=\"Approve\">\n",
    "    <value xid=\"0\">63.3</value>\n",
    "    <value xid=\"1\">63.3</value>\n",
    "    </graph>\n",
    "    <graph gid=\"2\" color=\"#FF0000\" balloon_color=\"#FF0000\" title=\"Disapprove\">\n",
    "    <value xid=\"0\">20.0</value>\n",
    "    <value xid=\"1\">20.0</value>\n",
    "    </graph>\n",
    "    </graphs>\n",
    "    </chart>\n",
    "    \n",
    "    Given this string, rcp_poll_data should return\n",
    "    result = pd.DataFrame({'date': pd.to_datetime(['1/27/2009', '1/28/2009']), \n",
    "                           'Approve': [63.3, 63.3], 'Disapprove': [20.0, 20.0]})\n",
    "\"\"\"\n",
    "#your code here\n",
    "\n",
    "def rcp_poll_data(xml):\n",
    "    soup = BeautifulSoup(xml, 'xml')\n",
    "    date = [value.get_text() for value in soup.series]\n",
    "    approve = [float(value.get_text()) if value.get_text() else np.nan for value in soup.find(gid=1)]\n",
    "    disapprove = [float(value.get_text()) if value.get_text() else np.nan for value in soup.find(gid=2)]\n",
    "    result = pd.DataFrame({'date': pd.to_datetime(date), 'Approve': approve, 'Disapprove': disapprove})\n",
    "    result.dropna(inplace=True)\n",
    "    return result\n",
    "\n",
    "# rcp_poll_data(get_poll_xml(1044))"
   ]
  },
  {
   "cell_type": "markdown",
   "metadata": {},
   "source": [
    "The output from `rcp_poll_data` is much more useful for analysis. For example, we can plot with it:"
   ]
  },
  {
   "cell_type": "code",
   "execution_count": 13,
   "metadata": {
    "collapsed": true
   },
   "outputs": [],
   "source": [
    "def poll_plot(poll_id):\n",
    "    \"\"\"\n",
    "    Make a plot of an RCP Poll over time\n",
    "    \n",
    "    Parameters\n",
    "    ----------\n",
    "    poll_id : int\n",
    "        An RCP poll identifier\n",
    "    \"\"\"\n",
    "\n",
    "    # hey, you wrote two of these functions. Thanks for that!\n",
    "    xml = get_poll_xml(poll_id)\n",
    "    data = rcp_poll_data(xml)\n",
    "    colors = plot_colors(xml)\n",
    "\n",
    "    #remove characters like apostrophes\n",
    "#     data = data.rename(columns = {c: _strip(c) for c in data.columns})\n",
    "\n",
    "    # normalize poll numbers so they add to 100%\n",
    "    # in py3 dict_keys() don't return a list    \n",
    "    norm = data[list(colors.keys())].sum(axis=1) / 100    \n",
    "    for c in colors.keys():\n",
    "        data[c] /= norm\n",
    "    \n",
    "    for label, color in colors.items():\n",
    "        plt.plot(data.date, data[label], color=color, label=label)        \n",
    "        \n",
    "    plt.xticks(rotation=70)\n",
    "    plt.legend(loc='best')\n",
    "    plt.xlabel(\"Date\")\n",
    "    plt.ylabel(\"Normalized Poll Percentage\")"
   ]
  },
  {
   "cell_type": "markdown",
   "metadata": {},
   "source": [
    "If you've done everything right so far, the following code should reproduce the graph on [this page](http://www.realclearpolitics.com/epolls/other/president_obama_job_approval-1044.html)"
   ]
  },
  {
   "cell_type": "code",
   "execution_count": 15,
   "metadata": {},
   "outputs": [
    {
     "data": {
      "image/png": "[encoded data removed]",
      "text/plain": [
       "<matplotlib.figure.Figure at 0xbc67ac8>"
      ]
     },
     "metadata": {},
     "output_type": "display_data"
    }
   ],
   "source": [
    "poll_plot(1044)\n",
    "plt.title(\"Obama Job Approval\");"
   ]
  },
  {
   "cell_type": "code",
   "execution_count": null,
   "metadata": {
    "collapsed": true
   },
   "outputs": [],
   "source": []
  }
 ],
 "metadata": {
  "kernelspec": {
   "display_name": "Python 3",
   "language": "python",
   "name": "python3"
  },
  "language_info": {
   "codemirror_mode": {
    "name": "ipython",
    "version": 3
   },
   "file_extension": ".py",
   "mimetype": "text/x-python",
   "name": "python",
   "nbconvert_exporter": "python",
   "pygments_lexer": "ipython3",
   "version": "3.6.0"
  }
 },
 "nbformat": 4,
 "nbformat_minor": 2
}
