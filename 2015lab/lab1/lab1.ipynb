{
 "cells": [
  {
   "cell_type": "markdown",
   "metadata": {},
   "source": [
    "# Lab 1. An Introduction to Pandas and Python"
   ]
  },
  {
   "cell_type": "code",
   "execution_count": 1,
   "metadata": {
    "collapsed": true
   },
   "outputs": [],
   "source": [
    "%matplotlib inline\n",
    "\n",
    "import numpy as np\n",
    "import scipy as sp\n",
    "import matplotlib as mpl\n",
    "import matplotlib.cm as cm # colormaps\n",
    "import matplotlib.pyplot as plt\n",
    "import pandas as pd\n",
    "import seaborn as sns\n",
    "\n",
    "pd.set_option('display.width', 500)\n",
    "pd.set_option('display.max_columns', 100)\n",
    "pd.set_option('display.notebook_repr_html', True)\n"
   ]
  },
  {
   "cell_type": "markdown",
   "metadata": {},
   "source": [
    "#### markdown模式下把LaTeX代码放在两个美元符合之间`$LaTeX code in here$`可以表达数学公式\n",
    "- `$$LaTeX code in here$$` 两个美元符号打头的生成的公式独占一行\n",
    "- `$LaTeX code in here$`单个美元符号打头的生成的公式不换行\n",
    "\n",
    "$$\\alpha = \\frac{\\beta}{\\gamma}$$\n",
    "\n",
    "$\\alpha = \\frac{\\beta}{\\gamma}$\n",
    "$\\alpha = \\frac{\\beta}{\\gamma}$\n"
   ]
  },
  {
   "cell_type": "markdown",
   "metadata": {},
   "source": [
    "## Pandas"
   ]
  },
  {
   "cell_type": "markdown",
   "metadata": {},
   "source": [
    "#### 如果csv文件没有表头，在不指明`header=None`的情况下，第一行的内容会变成表头；指明后，可以给`names`参数传递一个list来指定表头"
   ]
  },
  {
   "cell_type": "code",
   "execution_count": 2,
   "metadata": {},
   "outputs": [],
   "source": [
    "df = pd.read_csv('all.csv', header=None, \n",
    "            names=['rating', 'review_count', 'isbn', 'booktype','author_url', 'year', 'genre_urls', 'dir','rating_count', 'name'])"
   ]
  },
  {
   "cell_type": "code",
   "execution_count": 3,
   "metadata": {},
   "outputs": [
    {
     "data": {
      "text/html": [
       "<div>\n",
       "<table border=\"1\" class=\"dataframe\">\n",
       "  <thead>\n",
       "    <tr style=\"text-align: right;\">\n",
       "      <th></th>\n",
       "      <th>rating</th>\n",
       "      <th>review_count</th>\n",
       "      <th>isbn</th>\n",
       "      <th>booktype</th>\n",
       "      <th>author_url</th>\n",
       "      <th>year</th>\n",
       "      <th>genre_urls</th>\n",
       "      <th>dir</th>\n",
       "      <th>rating_count</th>\n",
       "      <th>name</th>\n",
       "    </tr>\n",
       "  </thead>\n",
       "  <tbody>\n",
       "    <tr>\n",
       "      <th>0</th>\n",
       "      <td>4.40</td>\n",
       "      <td>136455</td>\n",
       "      <td>0439023483</td>\n",
       "      <td>good_reads:book</td>\n",
       "      <td>https://www.goodreads.com/author/show/153394.S...</td>\n",
       "      <td>2008.0</td>\n",
       "      <td>/genres/young-adult|/genres/science-fiction|/g...</td>\n",
       "      <td>dir01/2767052-the-hunger-games.html</td>\n",
       "      <td>2958974</td>\n",
       "      <td>The Hunger Games (The Hunger Games, #1)</td>\n",
       "    </tr>\n",
       "    <tr>\n",
       "      <th>1</th>\n",
       "      <td>4.41</td>\n",
       "      <td>16648</td>\n",
       "      <td>0439358078</td>\n",
       "      <td>good_reads:book</td>\n",
       "      <td>https://www.goodreads.com/author/show/1077326....</td>\n",
       "      <td>2003.0</td>\n",
       "      <td>/genres/fantasy|/genres/young-adult|/genres/fi...</td>\n",
       "      <td>dir01/2.Harry_Potter_and_the_Order_of_the_Phoe...</td>\n",
       "      <td>1284478</td>\n",
       "      <td>Harry Potter and the Order of the Phoenix (Har...</td>\n",
       "    </tr>\n",
       "    <tr>\n",
       "      <th>2</th>\n",
       "      <td>3.56</td>\n",
       "      <td>85746</td>\n",
       "      <td>0316015849</td>\n",
       "      <td>good_reads:book</td>\n",
       "      <td>https://www.goodreads.com/author/show/941441.S...</td>\n",
       "      <td>2005.0</td>\n",
       "      <td>/genres/young-adult|/genres/fantasy|/genres/ro...</td>\n",
       "      <td>dir01/41865.Twilight.html</td>\n",
       "      <td>2579564</td>\n",
       "      <td>Twilight (Twilight, #1)</td>\n",
       "    </tr>\n",
       "    <tr>\n",
       "      <th>3</th>\n",
       "      <td>4.23</td>\n",
       "      <td>47906</td>\n",
       "      <td>0061120081</td>\n",
       "      <td>good_reads:book</td>\n",
       "      <td>https://www.goodreads.com/author/show/1825.Har...</td>\n",
       "      <td>1960.0</td>\n",
       "      <td>/genres/classics|/genres/fiction|/genres/histo...</td>\n",
       "      <td>dir01/2657.To_Kill_a_Mockingbird.html</td>\n",
       "      <td>2078123</td>\n",
       "      <td>To Kill a Mockingbird</td>\n",
       "    </tr>\n",
       "    <tr>\n",
       "      <th>4</th>\n",
       "      <td>4.23</td>\n",
       "      <td>34772</td>\n",
       "      <td>0679783261</td>\n",
       "      <td>good_reads:book</td>\n",
       "      <td>https://www.goodreads.com/author/show/1265.Jan...</td>\n",
       "      <td>1813.0</td>\n",
       "      <td>/genres/classics|/genres/fiction|/genres/roman...</td>\n",
       "      <td>dir01/1885.Pride_and_Prejudice.html</td>\n",
       "      <td>1388992</td>\n",
       "      <td>Pride and Prejudice</td>\n",
       "    </tr>\n",
       "  </tbody>\n",
       "</table>\n",
       "</div>"
      ],
      "text/plain": [
       "   rating review_count        isbn         booktype                                         author_url    year                                         genre_urls                                                dir rating_count                                               name\n",
       "0    4.40       136455  0439023483  good_reads:book  https://www.goodreads.com/author/show/153394.S...  2008.0  /genres/young-adult|/genres/science-fiction|/g...                dir01/2767052-the-hunger-games.html      2958974            The Hunger Games (The Hunger Games, #1)\n",
       "1    4.41        16648  0439358078  good_reads:book  https://www.goodreads.com/author/show/1077326....  2003.0  /genres/fantasy|/genres/young-adult|/genres/fi...  dir01/2.Harry_Potter_and_the_Order_of_the_Phoe...      1284478  Harry Potter and the Order of the Phoenix (Har...\n",
       "2    3.56        85746  0316015849  good_reads:book  https://www.goodreads.com/author/show/941441.S...  2005.0  /genres/young-adult|/genres/fantasy|/genres/ro...                          dir01/41865.Twilight.html      2579564                            Twilight (Twilight, #1)\n",
       "3    4.23        47906  0061120081  good_reads:book  https://www.goodreads.com/author/show/1825.Har...  1960.0  /genres/classics|/genres/fiction|/genres/histo...              dir01/2657.To_Kill_a_Mockingbird.html      2078123                              To Kill a Mockingbird\n",
       "4    4.23        34772  0679783261  good_reads:book  https://www.goodreads.com/author/show/1265.Jan...  1813.0  /genres/classics|/genres/fiction|/genres/roman...                dir01/1885.Pride_and_Prejudice.html      1388992                                Pride and Prejudice"
      ]
     },
     "execution_count": 3,
     "metadata": {},
     "output_type": "execute_result"
    }
   ],
   "source": [
    "df.head()"
   ]
  },
  {
   "cell_type": "markdown",
   "metadata": {},
   "source": [
    "#### 显示df每一列对应的类型"
   ]
  },
  {
   "cell_type": "code",
   "execution_count": 4,
   "metadata": {},
   "outputs": [
    {
     "data": {
      "text/plain": [
       "rating          float64\n",
       "review_count     object\n",
       "isbn             object\n",
       "booktype         object\n",
       "author_url       object\n",
       "year            float64\n",
       "genre_urls       object\n",
       "dir              object\n",
       "rating_count     object\n",
       "name             object\n",
       "dtype: object"
      ]
     },
     "execution_count": 4,
     "metadata": {},
     "output_type": "execute_result"
    }
   ],
   "source": [
    "df.dtypes"
   ]
  },
  {
   "cell_type": "markdown",
   "metadata": {},
   "source": [
    "#### 也可以单独显示一列的类型"
   ]
  },
  {
   "cell_type": "code",
   "execution_count": 5,
   "metadata": {},
   "outputs": [
    {
     "data": {
      "text/plain": [
       "dtype('float64')"
      ]
     },
     "execution_count": 5,
     "metadata": {},
     "output_type": "execute_result"
    }
   ],
   "source": [
    "df['rating'].dtypes"
   ]
  },
  {
   "cell_type": "markdown",
   "metadata": {},
   "source": [
    "#### 显示df的形状，表面有6000行和10列组成"
   ]
  },
  {
   "cell_type": "code",
   "execution_count": 6,
   "metadata": {},
   "outputs": [
    {
     "data": {
      "text/plain": [
       "(6000, 10)"
      ]
     },
     "execution_count": 6,
     "metadata": {},
     "output_type": "execute_result"
    }
   ],
   "source": [
    "df.shape"
   ]
  },
  {
   "cell_type": "code",
   "execution_count": 7,
   "metadata": {},
   "outputs": [
    {
     "data": {
      "text/plain": [
       "(6000, 10)"
      ]
     },
     "execution_count": 7,
     "metadata": {},
     "output_type": "execute_result"
    }
   ],
   "source": [
    "df.shape[0], df.shape[1]"
   ]
  },
  {
   "cell_type": "markdown",
   "metadata": {},
   "source": [
    "#### 显示每列columns对应的名称"
   ]
  },
  {
   "cell_type": "code",
   "execution_count": 8,
   "metadata": {},
   "outputs": [
    {
     "data": {
      "text/plain": [
       "Index(['rating', 'review_count', 'isbn', 'booktype', 'author_url', 'year', 'genre_urls', 'dir', 'rating_count', 'name'], dtype='object')"
      ]
     },
     "execution_count": 8,
     "metadata": {},
     "output_type": "execute_result"
    }
   ],
   "source": [
    "df.columns"
   ]
  },
  {
   "cell_type": "code",
   "execution_count": 9,
   "metadata": {},
   "outputs": [
    {
     "data": {
      "text/plain": [
       "RangeIndex(start=0, stop=6000, step=1)"
      ]
     },
     "execution_count": 9,
     "metadata": {},
     "output_type": "execute_result"
    }
   ],
   "source": [
    "df.index"
   ]
  },
  {
   "cell_type": "markdown",
   "metadata": {},
   "source": [
    "#### df是DataFrame对象，df对应的每列column是Series对象"
   ]
  },
  {
   "cell_type": "code",
   "execution_count": 10,
   "metadata": {},
   "outputs": [
    {
     "data": {
      "text/plain": [
       "(pandas.core.frame.DataFrame, pandas.core.series.Series)"
      ]
     },
     "execution_count": 10,
     "metadata": {},
     "output_type": "execute_result"
    }
   ],
   "source": [
    "type(df), type(df['rating'])"
   ]
  },
  {
   "cell_type": "markdown",
   "metadata": {},
   "source": [
    "#### 选定某一列，然后和数字比较大小，可以得到一个由bool值组成的Series（通常称为mask）"
   ]
  },
  {
   "cell_type": "code",
   "execution_count": 11,
   "metadata": {},
   "outputs": [
    {
     "data": {
      "text/plain": [
       "0       False\n",
       "1       False\n",
       "2       False\n",
       "3       False\n",
       "4       False\n",
       "5       False\n",
       "6       False\n",
       "7       False\n",
       "8       False\n",
       "9       False\n",
       "10      False\n",
       "11      False\n",
       "12      False\n",
       "13      False\n",
       "14      False\n",
       "15      False\n",
       "16      False\n",
       "17      False\n",
       "18      False\n",
       "19      False\n",
       "20      False\n",
       "21      False\n",
       "22      False\n",
       "23      False\n",
       "24      False\n",
       "25      False\n",
       "26      False\n",
       "27      False\n",
       "28      False\n",
       "29      False\n",
       "        ...  \n",
       "5970    False\n",
       "5971    False\n",
       "5972    False\n",
       "5973    False\n",
       "5974    False\n",
       "5975    False\n",
       "5976    False\n",
       "5977    False\n",
       "5978    False\n",
       "5979     True\n",
       "5980    False\n",
       "5981    False\n",
       "5982    False\n",
       "5983    False\n",
       "5984    False\n",
       "5985    False\n",
       "5986    False\n",
       "5987    False\n",
       "5988    False\n",
       "5989    False\n",
       "5990    False\n",
       "5991    False\n",
       "5992    False\n",
       "5993    False\n",
       "5994    False\n",
       "5995    False\n",
       "5996    False\n",
       "5997    False\n",
       "5998    False\n",
       "5999    False\n",
       "Name: rating, dtype: bool"
      ]
     },
     "execution_count": 11,
     "metadata": {},
     "output_type": "execute_result"
    }
   ],
   "source": [
    "df['rating'] < 3"
   ]
  },
  {
   "cell_type": "code",
   "execution_count": 12,
   "metadata": {},
   "outputs": [
    {
     "data": {
      "text/plain": [
       "pandas.core.series.Series"
      ]
     },
     "execution_count": 12,
     "metadata": {},
     "output_type": "execute_result"
    }
   ],
   "source": [
    "type(df['rating'] < 3)"
   ]
  },
  {
   "cell_type": "markdown",
   "metadata": {},
   "source": [
    "#### 通过mask过滤数据，只保留rating小于3的子集"
   ]
  },
  {
   "cell_type": "code",
   "execution_count": 13,
   "metadata": {},
   "outputs": [
    {
     "data": {
      "text/html": [
       "<div>\n",
       "<table border=\"1\" class=\"dataframe\">\n",
       "  <thead>\n",
       "    <tr style=\"text-align: right;\">\n",
       "      <th></th>\n",
       "      <th>rating</th>\n",
       "      <th>review_count</th>\n",
       "      <th>isbn</th>\n",
       "      <th>booktype</th>\n",
       "      <th>author_url</th>\n",
       "      <th>year</th>\n",
       "      <th>genre_urls</th>\n",
       "      <th>dir</th>\n",
       "      <th>rating_count</th>\n",
       "      <th>name</th>\n",
       "    </tr>\n",
       "  </thead>\n",
       "  <tbody>\n",
       "    <tr>\n",
       "      <th>2609</th>\n",
       "      <td>2.90</td>\n",
       "      <td>8</td>\n",
       "      <td>NaN</td>\n",
       "      <td>good_reads:book</td>\n",
       "      <td>https://www.goodreads.com/author/show/7707820....</td>\n",
       "      <td>2013.0</td>\n",
       "      <td>/genres/romance|/genres/realistic-fiction|/gen...</td>\n",
       "      <td>dir27/19546932-how-to-be-a-perfect-girl.html</td>\n",
       "      <td>31</td>\n",
       "      <td>How To Be A Perfect Girl</td>\n",
       "    </tr>\n",
       "    <tr>\n",
       "      <th>3738</th>\n",
       "      <td>2.00</td>\n",
       "      <td>368</td>\n",
       "      <td>0983650322</td>\n",
       "      <td>good_reads:book</td>\n",
       "      <td>https://www.goodreads.com/author/show/9414.Vic...</td>\n",
       "      <td>2011.0</td>\n",
       "      <td>/genres/young-adult|/genres/science-fiction|/g...</td>\n",
       "      <td>dir38/12393909-revealing-eden.html</td>\n",
       "      <td>688</td>\n",
       "      <td>Revealing Eden (Save the Pearls, #1)</td>\n",
       "    </tr>\n",
       "    <tr>\n",
       "      <th>5844</th>\n",
       "      <td>2.97</td>\n",
       "      <td>1399</td>\n",
       "      <td>0395083621</td>\n",
       "      <td>good_reads:book</td>\n",
       "      <td>https://www.goodreads.com/author/show/30691.Ad...</td>\n",
       "      <td>1925.0</td>\n",
       "      <td>/genres/history|/genres/non-fiction|/genres/bi...</td>\n",
       "      <td>dir59/54270.Mein_Kampf.html</td>\n",
       "      <td>12417</td>\n",
       "      <td>Mein Kampf</td>\n",
       "    </tr>\n",
       "    <tr>\n",
       "      <th>5979</th>\n",
       "      <td>2.77</td>\n",
       "      <td>800</td>\n",
       "      <td>0060988649</td>\n",
       "      <td>good_reads:book</td>\n",
       "      <td>https://www.goodreads.com/author/show/7025.Gre...</td>\n",
       "      <td>2001.0</td>\n",
       "      <td>/genres/fantasy|/genres/fiction|/genres/myster...</td>\n",
       "      <td>dir60/24929.Lost.html</td>\n",
       "      <td>11128</td>\n",
       "      <td>Lost</td>\n",
       "    </tr>\n",
       "  </tbody>\n",
       "</table>\n",
       "</div>"
      ],
      "text/plain": [
       "      rating review_count        isbn         booktype                                         author_url    year                                         genre_urls                                           dir rating_count                                  name\n",
       "2609    2.90            8         NaN  good_reads:book  https://www.goodreads.com/author/show/7707820....  2013.0  /genres/romance|/genres/realistic-fiction|/gen...  dir27/19546932-how-to-be-a-perfect-girl.html           31              How To Be A Perfect Girl\n",
       "3738    2.00          368  0983650322  good_reads:book  https://www.goodreads.com/author/show/9414.Vic...  2011.0  /genres/young-adult|/genres/science-fiction|/g...            dir38/12393909-revealing-eden.html          688  Revealing Eden (Save the Pearls, #1)\n",
       "5844    2.97         1399  0395083621  good_reads:book  https://www.goodreads.com/author/show/30691.Ad...  1925.0  /genres/history|/genres/non-fiction|/genres/bi...                   dir59/54270.Mein_Kampf.html        12417                            Mein Kampf\n",
       "5979    2.77          800  0060988649  good_reads:book  https://www.goodreads.com/author/show/7025.Gre...  2001.0  /genres/fantasy|/genres/fiction|/genres/myster...                         dir60/24929.Lost.html        11128                                  Lost"
      ]
     },
     "execution_count": 13,
     "metadata": {},
     "output_type": "execute_result"
    }
   ],
   "source": [
    "df[df['rating'] < 3]"
   ]
  },
  {
   "cell_type": "code",
   "execution_count": 14,
   "metadata": {},
   "outputs": [
    {
     "data": {
      "text/plain": [
       "4"
      ]
     },
     "execution_count": 14,
     "metadata": {},
     "output_type": "execute_result"
    }
   ],
   "source": [
    "np.sum(df['rating']< 3)"
   ]
  },
  {
   "cell_type": "code",
   "execution_count": 15,
   "metadata": {},
   "outputs": [
    {
     "data": {
      "text/plain": [
       "0.00066666666666666664"
      ]
     },
     "execution_count": 15,
     "metadata": {},
     "output_type": "execute_result"
    }
   ],
   "source": [
    "np.sum(df['rating'] < 3) / df.shape[0]"
   ]
  },
  {
   "cell_type": "code",
   "execution_count": 16,
   "metadata": {},
   "outputs": [
    {
     "data": {
      "text/plain": [
       "0.00066666666666666664"
      ]
     },
     "execution_count": 16,
     "metadata": {},
     "output_type": "execute_result"
    }
   ],
   "source": [
    "np.mean(df['rating'] < 3)"
   ]
  },
  {
   "cell_type": "code",
   "execution_count": 17,
   "metadata": {},
   "outputs": [
    {
     "data": {
      "text/plain": [
       "0.00066666666666666664"
      ]
     },
     "execution_count": 17,
     "metadata": {},
     "output_type": "execute_result"
    }
   ],
   "source": [
    "(df['rating'] < 3).mean()"
   ]
  },
  {
   "cell_type": "markdown",
   "metadata": {},
   "source": [
    "#### 两种方法过滤数据\n",
    "- df.query('column_name' > xx)\n",
    "- df[df['column_name'] > xx]"
   ]
  },
  {
   "cell_type": "code",
   "execution_count": 18,
   "metadata": {},
   "outputs": [
    {
     "data": {
      "text/html": [
       "<div>\n",
       "<table border=\"1\" class=\"dataframe\">\n",
       "  <thead>\n",
       "    <tr style=\"text-align: right;\">\n",
       "      <th></th>\n",
       "      <th>rating</th>\n",
       "      <th>review_count</th>\n",
       "      <th>isbn</th>\n",
       "      <th>booktype</th>\n",
       "      <th>author_url</th>\n",
       "      <th>year</th>\n",
       "      <th>genre_urls</th>\n",
       "      <th>dir</th>\n",
       "      <th>rating_count</th>\n",
       "      <th>name</th>\n",
       "    </tr>\n",
       "  </thead>\n",
       "  <tbody>\n",
       "    <tr>\n",
       "      <th>17</th>\n",
       "      <td>4.58</td>\n",
       "      <td>1314</td>\n",
       "      <td>0345538374</td>\n",
       "      <td>good_reads:book</td>\n",
       "      <td>https://www.goodreads.com/author/show/656983.J...</td>\n",
       "      <td>1973.0</td>\n",
       "      <td>/genres/fantasy|/genres/classics|/genres/scien...</td>\n",
       "      <td>dir01/30.J_R_R_Tolkien_4_Book_Boxed_Set.html</td>\n",
       "      <td>68495</td>\n",
       "      <td>J.R.R. Tolkien 4-Book Boxed Set</td>\n",
       "    </tr>\n",
       "    <tr>\n",
       "      <th>162</th>\n",
       "      <td>4.55</td>\n",
       "      <td>15777</td>\n",
       "      <td>075640407X</td>\n",
       "      <td>good_reads:book</td>\n",
       "      <td>https://www.goodreads.com/author/show/108424.P...</td>\n",
       "      <td>2007.0</td>\n",
       "      <td>/genres/fantasy|/genres/fiction</td>\n",
       "      <td>dir02/186074.The_Name_of_the_Wind.html</td>\n",
       "      <td>210018</td>\n",
       "      <td>The Name of the Wind (The Kingkiller Chronicle...</td>\n",
       "    </tr>\n",
       "    <tr>\n",
       "      <th>222</th>\n",
       "      <td>4.53</td>\n",
       "      <td>15256</td>\n",
       "      <td>055357342X</td>\n",
       "      <td>good_reads:book</td>\n",
       "      <td>https://www.goodreads.com/author/show/346732.G...</td>\n",
       "      <td>2000.0</td>\n",
       "      <td>/genres/fantasy|/genres/fiction|/genres/fantas...</td>\n",
       "      <td>dir03/62291.A_Storm_of_Swords.html</td>\n",
       "      <td>327992</td>\n",
       "      <td>A Storm of Swords (A Song of Ice and Fire, #3)</td>\n",
       "    </tr>\n",
       "    <tr>\n",
       "      <th>242</th>\n",
       "      <td>4.53</td>\n",
       "      <td>5404</td>\n",
       "      <td>0545265355</td>\n",
       "      <td>good_reads:book</td>\n",
       "      <td>https://www.goodreads.com/author/show/153394.S...</td>\n",
       "      <td>2010.0</td>\n",
       "      <td>/genres/young-adult|/genres/fiction|/genres/fa...</td>\n",
       "      <td>dir03/7938275-the-hunger-games-trilogy-boxset....</td>\n",
       "      <td>102330</td>\n",
       "      <td>The Hunger Games Trilogy Boxset (The Hunger Ga...</td>\n",
       "    </tr>\n",
       "    <tr>\n",
       "      <th>249</th>\n",
       "      <td>4.80</td>\n",
       "      <td>644</td>\n",
       "      <td>0740748475</td>\n",
       "      <td>good_reads:book</td>\n",
       "      <td>https://www.goodreads.com/author/show/13778.Bi...</td>\n",
       "      <td>2005.0</td>\n",
       "      <td>/genres/sequential-art|/genres/comics|/genres/...</td>\n",
       "      <td>dir03/24812.The_Complete_Calvin_and_Hobbes.html</td>\n",
       "      <td>22674</td>\n",
       "      <td>The Complete Calvin and Hobbes</td>\n",
       "    </tr>\n",
       "    <tr>\n",
       "      <th>284</th>\n",
       "      <td>4.58</td>\n",
       "      <td>15195</td>\n",
       "      <td>1406321346</td>\n",
       "      <td>good_reads:book</td>\n",
       "      <td>https://www.goodreads.com/author/show/150038.C...</td>\n",
       "      <td>2013.0</td>\n",
       "      <td>/genres/fantasy|/genres/young-adult|/genres/fa...</td>\n",
       "      <td>dir03/18335634-clockwork-princess.html</td>\n",
       "      <td>130161</td>\n",
       "      <td>Clockwork Princess (The Infernal Devices, #3)</td>\n",
       "    </tr>\n",
       "    <tr>\n",
       "      <th>304</th>\n",
       "      <td>4.54</td>\n",
       "      <td>572</td>\n",
       "      <td>0140259449</td>\n",
       "      <td>good_reads:book</td>\n",
       "      <td>https://www.goodreads.com/author/show/1265.Jan...</td>\n",
       "      <td>1933.0</td>\n",
       "      <td>/genres/classics|/genres/fiction|/genres/roman...</td>\n",
       "      <td>dir04/14905.The_Complete_Novels.html</td>\n",
       "      <td>17539</td>\n",
       "      <td>The Complete Novels</td>\n",
       "    </tr>\n",
       "    <tr>\n",
       "      <th>386</th>\n",
       "      <td>4.55</td>\n",
       "      <td>8820</td>\n",
       "      <td>0756404738</td>\n",
       "      <td>good_reads:book</td>\n",
       "      <td>https://www.goodreads.com/author/show/108424.P...</td>\n",
       "      <td>2011.0</td>\n",
       "      <td>/genres/fantasy|/genres/fantasy|/genres/epic-f...</td>\n",
       "      <td>dir04/1215032.The_Wise_Man_s_Fear.html</td>\n",
       "      <td>142499</td>\n",
       "      <td>The Wise Man's Fear (The Kingkiller Chronicle,...</td>\n",
       "    </tr>\n",
       "    <tr>\n",
       "      <th>400</th>\n",
       "      <td>4.53</td>\n",
       "      <td>9292</td>\n",
       "      <td>1423140605</td>\n",
       "      <td>good_reads:book</td>\n",
       "      <td>https://www.goodreads.com/author/show/15872.Ri...</td>\n",
       "      <td>2012.0</td>\n",
       "      <td>/genres/fantasy|/genres/young-adult|/genres/fa...</td>\n",
       "      <td>dir05/12127750-the-mark-of-athena.html</td>\n",
       "      <td>128412</td>\n",
       "      <td>The Mark of Athena (The Heroes of Olympus, #3)</td>\n",
       "    </tr>\n",
       "    <tr>\n",
       "      <th>475</th>\n",
       "      <td>4.57</td>\n",
       "      <td>824</td>\n",
       "      <td>1416997857</td>\n",
       "      <td>good_reads:book</td>\n",
       "      <td>https://www.goodreads.com/author/show/150038.C...</td>\n",
       "      <td>2009.0</td>\n",
       "      <td>/genres/fantasy|/genres/young-adult|/genres/fa...</td>\n",
       "      <td>dir05/6485421-the-mortal-instruments-boxed-set...</td>\n",
       "      <td>39720</td>\n",
       "      <td>The Mortal Instruments Boxed Set (The Mortal I...</td>\n",
       "    </tr>\n",
       "    <tr>\n",
       "      <th>483</th>\n",
       "      <td>4.59</td>\n",
       "      <td>2622</td>\n",
       "      <td>0312362153</td>\n",
       "      <td>good_reads:book</td>\n",
       "      <td>https://www.goodreads.com/author/show/4430.She...</td>\n",
       "      <td>2008.0</td>\n",
       "      <td>/genres/romance|/genres/paranormal-romance|/ge...</td>\n",
       "      <td>dir05/2299110.Acheron.html</td>\n",
       "      <td>35028</td>\n",
       "      <td>Acheron (Dark-Hunter, #8)</td>\n",
       "    </tr>\n",
       "    <tr>\n",
       "      <th>554</th>\n",
       "      <td>4.54</td>\n",
       "      <td>4809</td>\n",
       "      <td>0385341679</td>\n",
       "      <td>good_reads:book</td>\n",
       "      <td>https://www.goodreads.com/author/show/48206.Ka...</td>\n",
       "      <td>2011.0</td>\n",
       "      <td>/genres/fantasy|/genres/urban-fantasy|/genres/...</td>\n",
       "      <td>dir06/7304203-shadowfever.html</td>\n",
       "      <td>52812</td>\n",
       "      <td>Shadowfever (Fever, #5)</td>\n",
       "    </tr>\n",
       "    <tr>\n",
       "      <th>577</th>\n",
       "      <td>4.60</td>\n",
       "      <td>5732</td>\n",
       "      <td>0765326353</td>\n",
       "      <td>good_reads:book</td>\n",
       "      <td>https://www.goodreads.com/author/show/38550.Br...</td>\n",
       "      <td>2010.0</td>\n",
       "      <td>/genres/science-fiction-fantasy|/genres/fantas...</td>\n",
       "      <td>dir06/7235533-the-way-of-kings.html</td>\n",
       "      <td>76551</td>\n",
       "      <td>The Way of Kings (The Stormlight Archive, #1)</td>\n",
       "    </tr>\n",
       "    <tr>\n",
       "      <th>620</th>\n",
       "      <td>4.54</td>\n",
       "      <td>7767</td>\n",
       "      <td>1423146727</td>\n",
       "      <td>good_reads:book</td>\n",
       "      <td>https://www.goodreads.com/author/show/15872.Ri...</td>\n",
       "      <td>2013.0</td>\n",
       "      <td>/genres/fantasy|/genres/young-adult|/genres/fa...</td>\n",
       "      <td>dir07/12127810-the-house-of-hades.html</td>\n",
       "      <td>72082</td>\n",
       "      <td>The House of Hades (The Heroes of Olympus, #4)</td>\n",
       "    </tr>\n",
       "    <tr>\n",
       "      <th>840</th>\n",
       "      <td>4.57</td>\n",
       "      <td>431</td>\n",
       "      <td>1423113497</td>\n",
       "      <td>good_reads:book</td>\n",
       "      <td>https://www.goodreads.com/author/show/15872.Ri...</td>\n",
       "      <td>2008.0</td>\n",
       "      <td>/genres/fantasy|/genres/young-adult|/genres/fa...</td>\n",
       "      <td>dir09/3165162-percy-jackson-and-the-olympians-...</td>\n",
       "      <td>22937</td>\n",
       "      <td>Percy Jackson and the Olympians Boxed Set (Per...</td>\n",
       "    </tr>\n",
       "    <tr>\n",
       "      <th>883</th>\n",
       "      <td>4.58</td>\n",
       "      <td>558</td>\n",
       "      <td>0140286802</td>\n",
       "      <td>good_reads:book</td>\n",
       "      <td>https://www.goodreads.com/author/show/500.Jorg...</td>\n",
       "      <td>1998.0</td>\n",
       "      <td>/genres/short-stories|/genres/literature|/genr...</td>\n",
       "      <td>dir09/17961.Collected_Fictions.html</td>\n",
       "      <td>12596</td>\n",
       "      <td>Collected Fictions</td>\n",
       "    </tr>\n",
       "    <tr>\n",
       "      <th>911</th>\n",
       "      <td>4.85</td>\n",
       "      <td>26</td>\n",
       "      <td>1491732954</td>\n",
       "      <td>good_reads:book</td>\n",
       "      <td>https://www.goodreads.com/author/show/8189303....</td>\n",
       "      <td>2014.0</td>\n",
       "      <td>/genres/fiction</td>\n",
       "      <td>dir10/22242097-honor-and-polygamy.html</td>\n",
       "      <td>97</td>\n",
       "      <td>Honor and Polygamy</td>\n",
       "    </tr>\n",
       "    <tr>\n",
       "      <th>935</th>\n",
       "      <td>4.64</td>\n",
       "      <td>148</td>\n",
       "      <td>1595142711</td>\n",
       "      <td>good_reads:book</td>\n",
       "      <td>https://www.goodreads.com/author/show/137902.R...</td>\n",
       "      <td>2009.0</td>\n",
       "      <td>/genres/paranormal|/genres/vampires|/genres/yo...</td>\n",
       "      <td>dir10/6339989-vampire-academy-collection.html</td>\n",
       "      <td>21743</td>\n",
       "      <td>Vampire Academy Collection (Vampire Academy, #...</td>\n",
       "    </tr>\n",
       "    <tr>\n",
       "      <th>938</th>\n",
       "      <td>4.51</td>\n",
       "      <td>11011</td>\n",
       "      <td>1481426303</td>\n",
       "      <td>good_reads:book</td>\n",
       "      <td>https://www.goodreads.com/author/show/150038.C...</td>\n",
       "      <td>2014.0</td>\n",
       "      <td>/genres/fantasy|/genres/young-adult|/genres/fa...</td>\n",
       "      <td>dir10/8755785-city-of-heavenly-fire.html</td>\n",
       "      <td>69924</td>\n",
       "      <td>City of Heavenly Fire (The Mortal Instruments,...</td>\n",
       "    </tr>\n",
       "    <tr>\n",
       "      <th>953</th>\n",
       "      <td>4.56</td>\n",
       "      <td>27</td>\n",
       "      <td>1477276068</td>\n",
       "      <td>good_reads:book</td>\n",
       "      <td>https://www.goodreads.com/author/show/6621980....</td>\n",
       "      <td>2012.0</td>\n",
       "      <td>NaN</td>\n",
       "      <td>dir10/16243767-crossing-the-seas.html</td>\n",
       "      <td>90</td>\n",
       "      <td>Crossing the Seas</td>\n",
       "    </tr>\n",
       "    <tr>\n",
       "      <th>958</th>\n",
       "      <td>4.57</td>\n",
       "      <td>38199</td>\n",
       "      <td>0545010225</td>\n",
       "      <td>good_reads:book</td>\n",
       "      <td>https://www.goodreads.com/author/show/1077326....</td>\n",
       "      <td>2007.0</td>\n",
       "      <td>/genres/fantasy|/genres/young-adult|/genres/fa...</td>\n",
       "      <td>dir10/136251.Harry_Potter_and_the_Deathly_Hall...</td>\n",
       "      <td>1245866</td>\n",
       "      <td>Harry Potter and the Deathly Hallows (Harry Po...</td>\n",
       "    </tr>\n",
       "    <tr>\n",
       "      <th>1033</th>\n",
       "      <td>4.56</td>\n",
       "      <td>1304</td>\n",
       "      <td>0007119550</td>\n",
       "      <td>good_reads:book</td>\n",
       "      <td>https://www.goodreads.com/author/show/346732.G...</td>\n",
       "      <td>2000.0</td>\n",
       "      <td>/genres/fiction|/genres/fantasy|/genres/epic-f...</td>\n",
       "      <td>dir11/147915.A_Storm_of_Swords.html</td>\n",
       "      <td>41161</td>\n",
       "      <td>A Storm of Swords (A Song of Ice and Fire, #3-2)</td>\n",
       "    </tr>\n",
       "    <tr>\n",
       "      <th>1109</th>\n",
       "      <td>4.70</td>\n",
       "      <td>23</td>\n",
       "      <td>NaN</td>\n",
       "      <td>good_reads:book</td>\n",
       "      <td>https://www.goodreads.com/author/show/7488658....</td>\n",
       "      <td>2013.0</td>\n",
       "      <td>/genres/romance</td>\n",
       "      <td>dir12/19181419-a-bird-without-wings.html</td>\n",
       "      <td>56</td>\n",
       "      <td>A Bird Without Wings</td>\n",
       "    </tr>\n",
       "    <tr>\n",
       "      <th>1127</th>\n",
       "      <td>4.52</td>\n",
       "      <td>644</td>\n",
       "      <td>0141183047</td>\n",
       "      <td>good_reads:book</td>\n",
       "      <td>https://www.goodreads.com/author/show/7816.Fer...</td>\n",
       "      <td>1982.0</td>\n",
       "      <td>/genres/poetry|/genres/fiction|/genres/philoso...</td>\n",
       "      <td>dir12/45974.The_Book_of_Disquiet.html</td>\n",
       "      <td>7463</td>\n",
       "      <td>The Book of Disquiet</td>\n",
       "    </tr>\n",
       "    <tr>\n",
       "      <th>1151</th>\n",
       "      <td>4.64</td>\n",
       "      <td>84</td>\n",
       "      <td>1491877928</td>\n",
       "      <td>good_reads:book</td>\n",
       "      <td>https://www.goodreads.com/author/show/7271860....</td>\n",
       "      <td>2013.0</td>\n",
       "      <td>/genres/war|/genres/historical-fiction|/genres...</td>\n",
       "      <td>dir12/18501652-the-guardian-of-secrets-and-her...</td>\n",
       "      <td>167</td>\n",
       "      <td>The Guardian of Secrets and Her Deathly Pact</td>\n",
       "    </tr>\n",
       "    <tr>\n",
       "      <th>1186</th>\n",
       "      <td>4.51</td>\n",
       "      <td>4853</td>\n",
       "      <td>1619630621</td>\n",
       "      <td>good_reads:book</td>\n",
       "      <td>https://www.goodreads.com/author/show/3433047....</td>\n",
       "      <td>2013.0</td>\n",
       "      <td>/genres/fantasy|/genres/young-adult|/genres/ro...</td>\n",
       "      <td>dir12/17167166-crown-of-midnight.html</td>\n",
       "      <td>34142</td>\n",
       "      <td>Crown of Midnight (Throne of Glass, #2)</td>\n",
       "    </tr>\n",
       "    <tr>\n",
       "      <th>1202</th>\n",
       "      <td>4.59</td>\n",
       "      <td>1260</td>\n",
       "      <td>0310902711</td>\n",
       "      <td>good_reads:book</td>\n",
       "      <td>https://www.goodreads.com/author/show/5158478....</td>\n",
       "      <td>1972.0</td>\n",
       "      <td>/genres/religion|/genres/christian|/genres/non...</td>\n",
       "      <td>dir13/280111.Holy_Bible.html</td>\n",
       "      <td>25584</td>\n",
       "      <td>Holy Bible</td>\n",
       "    </tr>\n",
       "    <tr>\n",
       "      <th>1260</th>\n",
       "      <td>4.60</td>\n",
       "      <td>1943</td>\n",
       "      <td>0842377506</td>\n",
       "      <td>good_reads:book</td>\n",
       "      <td>https://www.goodreads.com/author/show/6492.Fra...</td>\n",
       "      <td>1993.0</td>\n",
       "      <td>/genres/christian-fiction|/genres/historical-f...</td>\n",
       "      <td>dir13/95617.A_Voice_in_the_Wind.html</td>\n",
       "      <td>37923</td>\n",
       "      <td>A Voice in the Wind (Mark of the Lion, #1)</td>\n",
       "    </tr>\n",
       "    <tr>\n",
       "      <th>1268</th>\n",
       "      <td>4.52</td>\n",
       "      <td>215</td>\n",
       "      <td>1557091528</td>\n",
       "      <td>good_reads:book</td>\n",
       "      <td>https://www.goodreads.com/author/show/63859.Ja...</td>\n",
       "      <td>1787.0</td>\n",
       "      <td>/genres/history|/genres/non-fiction|/genres/po...</td>\n",
       "      <td>dir13/89959.The_Constitution_of_the_United_Sta...</td>\n",
       "      <td>12894</td>\n",
       "      <td>The Constitution of the United States of America</td>\n",
       "    </tr>\n",
       "    <tr>\n",
       "      <th>1300</th>\n",
       "      <td>4.61</td>\n",
       "      <td>24</td>\n",
       "      <td>1499227299</td>\n",
       "      <td>good_reads:book</td>\n",
       "      <td>https://www.goodreads.com/author/show/7414345....</td>\n",
       "      <td>2014.0</td>\n",
       "      <td>/genres/paranormal|/genres/vampires|/genres/pa...</td>\n",
       "      <td>dir14/22090082-vampire-princess-rising.html</td>\n",
       "      <td>128</td>\n",
       "      <td>Vampire Princess Rising (The Winters Family Sa...</td>\n",
       "    </tr>\n",
       "    <tr>\n",
       "      <th>...</th>\n",
       "      <td>...</td>\n",
       "      <td>...</td>\n",
       "      <td>...</td>\n",
       "      <td>...</td>\n",
       "      <td>...</td>\n",
       "      <td>...</td>\n",
       "      <td>...</td>\n",
       "      <td>...</td>\n",
       "      <td>...</td>\n",
       "      <td>...</td>\n",
       "    </tr>\n",
       "    <tr>\n",
       "      <th>5532</th>\n",
       "      <td>4.86</td>\n",
       "      <td>4</td>\n",
       "      <td>1477504540</td>\n",
       "      <td>good_reads:book</td>\n",
       "      <td>https://www.goodreads.com/author/show/5989528....</td>\n",
       "      <td>2013.0</td>\n",
       "      <td>NaN</td>\n",
       "      <td>dir56/17695243-call-of-the-lost-ages.html</td>\n",
       "      <td>7</td>\n",
       "      <td>Call Of The Lost Ages</td>\n",
       "    </tr>\n",
       "    <tr>\n",
       "      <th>5549</th>\n",
       "      <td>4.62</td>\n",
       "      <td>13</td>\n",
       "      <td>0882408704</td>\n",
       "      <td>good_reads:book</td>\n",
       "      <td>https://www.goodreads.com/author/show/947.Will...</td>\n",
       "      <td>1899.0</td>\n",
       "      <td>/genres/classics|/genres/fiction|/genres/poetr...</td>\n",
       "      <td>dir56/17134346-the-complete-works-of-william-s...</td>\n",
       "      <td>217</td>\n",
       "      <td>The Complete Works of William Shakespeare</td>\n",
       "    </tr>\n",
       "    <tr>\n",
       "      <th>5557</th>\n",
       "      <td>4.61</td>\n",
       "      <td>14</td>\n",
       "      <td>NaN</td>\n",
       "      <td>good_reads:book</td>\n",
       "      <td>https://www.goodreads.com/author/show/32401.Al...</td>\n",
       "      <td>2006.0</td>\n",
       "      <td>/genres/fantasy|/genres/young-adult</td>\n",
       "      <td>dir56/13488552-the-books-of-pellinor.html</td>\n",
       "      <td>394</td>\n",
       "      <td>The Books of Pellinor</td>\n",
       "    </tr>\n",
       "    <tr>\n",
       "      <th>5563</th>\n",
       "      <td>4.70</td>\n",
       "      <td>30</td>\n",
       "      <td>NaN</td>\n",
       "      <td>good_reads:book</td>\n",
       "      <td>https://www.goodreads.com/author/show/7153266....</td>\n",
       "      <td>2014.0</td>\n",
       "      <td>/genres/childrens</td>\n",
       "      <td>dir56/20445451-children-s-book.html</td>\n",
       "      <td>57</td>\n",
       "      <td>Children's book</td>\n",
       "    </tr>\n",
       "    <tr>\n",
       "      <th>5564</th>\n",
       "      <td>5.00</td>\n",
       "      <td>9</td>\n",
       "      <td>NaN</td>\n",
       "      <td>good_reads:book</td>\n",
       "      <td>https://www.goodreads.com/author/show/7738947....</td>\n",
       "      <td>2014.0</td>\n",
       "      <td>/genres/romance|/genres/new-adult</td>\n",
       "      <td>dir56/21902777-untainted.html</td>\n",
       "      <td>14</td>\n",
       "      <td>Untainted (Photographer Trilogy, #3)</td>\n",
       "    </tr>\n",
       "    <tr>\n",
       "      <th>5584</th>\n",
       "      <td>4.75</td>\n",
       "      <td>3</td>\n",
       "      <td>1481959824</td>\n",
       "      <td>good_reads:book</td>\n",
       "      <td>https://www.goodreads.com/author/show/5100743....</td>\n",
       "      <td>2013.0</td>\n",
       "      <td>NaN</td>\n",
       "      <td>dir56/17606460-why-not-world.html</td>\n",
       "      <td>8</td>\n",
       "      <td>Why Not-World</td>\n",
       "    </tr>\n",
       "    <tr>\n",
       "      <th>5588</th>\n",
       "      <td>4.66</td>\n",
       "      <td>190</td>\n",
       "      <td>NaN</td>\n",
       "      <td>good_reads:book</td>\n",
       "      <td>https://www.goodreads.com/author/show/4942228....</td>\n",
       "      <td>2011.0</td>\n",
       "      <td>/genres/romance|/genres/m-m-romance|/genres/sc...</td>\n",
       "      <td>dir56/11737700-fade.html</td>\n",
       "      <td>996</td>\n",
       "      <td>Fade (In the company of shadows, #4)</td>\n",
       "    </tr>\n",
       "    <tr>\n",
       "      <th>5591</th>\n",
       "      <td>4.58</td>\n",
       "      <td>31</td>\n",
       "      <td>1500118680</td>\n",
       "      <td>good_reads:book</td>\n",
       "      <td>https://www.goodreads.com/author/show/7738947....</td>\n",
       "      <td>2014.0</td>\n",
       "      <td>/genres/romance|/genres/new-adult</td>\n",
       "      <td>dir56/22023804-logan-s-story.html</td>\n",
       "      <td>45</td>\n",
       "      <td>Logan's Story (Sand &amp; Clay, #0.5)</td>\n",
       "    </tr>\n",
       "    <tr>\n",
       "      <th>5601</th>\n",
       "      <td>4.66</td>\n",
       "      <td>312</td>\n",
       "      <td>0842384898</td>\n",
       "      <td>good_reads:book</td>\n",
       "      <td>https://www.goodreads.com/author/show/5158478....</td>\n",
       "      <td>1902.0</td>\n",
       "      <td>/genres/christian|/genres/religion|/genres/non...</td>\n",
       "      <td>dir57/930470.Holy_Bible.html</td>\n",
       "      <td>2666</td>\n",
       "      <td>Holy Bible</td>\n",
       "    </tr>\n",
       "    <tr>\n",
       "      <th>5607</th>\n",
       "      <td>4.66</td>\n",
       "      <td>513</td>\n",
       "      <td>0007444397</td>\n",
       "      <td>good_reads:book</td>\n",
       "      <td>https://www.goodreads.com/author/show/4659154....</td>\n",
       "      <td>2011.0</td>\n",
       "      <td>/genres/non-fiction|/genres/biography</td>\n",
       "      <td>dir57/11792612-dare-to-dream.html</td>\n",
       "      <td>5572</td>\n",
       "      <td>Dare to Dream (100% Official)</td>\n",
       "    </tr>\n",
       "    <tr>\n",
       "      <th>5619</th>\n",
       "      <td>4.52</td>\n",
       "      <td>462</td>\n",
       "      <td>0991190920</td>\n",
       "      <td>good_reads:book</td>\n",
       "      <td>https://www.goodreads.com/author/show/7092218....</td>\n",
       "      <td>2014.0</td>\n",
       "      <td>/genres/fantasy|/genres/paranormal|/genres/fai...</td>\n",
       "      <td>dir57/18188649-escaping-destiny.html</td>\n",
       "      <td>3795</td>\n",
       "      <td>Escaping Destiny (The Fae Chronicles, #3)</td>\n",
       "    </tr>\n",
       "    <tr>\n",
       "      <th>5635</th>\n",
       "      <td>4.54</td>\n",
       "      <td>958</td>\n",
       "      <td>0778315703</td>\n",
       "      <td>good_reads:book</td>\n",
       "      <td>https://www.goodreads.com/author/show/4480131....</td>\n",
       "      <td>2013.0</td>\n",
       "      <td>/genres/erotica|/genres/bdsm|/genres/adult-fic...</td>\n",
       "      <td>dir57/17251444-the-mistress.html</td>\n",
       "      <td>4869</td>\n",
       "      <td>The Mistress (The Original Sinners, #4)</td>\n",
       "    </tr>\n",
       "    <tr>\n",
       "      <th>5642</th>\n",
       "      <td>4.70</td>\n",
       "      <td>158</td>\n",
       "      <td>1417642165</td>\n",
       "      <td>good_reads:book</td>\n",
       "      <td>https://www.goodreads.com/author/show/13778.Bi...</td>\n",
       "      <td>1992.0</td>\n",
       "      <td>/genres/sequential-art|/genres/comics|/genres/...</td>\n",
       "      <td>dir57/70487.Calvin_and_Hobbes.html</td>\n",
       "      <td>9224</td>\n",
       "      <td>Calvin and Hobbes</td>\n",
       "    </tr>\n",
       "    <tr>\n",
       "      <th>5657</th>\n",
       "      <td>4.80</td>\n",
       "      <td>8</td>\n",
       "      <td>1469908530</td>\n",
       "      <td>good_reads:book</td>\n",
       "      <td>https://www.goodreads.com/author/show/4695431....</td>\n",
       "      <td>2012.0</td>\n",
       "      <td>/genres/fantasy</td>\n",
       "      <td>dir57/15734769-myrtle-mae-and-the-mirror-in-th...</td>\n",
       "      <td>10</td>\n",
       "      <td>Myrtle Mae and the Mirror in the Attic (The Ma...</td>\n",
       "    </tr>\n",
       "    <tr>\n",
       "      <th>5665</th>\n",
       "      <td>4.53</td>\n",
       "      <td>61</td>\n",
       "      <td>NaN</td>\n",
       "      <td>good_reads:book</td>\n",
       "      <td>https://www.goodreads.com/author/show/7738947....</td>\n",
       "      <td>2014.0</td>\n",
       "      <td>/genres/romance|/genres/new-adult|/genres/myst...</td>\n",
       "      <td>dir57/20975446-tainted-pictures.html</td>\n",
       "      <td>103</td>\n",
       "      <td>Tainted Pictures (Photographer Trilogy, #2)</td>\n",
       "    </tr>\n",
       "    <tr>\n",
       "      <th>5683</th>\n",
       "      <td>4.56</td>\n",
       "      <td>204</td>\n",
       "      <td>NaN</td>\n",
       "      <td>good_reads:book</td>\n",
       "      <td>https://www.goodreads.com/author/show/3097905....</td>\n",
       "      <td>NaN</td>\n",
       "      <td>/genres/fantasy|/genres/young-adult|/genres/ro...</td>\n",
       "      <td>dir57/12474623-tiger-s-dream.html</td>\n",
       "      <td>895</td>\n",
       "      <td>Tiger's Dream (The Tiger Saga, #5)</td>\n",
       "    </tr>\n",
       "    <tr>\n",
       "      <th>5692</th>\n",
       "      <td>5.00</td>\n",
       "      <td>0</td>\n",
       "      <td>NaN</td>\n",
       "      <td>good_reads:book</td>\n",
       "      <td>https://www.goodreads.com/author/show/5989528....</td>\n",
       "      <td>2012.0</td>\n",
       "      <td>NaN</td>\n",
       "      <td>dir57/14288412-abstraction-in-theory---laws-of...</td>\n",
       "      <td>6</td>\n",
       "      <td>Abstraction In Theory - Laws Of Physical Trans...</td>\n",
       "    </tr>\n",
       "    <tr>\n",
       "      <th>5716</th>\n",
       "      <td>4.67</td>\n",
       "      <td>34</td>\n",
       "      <td>0810117134</td>\n",
       "      <td>good_reads:book</td>\n",
       "      <td>https://www.goodreads.com/author/show/205563.M...</td>\n",
       "      <td>1970.0</td>\n",
       "      <td>/genres/classics|/genres/fiction|/genres/histo...</td>\n",
       "      <td>dir58/1679497.The_Fortress.html</td>\n",
       "      <td>1335</td>\n",
       "      <td>The Fortress</td>\n",
       "    </tr>\n",
       "    <tr>\n",
       "      <th>5717</th>\n",
       "      <td>4.71</td>\n",
       "      <td>4</td>\n",
       "      <td>NaN</td>\n",
       "      <td>good_reads:book</td>\n",
       "      <td>https://www.goodreads.com/author/show/5838022....</td>\n",
       "      <td>2012.0</td>\n",
       "      <td>NaN</td>\n",
       "      <td>dir58/13741511-american-amaranth.html</td>\n",
       "      <td>14</td>\n",
       "      <td>American Amaranth</td>\n",
       "    </tr>\n",
       "    <tr>\n",
       "      <th>5718</th>\n",
       "      <td>4.60</td>\n",
       "      <td>656</td>\n",
       "      <td>1613725132</td>\n",
       "      <td>good_reads:book</td>\n",
       "      <td>https://www.goodreads.com/author/show/1122775....</td>\n",
       "      <td>2012.0</td>\n",
       "      <td>/genres/romance|/genres/m-m-romance|/genres/ro...</td>\n",
       "      <td>dir58/13246997-armed-dangerous.html</td>\n",
       "      <td>5268</td>\n",
       "      <td>Armed &amp; Dangerous (Cut &amp; Run, #5)</td>\n",
       "    </tr>\n",
       "    <tr>\n",
       "      <th>5726</th>\n",
       "      <td>4.55</td>\n",
       "      <td>106</td>\n",
       "      <td>1594170347</td>\n",
       "      <td>good_reads:book</td>\n",
       "      <td>https://www.goodreads.com/author/show/5158478....</td>\n",
       "      <td>1952.0</td>\n",
       "      <td>/genres/religion|/genres/reference|/genres/rel...</td>\n",
       "      <td>dir58/147635.Holy_Bible.html</td>\n",
       "      <td>1750</td>\n",
       "      <td>Holy Bible</td>\n",
       "    </tr>\n",
       "    <tr>\n",
       "      <th>5729</th>\n",
       "      <td>4.83</td>\n",
       "      <td>16</td>\n",
       "      <td>NaN</td>\n",
       "      <td>good_reads:book</td>\n",
       "      <td>https://www.goodreads.com/author/show/7058502....</td>\n",
       "      <td>2014.0</td>\n",
       "      <td>NaN</td>\n",
       "      <td>dir58/22312293-the-keeper.html</td>\n",
       "      <td>29</td>\n",
       "      <td>The Keeper (The Keeper, #5)</td>\n",
       "    </tr>\n",
       "    <tr>\n",
       "      <th>5753</th>\n",
       "      <td>4.61</td>\n",
       "      <td>811</td>\n",
       "      <td>1937551865</td>\n",
       "      <td>good_reads:book</td>\n",
       "      <td>https://www.goodreads.com/author/show/1122775....</td>\n",
       "      <td>2013.0</td>\n",
       "      <td>/genres/romance|/genres/m-m-romance|/genres/ro...</td>\n",
       "      <td>dir58/16159276-touch-geaux.html</td>\n",
       "      <td>4212</td>\n",
       "      <td>Touch &amp; Geaux (Cut &amp; Run, #7)</td>\n",
       "    </tr>\n",
       "    <tr>\n",
       "      <th>5764</th>\n",
       "      <td>4.54</td>\n",
       "      <td>228</td>\n",
       "      <td>NaN</td>\n",
       "      <td>good_reads:book</td>\n",
       "      <td>https://www.goodreads.com/author/show/2112402....</td>\n",
       "      <td>2013.0</td>\n",
       "      <td>/genres/non-fiction|/genres/self-help|/genres/...</td>\n",
       "      <td>dir58/18479831-staying-strong.html</td>\n",
       "      <td>2343</td>\n",
       "      <td>Staying Strong</td>\n",
       "    </tr>\n",
       "    <tr>\n",
       "      <th>5778</th>\n",
       "      <td>4.63</td>\n",
       "      <td>0</td>\n",
       "      <td>NaN</td>\n",
       "      <td>good_reads:book</td>\n",
       "      <td>https://www.goodreads.com/author/show/4808225....</td>\n",
       "      <td>2010.0</td>\n",
       "      <td>NaN</td>\n",
       "      <td>dir58/11187937-un-spoken.html</td>\n",
       "      <td>19</td>\n",
       "      <td>(Un) Spoken</td>\n",
       "    </tr>\n",
       "    <tr>\n",
       "      <th>5806</th>\n",
       "      <td>4.57</td>\n",
       "      <td>121</td>\n",
       "      <td>0679777458</td>\n",
       "      <td>good_reads:book</td>\n",
       "      <td>https://www.goodreads.com/author/show/8361.Dor...</td>\n",
       "      <td>1966.0</td>\n",
       "      <td>/genres/historical-fiction|/genres/fiction|/ge...</td>\n",
       "      <td>dir59/351211.The_Disorderly_Knights.html</td>\n",
       "      <td>2177</td>\n",
       "      <td>The Disorderly Knights (The Lymond Chronicles,...</td>\n",
       "    </tr>\n",
       "    <tr>\n",
       "      <th>5873</th>\n",
       "      <td>4.55</td>\n",
       "      <td>103</td>\n",
       "      <td>144247372X</td>\n",
       "      <td>good_reads:book</td>\n",
       "      <td>https://www.goodreads.com/author/show/2876763....</td>\n",
       "      <td>2012.0</td>\n",
       "      <td>/genres/fantasy|/genres/paranormal|/genres/ang...</td>\n",
       "      <td>dir59/14367071-the-complete-hush-hush-saga.html</td>\n",
       "      <td>2869</td>\n",
       "      <td>The Complete Hush, Hush Saga</td>\n",
       "    </tr>\n",
       "    <tr>\n",
       "      <th>5874</th>\n",
       "      <td>4.78</td>\n",
       "      <td>18</td>\n",
       "      <td>2851944371</td>\n",
       "      <td>good_reads:book</td>\n",
       "      <td>https://www.goodreads.com/author/show/318835.O...</td>\n",
       "      <td>1972.0</td>\n",
       "      <td>/genres/poetry|/genres/fiction|/genres/nobel-p...</td>\n",
       "      <td>dir59/2014000.Le_Monogramme.html</td>\n",
       "      <td>565</td>\n",
       "      <td>Le Monogramme</td>\n",
       "    </tr>\n",
       "    <tr>\n",
       "      <th>5880</th>\n",
       "      <td>4.61</td>\n",
       "      <td>123</td>\n",
       "      <td>NaN</td>\n",
       "      <td>good_reads:book</td>\n",
       "      <td>https://www.goodreads.com/author/show/4942228....</td>\n",
       "      <td>2010.0</td>\n",
       "      <td>/genres/romance|/genres/m-m-romance|/genres/sc...</td>\n",
       "      <td>dir59/10506860-the-interludes.html</td>\n",
       "      <td>1031</td>\n",
       "      <td>The Interludes (In the company of shadows, #3)</td>\n",
       "    </tr>\n",
       "    <tr>\n",
       "      <th>5957</th>\n",
       "      <td>4.72</td>\n",
       "      <td>104</td>\n",
       "      <td>178048044X</td>\n",
       "      <td>good_reads:book</td>\n",
       "      <td>https://www.goodreads.com/author/show/20248.J_...</td>\n",
       "      <td>2010.0</td>\n",
       "      <td>/genres/romance|/genres/paranormal|/genres/vam...</td>\n",
       "      <td>dir60/10780042-j-r-ward-collection.html</td>\n",
       "      <td>1788</td>\n",
       "      <td>J. R. Ward Collection</td>\n",
       "    </tr>\n",
       "  </tbody>\n",
       "</table>\n",
       "<p>224 rows × 10 columns</p>\n",
       "</div>"
      ],
      "text/plain": [
       "      rating review_count        isbn         booktype                                         author_url    year                                         genre_urls                                                dir rating_count                                               name\n",
       "17      4.58         1314  0345538374  good_reads:book  https://www.goodreads.com/author/show/656983.J...  1973.0  /genres/fantasy|/genres/classics|/genres/scien...       dir01/30.J_R_R_Tolkien_4_Book_Boxed_Set.html        68495                    J.R.R. Tolkien 4-Book Boxed Set\n",
       "162     4.55        15777  075640407X  good_reads:book  https://www.goodreads.com/author/show/108424.P...  2007.0                    /genres/fantasy|/genres/fiction             dir02/186074.The_Name_of_the_Wind.html       210018  The Name of the Wind (The Kingkiller Chronicle...\n",
       "222     4.53        15256  055357342X  good_reads:book  https://www.goodreads.com/author/show/346732.G...  2000.0  /genres/fantasy|/genres/fiction|/genres/fantas...                 dir03/62291.A_Storm_of_Swords.html       327992     A Storm of Swords (A Song of Ice and Fire, #3)\n",
       "242     4.53         5404  0545265355  good_reads:book  https://www.goodreads.com/author/show/153394.S...  2010.0  /genres/young-adult|/genres/fiction|/genres/fa...  dir03/7938275-the-hunger-games-trilogy-boxset....       102330  The Hunger Games Trilogy Boxset (The Hunger Ga...\n",
       "249     4.80          644  0740748475  good_reads:book  https://www.goodreads.com/author/show/13778.Bi...  2005.0  /genres/sequential-art|/genres/comics|/genres/...    dir03/24812.The_Complete_Calvin_and_Hobbes.html        22674                     The Complete Calvin and Hobbes\n",
       "284     4.58        15195  1406321346  good_reads:book  https://www.goodreads.com/author/show/150038.C...  2013.0  /genres/fantasy|/genres/young-adult|/genres/fa...             dir03/18335634-clockwork-princess.html       130161      Clockwork Princess (The Infernal Devices, #3)\n",
       "304     4.54          572  0140259449  good_reads:book  https://www.goodreads.com/author/show/1265.Jan...  1933.0  /genres/classics|/genres/fiction|/genres/roman...               dir04/14905.The_Complete_Novels.html        17539                                The Complete Novels\n",
       "386     4.55         8820  0756404738  good_reads:book  https://www.goodreads.com/author/show/108424.P...  2011.0  /genres/fantasy|/genres/fantasy|/genres/epic-f...             dir04/1215032.The_Wise_Man_s_Fear.html       142499  The Wise Man's Fear (The Kingkiller Chronicle,...\n",
       "400     4.53         9292  1423140605  good_reads:book  https://www.goodreads.com/author/show/15872.Ri...  2012.0  /genres/fantasy|/genres/young-adult|/genres/fa...             dir05/12127750-the-mark-of-athena.html       128412     The Mark of Athena (The Heroes of Olympus, #3)\n",
       "475     4.57          824  1416997857  good_reads:book  https://www.goodreads.com/author/show/150038.C...  2009.0  /genres/fantasy|/genres/young-adult|/genres/fa...  dir05/6485421-the-mortal-instruments-boxed-set...        39720  The Mortal Instruments Boxed Set (The Mortal I...\n",
       "483     4.59         2622  0312362153  good_reads:book  https://www.goodreads.com/author/show/4430.She...  2008.0  /genres/romance|/genres/paranormal-romance|/ge...                         dir05/2299110.Acheron.html        35028                          Acheron (Dark-Hunter, #8)\n",
       "554     4.54         4809  0385341679  good_reads:book  https://www.goodreads.com/author/show/48206.Ka...  2011.0  /genres/fantasy|/genres/urban-fantasy|/genres/...                     dir06/7304203-shadowfever.html        52812                            Shadowfever (Fever, #5)\n",
       "577     4.60         5732  0765326353  good_reads:book  https://www.goodreads.com/author/show/38550.Br...  2010.0  /genres/science-fiction-fantasy|/genres/fantas...                dir06/7235533-the-way-of-kings.html        76551      The Way of Kings (The Stormlight Archive, #1)\n",
       "620     4.54         7767  1423146727  good_reads:book  https://www.goodreads.com/author/show/15872.Ri...  2013.0  /genres/fantasy|/genres/young-adult|/genres/fa...             dir07/12127810-the-house-of-hades.html        72082     The House of Hades (The Heroes of Olympus, #4)\n",
       "840     4.57          431  1423113497  good_reads:book  https://www.goodreads.com/author/show/15872.Ri...  2008.0  /genres/fantasy|/genres/young-adult|/genres/fa...  dir09/3165162-percy-jackson-and-the-olympians-...        22937  Percy Jackson and the Olympians Boxed Set (Per...\n",
       "883     4.58          558  0140286802  good_reads:book  https://www.goodreads.com/author/show/500.Jorg...  1998.0  /genres/short-stories|/genres/literature|/genr...                dir09/17961.Collected_Fictions.html        12596                                 Collected Fictions\n",
       "911     4.85           26  1491732954  good_reads:book  https://www.goodreads.com/author/show/8189303....  2014.0                                    /genres/fiction             dir10/22242097-honor-and-polygamy.html           97                                 Honor and Polygamy\n",
       "935     4.64          148  1595142711  good_reads:book  https://www.goodreads.com/author/show/137902.R...  2009.0  /genres/paranormal|/genres/vampires|/genres/yo...      dir10/6339989-vampire-academy-collection.html        21743  Vampire Academy Collection (Vampire Academy, #...\n",
       "938     4.51        11011  1481426303  good_reads:book  https://www.goodreads.com/author/show/150038.C...  2014.0  /genres/fantasy|/genres/young-adult|/genres/fa...           dir10/8755785-city-of-heavenly-fire.html        69924  City of Heavenly Fire (The Mortal Instruments,...\n",
       "953     4.56           27  1477276068  good_reads:book  https://www.goodreads.com/author/show/6621980....  2012.0                                                NaN              dir10/16243767-crossing-the-seas.html           90                                  Crossing the Seas\n",
       "958     4.57        38199  0545010225  good_reads:book  https://www.goodreads.com/author/show/1077326....  2007.0  /genres/fantasy|/genres/young-adult|/genres/fa...  dir10/136251.Harry_Potter_and_the_Deathly_Hall...      1245866  Harry Potter and the Deathly Hallows (Harry Po...\n",
       "1033    4.56         1304  0007119550  good_reads:book  https://www.goodreads.com/author/show/346732.G...  2000.0  /genres/fiction|/genres/fantasy|/genres/epic-f...                dir11/147915.A_Storm_of_Swords.html        41161   A Storm of Swords (A Song of Ice and Fire, #3-2)\n",
       "1109    4.70           23         NaN  good_reads:book  https://www.goodreads.com/author/show/7488658....  2013.0                                    /genres/romance           dir12/19181419-a-bird-without-wings.html           56                               A Bird Without Wings\n",
       "1127    4.52          644  0141183047  good_reads:book  https://www.goodreads.com/author/show/7816.Fer...  1982.0  /genres/poetry|/genres/fiction|/genres/philoso...              dir12/45974.The_Book_of_Disquiet.html         7463                               The Book of Disquiet\n",
       "1151    4.64           84  1491877928  good_reads:book  https://www.goodreads.com/author/show/7271860....  2013.0  /genres/war|/genres/historical-fiction|/genres...  dir12/18501652-the-guardian-of-secrets-and-her...          167       The Guardian of Secrets and Her Deathly Pact\n",
       "1186    4.51         4853  1619630621  good_reads:book  https://www.goodreads.com/author/show/3433047....  2013.0  /genres/fantasy|/genres/young-adult|/genres/ro...              dir12/17167166-crown-of-midnight.html        34142            Crown of Midnight (Throne of Glass, #2)\n",
       "1202    4.59         1260  0310902711  good_reads:book  https://www.goodreads.com/author/show/5158478....  1972.0  /genres/religion|/genres/christian|/genres/non...                       dir13/280111.Holy_Bible.html        25584                                         Holy Bible\n",
       "1260    4.60         1943  0842377506  good_reads:book  https://www.goodreads.com/author/show/6492.Fra...  1993.0  /genres/christian-fiction|/genres/historical-f...               dir13/95617.A_Voice_in_the_Wind.html        37923         A Voice in the Wind (Mark of the Lion, #1)\n",
       "1268    4.52          215  1557091528  good_reads:book  https://www.goodreads.com/author/show/63859.Ja...  1787.0  /genres/history|/genres/non-fiction|/genres/po...  dir13/89959.The_Constitution_of_the_United_Sta...        12894   The Constitution of the United States of America\n",
       "1300    4.61           24  1499227299  good_reads:book  https://www.goodreads.com/author/show/7414345....  2014.0  /genres/paranormal|/genres/vampires|/genres/pa...        dir14/22090082-vampire-princess-rising.html          128  Vampire Princess Rising (The Winters Family Sa...\n",
       "...      ...          ...         ...              ...                                                ...     ...                                                ...                                                ...          ...                                                ...\n",
       "5532    4.86            4  1477504540  good_reads:book  https://www.goodreads.com/author/show/5989528....  2013.0                                                NaN          dir56/17695243-call-of-the-lost-ages.html            7                              Call Of The Lost Ages\n",
       "5549    4.62           13  0882408704  good_reads:book  https://www.goodreads.com/author/show/947.Will...  1899.0  /genres/classics|/genres/fiction|/genres/poetr...  dir56/17134346-the-complete-works-of-william-s...          217          The Complete Works of William Shakespeare\n",
       "5557    4.61           14         NaN  good_reads:book  https://www.goodreads.com/author/show/32401.Al...  2006.0                /genres/fantasy|/genres/young-adult          dir56/13488552-the-books-of-pellinor.html          394                              The Books of Pellinor\n",
       "5563    4.70           30         NaN  good_reads:book  https://www.goodreads.com/author/show/7153266....  2014.0                                  /genres/childrens                dir56/20445451-children-s-book.html           57                                    Children's book\n",
       "5564    5.00            9         NaN  good_reads:book  https://www.goodreads.com/author/show/7738947....  2014.0                  /genres/romance|/genres/new-adult                      dir56/21902777-untainted.html           14               Untainted (Photographer Trilogy, #3)\n",
       "5584    4.75            3  1481959824  good_reads:book  https://www.goodreads.com/author/show/5100743....  2013.0                                                NaN                  dir56/17606460-why-not-world.html            8                                      Why Not-World\n",
       "5588    4.66          190         NaN  good_reads:book  https://www.goodreads.com/author/show/4942228....  2011.0  /genres/romance|/genres/m-m-romance|/genres/sc...                           dir56/11737700-fade.html          996               Fade (In the company of shadows, #4)\n",
       "5591    4.58           31  1500118680  good_reads:book  https://www.goodreads.com/author/show/7738947....  2014.0                  /genres/romance|/genres/new-adult                  dir56/22023804-logan-s-story.html           45                  Logan's Story (Sand & Clay, #0.5)\n",
       "5601    4.66          312  0842384898  good_reads:book  https://www.goodreads.com/author/show/5158478....  1902.0  /genres/christian|/genres/religion|/genres/non...                       dir57/930470.Holy_Bible.html         2666                                         Holy Bible\n",
       "5607    4.66          513  0007444397  good_reads:book  https://www.goodreads.com/author/show/4659154....  2011.0              /genres/non-fiction|/genres/biography                  dir57/11792612-dare-to-dream.html         5572                      Dare to Dream (100% Official)\n",
       "5619    4.52          462  0991190920  good_reads:book  https://www.goodreads.com/author/show/7092218....  2014.0  /genres/fantasy|/genres/paranormal|/genres/fai...               dir57/18188649-escaping-destiny.html         3795          Escaping Destiny (The Fae Chronicles, #3)\n",
       "5635    4.54          958  0778315703  good_reads:book  https://www.goodreads.com/author/show/4480131....  2013.0  /genres/erotica|/genres/bdsm|/genres/adult-fic...                   dir57/17251444-the-mistress.html         4869            The Mistress (The Original Sinners, #4)\n",
       "5642    4.70          158  1417642165  good_reads:book  https://www.goodreads.com/author/show/13778.Bi...  1992.0  /genres/sequential-art|/genres/comics|/genres/...                 dir57/70487.Calvin_and_Hobbes.html         9224                                  Calvin and Hobbes\n",
       "5657    4.80            8  1469908530  good_reads:book  https://www.goodreads.com/author/show/4695431....  2012.0                                    /genres/fantasy  dir57/15734769-myrtle-mae-and-the-mirror-in-th...           10  Myrtle Mae and the Mirror in the Attic (The Ma...\n",
       "5665    4.53           61         NaN  good_reads:book  https://www.goodreads.com/author/show/7738947....  2014.0  /genres/romance|/genres/new-adult|/genres/myst...               dir57/20975446-tainted-pictures.html          103        Tainted Pictures (Photographer Trilogy, #2)\n",
       "5683    4.56          204         NaN  good_reads:book  https://www.goodreads.com/author/show/3097905....     NaN  /genres/fantasy|/genres/young-adult|/genres/ro...                  dir57/12474623-tiger-s-dream.html          895                 Tiger's Dream (The Tiger Saga, #5)\n",
       "5692    5.00            0         NaN  good_reads:book  https://www.goodreads.com/author/show/5989528....  2012.0                                                NaN  dir57/14288412-abstraction-in-theory---laws-of...            6  Abstraction In Theory - Laws Of Physical Trans...\n",
       "5716    4.67           34  0810117134  good_reads:book  https://www.goodreads.com/author/show/205563.M...  1970.0  /genres/classics|/genres/fiction|/genres/histo...                    dir58/1679497.The_Fortress.html         1335                                       The Fortress\n",
       "5717    4.71            4         NaN  good_reads:book  https://www.goodreads.com/author/show/5838022....  2012.0                                                NaN              dir58/13741511-american-amaranth.html           14                                  American Amaranth\n",
       "5718    4.60          656  1613725132  good_reads:book  https://www.goodreads.com/author/show/1122775....  2012.0  /genres/romance|/genres/m-m-romance|/genres/ro...                dir58/13246997-armed-dangerous.html         5268                  Armed & Dangerous (Cut & Run, #5)\n",
       "5726    4.55          106  1594170347  good_reads:book  https://www.goodreads.com/author/show/5158478....  1952.0  /genres/religion|/genres/reference|/genres/rel...                       dir58/147635.Holy_Bible.html         1750                                         Holy Bible\n",
       "5729    4.83           16         NaN  good_reads:book  https://www.goodreads.com/author/show/7058502....  2014.0                                                NaN                     dir58/22312293-the-keeper.html           29                        The Keeper (The Keeper, #5)\n",
       "5753    4.61          811  1937551865  good_reads:book  https://www.goodreads.com/author/show/1122775....  2013.0  /genres/romance|/genres/m-m-romance|/genres/ro...                    dir58/16159276-touch-geaux.html         4212                      Touch & Geaux (Cut & Run, #7)\n",
       "5764    4.54          228         NaN  good_reads:book  https://www.goodreads.com/author/show/2112402....  2013.0  /genres/non-fiction|/genres/self-help|/genres/...                 dir58/18479831-staying-strong.html         2343                                     Staying Strong\n",
       "5778    4.63            0         NaN  good_reads:book  https://www.goodreads.com/author/show/4808225....  2010.0                                                NaN                      dir58/11187937-un-spoken.html           19                                        (Un) Spoken\n",
       "5806    4.57          121  0679777458  good_reads:book  https://www.goodreads.com/author/show/8361.Dor...  1966.0  /genres/historical-fiction|/genres/fiction|/ge...           dir59/351211.The_Disorderly_Knights.html         2177  The Disorderly Knights (The Lymond Chronicles,...\n",
       "5873    4.55          103  144247372X  good_reads:book  https://www.goodreads.com/author/show/2876763....  2012.0  /genres/fantasy|/genres/paranormal|/genres/ang...    dir59/14367071-the-complete-hush-hush-saga.html         2869                       The Complete Hush, Hush Saga\n",
       "5874    4.78           18  2851944371  good_reads:book  https://www.goodreads.com/author/show/318835.O...  1972.0  /genres/poetry|/genres/fiction|/genres/nobel-p...                   dir59/2014000.Le_Monogramme.html          565                                      Le Monogramme\n",
       "5880    4.61          123         NaN  good_reads:book  https://www.goodreads.com/author/show/4942228....  2010.0  /genres/romance|/genres/m-m-romance|/genres/sc...                 dir59/10506860-the-interludes.html         1031     The Interludes (In the company of shadows, #3)\n",
       "5957    4.72          104  178048044X  good_reads:book  https://www.goodreads.com/author/show/20248.J_...  2010.0  /genres/romance|/genres/paranormal|/genres/vam...            dir60/10780042-j-r-ward-collection.html         1788                              J. R. Ward Collection\n",
       "\n",
       "[224 rows x 10 columns]"
      ]
     },
     "execution_count": 18,
     "metadata": {},
     "output_type": "execute_result"
    }
   ],
   "source": [
    "df[df['rating'] > 4.5]"
   ]
  },
  {
   "cell_type": "code",
   "execution_count": 19,
   "metadata": {},
   "outputs": [
    {
     "data": {
      "text/html": [
       "<div>\n",
       "<table border=\"1\" class=\"dataframe\">\n",
       "  <thead>\n",
       "    <tr style=\"text-align: right;\">\n",
       "      <th></th>\n",
       "      <th>rating</th>\n",
       "      <th>review_count</th>\n",
       "      <th>isbn</th>\n",
       "      <th>booktype</th>\n",
       "      <th>author_url</th>\n",
       "      <th>year</th>\n",
       "      <th>genre_urls</th>\n",
       "      <th>dir</th>\n",
       "      <th>rating_count</th>\n",
       "      <th>name</th>\n",
       "    </tr>\n",
       "  </thead>\n",
       "  <tbody>\n",
       "    <tr>\n",
       "      <th>17</th>\n",
       "      <td>4.58</td>\n",
       "      <td>1314</td>\n",
       "      <td>0345538374</td>\n",
       "      <td>good_reads:book</td>\n",
       "      <td>https://www.goodreads.com/author/show/656983.J...</td>\n",
       "      <td>1973.0</td>\n",
       "      <td>/genres/fantasy|/genres/classics|/genres/scien...</td>\n",
       "      <td>dir01/30.J_R_R_Tolkien_4_Book_Boxed_Set.html</td>\n",
       "      <td>68495</td>\n",
       "      <td>J.R.R. Tolkien 4-Book Boxed Set</td>\n",
       "    </tr>\n",
       "    <tr>\n",
       "      <th>162</th>\n",
       "      <td>4.55</td>\n",
       "      <td>15777</td>\n",
       "      <td>075640407X</td>\n",
       "      <td>good_reads:book</td>\n",
       "      <td>https://www.goodreads.com/author/show/108424.P...</td>\n",
       "      <td>2007.0</td>\n",
       "      <td>/genres/fantasy|/genres/fiction</td>\n",
       "      <td>dir02/186074.The_Name_of_the_Wind.html</td>\n",
       "      <td>210018</td>\n",
       "      <td>The Name of the Wind (The Kingkiller Chronicle...</td>\n",
       "    </tr>\n",
       "    <tr>\n",
       "      <th>222</th>\n",
       "      <td>4.53</td>\n",
       "      <td>15256</td>\n",
       "      <td>055357342X</td>\n",
       "      <td>good_reads:book</td>\n",
       "      <td>https://www.goodreads.com/author/show/346732.G...</td>\n",
       "      <td>2000.0</td>\n",
       "      <td>/genres/fantasy|/genres/fiction|/genres/fantas...</td>\n",
       "      <td>dir03/62291.A_Storm_of_Swords.html</td>\n",
       "      <td>327992</td>\n",
       "      <td>A Storm of Swords (A Song of Ice and Fire, #3)</td>\n",
       "    </tr>\n",
       "    <tr>\n",
       "      <th>242</th>\n",
       "      <td>4.53</td>\n",
       "      <td>5404</td>\n",
       "      <td>0545265355</td>\n",
       "      <td>good_reads:book</td>\n",
       "      <td>https://www.goodreads.com/author/show/153394.S...</td>\n",
       "      <td>2010.0</td>\n",
       "      <td>/genres/young-adult|/genres/fiction|/genres/fa...</td>\n",
       "      <td>dir03/7938275-the-hunger-games-trilogy-boxset....</td>\n",
       "      <td>102330</td>\n",
       "      <td>The Hunger Games Trilogy Boxset (The Hunger Ga...</td>\n",
       "    </tr>\n",
       "    <tr>\n",
       "      <th>249</th>\n",
       "      <td>4.80</td>\n",
       "      <td>644</td>\n",
       "      <td>0740748475</td>\n",
       "      <td>good_reads:book</td>\n",
       "      <td>https://www.goodreads.com/author/show/13778.Bi...</td>\n",
       "      <td>2005.0</td>\n",
       "      <td>/genres/sequential-art|/genres/comics|/genres/...</td>\n",
       "      <td>dir03/24812.The_Complete_Calvin_and_Hobbes.html</td>\n",
       "      <td>22674</td>\n",
       "      <td>The Complete Calvin and Hobbes</td>\n",
       "    </tr>\n",
       "    <tr>\n",
       "      <th>284</th>\n",
       "      <td>4.58</td>\n",
       "      <td>15195</td>\n",
       "      <td>1406321346</td>\n",
       "      <td>good_reads:book</td>\n",
       "      <td>https://www.goodreads.com/author/show/150038.C...</td>\n",
       "      <td>2013.0</td>\n",
       "      <td>/genres/fantasy|/genres/young-adult|/genres/fa...</td>\n",
       "      <td>dir03/18335634-clockwork-princess.html</td>\n",
       "      <td>130161</td>\n",
       "      <td>Clockwork Princess (The Infernal Devices, #3)</td>\n",
       "    </tr>\n",
       "    <tr>\n",
       "      <th>304</th>\n",
       "      <td>4.54</td>\n",
       "      <td>572</td>\n",
       "      <td>0140259449</td>\n",
       "      <td>good_reads:book</td>\n",
       "      <td>https://www.goodreads.com/author/show/1265.Jan...</td>\n",
       "      <td>1933.0</td>\n",
       "      <td>/genres/classics|/genres/fiction|/genres/roman...</td>\n",
       "      <td>dir04/14905.The_Complete_Novels.html</td>\n",
       "      <td>17539</td>\n",
       "      <td>The Complete Novels</td>\n",
       "    </tr>\n",
       "    <tr>\n",
       "      <th>386</th>\n",
       "      <td>4.55</td>\n",
       "      <td>8820</td>\n",
       "      <td>0756404738</td>\n",
       "      <td>good_reads:book</td>\n",
       "      <td>https://www.goodreads.com/author/show/108424.P...</td>\n",
       "      <td>2011.0</td>\n",
       "      <td>/genres/fantasy|/genres/fantasy|/genres/epic-f...</td>\n",
       "      <td>dir04/1215032.The_Wise_Man_s_Fear.html</td>\n",
       "      <td>142499</td>\n",
       "      <td>The Wise Man's Fear (The Kingkiller Chronicle,...</td>\n",
       "    </tr>\n",
       "    <tr>\n",
       "      <th>400</th>\n",
       "      <td>4.53</td>\n",
       "      <td>9292</td>\n",
       "      <td>1423140605</td>\n",
       "      <td>good_reads:book</td>\n",
       "      <td>https://www.goodreads.com/author/show/15872.Ri...</td>\n",
       "      <td>2012.0</td>\n",
       "      <td>/genres/fantasy|/genres/young-adult|/genres/fa...</td>\n",
       "      <td>dir05/12127750-the-mark-of-athena.html</td>\n",
       "      <td>128412</td>\n",
       "      <td>The Mark of Athena (The Heroes of Olympus, #3)</td>\n",
       "    </tr>\n",
       "    <tr>\n",
       "      <th>475</th>\n",
       "      <td>4.57</td>\n",
       "      <td>824</td>\n",
       "      <td>1416997857</td>\n",
       "      <td>good_reads:book</td>\n",
       "      <td>https://www.goodreads.com/author/show/150038.C...</td>\n",
       "      <td>2009.0</td>\n",
       "      <td>/genres/fantasy|/genres/young-adult|/genres/fa...</td>\n",
       "      <td>dir05/6485421-the-mortal-instruments-boxed-set...</td>\n",
       "      <td>39720</td>\n",
       "      <td>The Mortal Instruments Boxed Set (The Mortal I...</td>\n",
       "    </tr>\n",
       "    <tr>\n",
       "      <th>483</th>\n",
       "      <td>4.59</td>\n",
       "      <td>2622</td>\n",
       "      <td>0312362153</td>\n",
       "      <td>good_reads:book</td>\n",
       "      <td>https://www.goodreads.com/author/show/4430.She...</td>\n",
       "      <td>2008.0</td>\n",
       "      <td>/genres/romance|/genres/paranormal-romance|/ge...</td>\n",
       "      <td>dir05/2299110.Acheron.html</td>\n",
       "      <td>35028</td>\n",
       "      <td>Acheron (Dark-Hunter, #8)</td>\n",
       "    </tr>\n",
       "    <tr>\n",
       "      <th>554</th>\n",
       "      <td>4.54</td>\n",
       "      <td>4809</td>\n",
       "      <td>0385341679</td>\n",
       "      <td>good_reads:book</td>\n",
       "      <td>https://www.goodreads.com/author/show/48206.Ka...</td>\n",
       "      <td>2011.0</td>\n",
       "      <td>/genres/fantasy|/genres/urban-fantasy|/genres/...</td>\n",
       "      <td>dir06/7304203-shadowfever.html</td>\n",
       "      <td>52812</td>\n",
       "      <td>Shadowfever (Fever, #5)</td>\n",
       "    </tr>\n",
       "    <tr>\n",
       "      <th>577</th>\n",
       "      <td>4.60</td>\n",
       "      <td>5732</td>\n",
       "      <td>0765326353</td>\n",
       "      <td>good_reads:book</td>\n",
       "      <td>https://www.goodreads.com/author/show/38550.Br...</td>\n",
       "      <td>2010.0</td>\n",
       "      <td>/genres/science-fiction-fantasy|/genres/fantas...</td>\n",
       "      <td>dir06/7235533-the-way-of-kings.html</td>\n",
       "      <td>76551</td>\n",
       "      <td>The Way of Kings (The Stormlight Archive, #1)</td>\n",
       "    </tr>\n",
       "    <tr>\n",
       "      <th>620</th>\n",
       "      <td>4.54</td>\n",
       "      <td>7767</td>\n",
       "      <td>1423146727</td>\n",
       "      <td>good_reads:book</td>\n",
       "      <td>https://www.goodreads.com/author/show/15872.Ri...</td>\n",
       "      <td>2013.0</td>\n",
       "      <td>/genres/fantasy|/genres/young-adult|/genres/fa...</td>\n",
       "      <td>dir07/12127810-the-house-of-hades.html</td>\n",
       "      <td>72082</td>\n",
       "      <td>The House of Hades (The Heroes of Olympus, #4)</td>\n",
       "    </tr>\n",
       "    <tr>\n",
       "      <th>840</th>\n",
       "      <td>4.57</td>\n",
       "      <td>431</td>\n",
       "      <td>1423113497</td>\n",
       "      <td>good_reads:book</td>\n",
       "      <td>https://www.goodreads.com/author/show/15872.Ri...</td>\n",
       "      <td>2008.0</td>\n",
       "      <td>/genres/fantasy|/genres/young-adult|/genres/fa...</td>\n",
       "      <td>dir09/3165162-percy-jackson-and-the-olympians-...</td>\n",
       "      <td>22937</td>\n",
       "      <td>Percy Jackson and the Olympians Boxed Set (Per...</td>\n",
       "    </tr>\n",
       "    <tr>\n",
       "      <th>883</th>\n",
       "      <td>4.58</td>\n",
       "      <td>558</td>\n",
       "      <td>0140286802</td>\n",
       "      <td>good_reads:book</td>\n",
       "      <td>https://www.goodreads.com/author/show/500.Jorg...</td>\n",
       "      <td>1998.0</td>\n",
       "      <td>/genres/short-stories|/genres/literature|/genr...</td>\n",
       "      <td>dir09/17961.Collected_Fictions.html</td>\n",
       "      <td>12596</td>\n",
       "      <td>Collected Fictions</td>\n",
       "    </tr>\n",
       "    <tr>\n",
       "      <th>911</th>\n",
       "      <td>4.85</td>\n",
       "      <td>26</td>\n",
       "      <td>1491732954</td>\n",
       "      <td>good_reads:book</td>\n",
       "      <td>https://www.goodreads.com/author/show/8189303....</td>\n",
       "      <td>2014.0</td>\n",
       "      <td>/genres/fiction</td>\n",
       "      <td>dir10/22242097-honor-and-polygamy.html</td>\n",
       "      <td>97</td>\n",
       "      <td>Honor and Polygamy</td>\n",
       "    </tr>\n",
       "    <tr>\n",
       "      <th>935</th>\n",
       "      <td>4.64</td>\n",
       "      <td>148</td>\n",
       "      <td>1595142711</td>\n",
       "      <td>good_reads:book</td>\n",
       "      <td>https://www.goodreads.com/author/show/137902.R...</td>\n",
       "      <td>2009.0</td>\n",
       "      <td>/genres/paranormal|/genres/vampires|/genres/yo...</td>\n",
       "      <td>dir10/6339989-vampire-academy-collection.html</td>\n",
       "      <td>21743</td>\n",
       "      <td>Vampire Academy Collection (Vampire Academy, #...</td>\n",
       "    </tr>\n",
       "    <tr>\n",
       "      <th>938</th>\n",
       "      <td>4.51</td>\n",
       "      <td>11011</td>\n",
       "      <td>1481426303</td>\n",
       "      <td>good_reads:book</td>\n",
       "      <td>https://www.goodreads.com/author/show/150038.C...</td>\n",
       "      <td>2014.0</td>\n",
       "      <td>/genres/fantasy|/genres/young-adult|/genres/fa...</td>\n",
       "      <td>dir10/8755785-city-of-heavenly-fire.html</td>\n",
       "      <td>69924</td>\n",
       "      <td>City of Heavenly Fire (The Mortal Instruments,...</td>\n",
       "    </tr>\n",
       "    <tr>\n",
       "      <th>953</th>\n",
       "      <td>4.56</td>\n",
       "      <td>27</td>\n",
       "      <td>1477276068</td>\n",
       "      <td>good_reads:book</td>\n",
       "      <td>https://www.goodreads.com/author/show/6621980....</td>\n",
       "      <td>2012.0</td>\n",
       "      <td>NaN</td>\n",
       "      <td>dir10/16243767-crossing-the-seas.html</td>\n",
       "      <td>90</td>\n",
       "      <td>Crossing the Seas</td>\n",
       "    </tr>\n",
       "    <tr>\n",
       "      <th>958</th>\n",
       "      <td>4.57</td>\n",
       "      <td>38199</td>\n",
       "      <td>0545010225</td>\n",
       "      <td>good_reads:book</td>\n",
       "      <td>https://www.goodreads.com/author/show/1077326....</td>\n",
       "      <td>2007.0</td>\n",
       "      <td>/genres/fantasy|/genres/young-adult|/genres/fa...</td>\n",
       "      <td>dir10/136251.Harry_Potter_and_the_Deathly_Hall...</td>\n",
       "      <td>1245866</td>\n",
       "      <td>Harry Potter and the Deathly Hallows (Harry Po...</td>\n",
       "    </tr>\n",
       "    <tr>\n",
       "      <th>1033</th>\n",
       "      <td>4.56</td>\n",
       "      <td>1304</td>\n",
       "      <td>0007119550</td>\n",
       "      <td>good_reads:book</td>\n",
       "      <td>https://www.goodreads.com/author/show/346732.G...</td>\n",
       "      <td>2000.0</td>\n",
       "      <td>/genres/fiction|/genres/fantasy|/genres/epic-f...</td>\n",
       "      <td>dir11/147915.A_Storm_of_Swords.html</td>\n",
       "      <td>41161</td>\n",
       "      <td>A Storm of Swords (A Song of Ice and Fire, #3-2)</td>\n",
       "    </tr>\n",
       "    <tr>\n",
       "      <th>1109</th>\n",
       "      <td>4.70</td>\n",
       "      <td>23</td>\n",
       "      <td>NaN</td>\n",
       "      <td>good_reads:book</td>\n",
       "      <td>https://www.goodreads.com/author/show/7488658....</td>\n",
       "      <td>2013.0</td>\n",
       "      <td>/genres/romance</td>\n",
       "      <td>dir12/19181419-a-bird-without-wings.html</td>\n",
       "      <td>56</td>\n",
       "      <td>A Bird Without Wings</td>\n",
       "    </tr>\n",
       "    <tr>\n",
       "      <th>1127</th>\n",
       "      <td>4.52</td>\n",
       "      <td>644</td>\n",
       "      <td>0141183047</td>\n",
       "      <td>good_reads:book</td>\n",
       "      <td>https://www.goodreads.com/author/show/7816.Fer...</td>\n",
       "      <td>1982.0</td>\n",
       "      <td>/genres/poetry|/genres/fiction|/genres/philoso...</td>\n",
       "      <td>dir12/45974.The_Book_of_Disquiet.html</td>\n",
       "      <td>7463</td>\n",
       "      <td>The Book of Disquiet</td>\n",
       "    </tr>\n",
       "    <tr>\n",
       "      <th>1151</th>\n",
       "      <td>4.64</td>\n",
       "      <td>84</td>\n",
       "      <td>1491877928</td>\n",
       "      <td>good_reads:book</td>\n",
       "      <td>https://www.goodreads.com/author/show/7271860....</td>\n",
       "      <td>2013.0</td>\n",
       "      <td>/genres/war|/genres/historical-fiction|/genres...</td>\n",
       "      <td>dir12/18501652-the-guardian-of-secrets-and-her...</td>\n",
       "      <td>167</td>\n",
       "      <td>The Guardian of Secrets and Her Deathly Pact</td>\n",
       "    </tr>\n",
       "    <tr>\n",
       "      <th>1186</th>\n",
       "      <td>4.51</td>\n",
       "      <td>4853</td>\n",
       "      <td>1619630621</td>\n",
       "      <td>good_reads:book</td>\n",
       "      <td>https://www.goodreads.com/author/show/3433047....</td>\n",
       "      <td>2013.0</td>\n",
       "      <td>/genres/fantasy|/genres/young-adult|/genres/ro...</td>\n",
       "      <td>dir12/17167166-crown-of-midnight.html</td>\n",
       "      <td>34142</td>\n",
       "      <td>Crown of Midnight (Throne of Glass, #2)</td>\n",
       "    </tr>\n",
       "    <tr>\n",
       "      <th>1202</th>\n",
       "      <td>4.59</td>\n",
       "      <td>1260</td>\n",
       "      <td>0310902711</td>\n",
       "      <td>good_reads:book</td>\n",
       "      <td>https://www.goodreads.com/author/show/5158478....</td>\n",
       "      <td>1972.0</td>\n",
       "      <td>/genres/religion|/genres/christian|/genres/non...</td>\n",
       "      <td>dir13/280111.Holy_Bible.html</td>\n",
       "      <td>25584</td>\n",
       "      <td>Holy Bible</td>\n",
       "    </tr>\n",
       "    <tr>\n",
       "      <th>1260</th>\n",
       "      <td>4.60</td>\n",
       "      <td>1943</td>\n",
       "      <td>0842377506</td>\n",
       "      <td>good_reads:book</td>\n",
       "      <td>https://www.goodreads.com/author/show/6492.Fra...</td>\n",
       "      <td>1993.0</td>\n",
       "      <td>/genres/christian-fiction|/genres/historical-f...</td>\n",
       "      <td>dir13/95617.A_Voice_in_the_Wind.html</td>\n",
       "      <td>37923</td>\n",
       "      <td>A Voice in the Wind (Mark of the Lion, #1)</td>\n",
       "    </tr>\n",
       "    <tr>\n",
       "      <th>1268</th>\n",
       "      <td>4.52</td>\n",
       "      <td>215</td>\n",
       "      <td>1557091528</td>\n",
       "      <td>good_reads:book</td>\n",
       "      <td>https://www.goodreads.com/author/show/63859.Ja...</td>\n",
       "      <td>1787.0</td>\n",
       "      <td>/genres/history|/genres/non-fiction|/genres/po...</td>\n",
       "      <td>dir13/89959.The_Constitution_of_the_United_Sta...</td>\n",
       "      <td>12894</td>\n",
       "      <td>The Constitution of the United States of America</td>\n",
       "    </tr>\n",
       "    <tr>\n",
       "      <th>1300</th>\n",
       "      <td>4.61</td>\n",
       "      <td>24</td>\n",
       "      <td>1499227299</td>\n",
       "      <td>good_reads:book</td>\n",
       "      <td>https://www.goodreads.com/author/show/7414345....</td>\n",
       "      <td>2014.0</td>\n",
       "      <td>/genres/paranormal|/genres/vampires|/genres/pa...</td>\n",
       "      <td>dir14/22090082-vampire-princess-rising.html</td>\n",
       "      <td>128</td>\n",
       "      <td>Vampire Princess Rising (The Winters Family Sa...</td>\n",
       "    </tr>\n",
       "    <tr>\n",
       "      <th>...</th>\n",
       "      <td>...</td>\n",
       "      <td>...</td>\n",
       "      <td>...</td>\n",
       "      <td>...</td>\n",
       "      <td>...</td>\n",
       "      <td>...</td>\n",
       "      <td>...</td>\n",
       "      <td>...</td>\n",
       "      <td>...</td>\n",
       "      <td>...</td>\n",
       "    </tr>\n",
       "    <tr>\n",
       "      <th>5532</th>\n",
       "      <td>4.86</td>\n",
       "      <td>4</td>\n",
       "      <td>1477504540</td>\n",
       "      <td>good_reads:book</td>\n",
       "      <td>https://www.goodreads.com/author/show/5989528....</td>\n",
       "      <td>2013.0</td>\n",
       "      <td>NaN</td>\n",
       "      <td>dir56/17695243-call-of-the-lost-ages.html</td>\n",
       "      <td>7</td>\n",
       "      <td>Call Of The Lost Ages</td>\n",
       "    </tr>\n",
       "    <tr>\n",
       "      <th>5549</th>\n",
       "      <td>4.62</td>\n",
       "      <td>13</td>\n",
       "      <td>0882408704</td>\n",
       "      <td>good_reads:book</td>\n",
       "      <td>https://www.goodreads.com/author/show/947.Will...</td>\n",
       "      <td>1899.0</td>\n",
       "      <td>/genres/classics|/genres/fiction|/genres/poetr...</td>\n",
       "      <td>dir56/17134346-the-complete-works-of-william-s...</td>\n",
       "      <td>217</td>\n",
       "      <td>The Complete Works of William Shakespeare</td>\n",
       "    </tr>\n",
       "    <tr>\n",
       "      <th>5557</th>\n",
       "      <td>4.61</td>\n",
       "      <td>14</td>\n",
       "      <td>NaN</td>\n",
       "      <td>good_reads:book</td>\n",
       "      <td>https://www.goodreads.com/author/show/32401.Al...</td>\n",
       "      <td>2006.0</td>\n",
       "      <td>/genres/fantasy|/genres/young-adult</td>\n",
       "      <td>dir56/13488552-the-books-of-pellinor.html</td>\n",
       "      <td>394</td>\n",
       "      <td>The Books of Pellinor</td>\n",
       "    </tr>\n",
       "    <tr>\n",
       "      <th>5563</th>\n",
       "      <td>4.70</td>\n",
       "      <td>30</td>\n",
       "      <td>NaN</td>\n",
       "      <td>good_reads:book</td>\n",
       "      <td>https://www.goodreads.com/author/show/7153266....</td>\n",
       "      <td>2014.0</td>\n",
       "      <td>/genres/childrens</td>\n",
       "      <td>dir56/20445451-children-s-book.html</td>\n",
       "      <td>57</td>\n",
       "      <td>Children's book</td>\n",
       "    </tr>\n",
       "    <tr>\n",
       "      <th>5564</th>\n",
       "      <td>5.00</td>\n",
       "      <td>9</td>\n",
       "      <td>NaN</td>\n",
       "      <td>good_reads:book</td>\n",
       "      <td>https://www.goodreads.com/author/show/7738947....</td>\n",
       "      <td>2014.0</td>\n",
       "      <td>/genres/romance|/genres/new-adult</td>\n",
       "      <td>dir56/21902777-untainted.html</td>\n",
       "      <td>14</td>\n",
       "      <td>Untainted (Photographer Trilogy, #3)</td>\n",
       "    </tr>\n",
       "    <tr>\n",
       "      <th>5584</th>\n",
       "      <td>4.75</td>\n",
       "      <td>3</td>\n",
       "      <td>1481959824</td>\n",
       "      <td>good_reads:book</td>\n",
       "      <td>https://www.goodreads.com/author/show/5100743....</td>\n",
       "      <td>2013.0</td>\n",
       "      <td>NaN</td>\n",
       "      <td>dir56/17606460-why-not-world.html</td>\n",
       "      <td>8</td>\n",
       "      <td>Why Not-World</td>\n",
       "    </tr>\n",
       "    <tr>\n",
       "      <th>5588</th>\n",
       "      <td>4.66</td>\n",
       "      <td>190</td>\n",
       "      <td>NaN</td>\n",
       "      <td>good_reads:book</td>\n",
       "      <td>https://www.goodreads.com/author/show/4942228....</td>\n",
       "      <td>2011.0</td>\n",
       "      <td>/genres/romance|/genres/m-m-romance|/genres/sc...</td>\n",
       "      <td>dir56/11737700-fade.html</td>\n",
       "      <td>996</td>\n",
       "      <td>Fade (In the company of shadows, #4)</td>\n",
       "    </tr>\n",
       "    <tr>\n",
       "      <th>5591</th>\n",
       "      <td>4.58</td>\n",
       "      <td>31</td>\n",
       "      <td>1500118680</td>\n",
       "      <td>good_reads:book</td>\n",
       "      <td>https://www.goodreads.com/author/show/7738947....</td>\n",
       "      <td>2014.0</td>\n",
       "      <td>/genres/romance|/genres/new-adult</td>\n",
       "      <td>dir56/22023804-logan-s-story.html</td>\n",
       "      <td>45</td>\n",
       "      <td>Logan's Story (Sand &amp; Clay, #0.5)</td>\n",
       "    </tr>\n",
       "    <tr>\n",
       "      <th>5601</th>\n",
       "      <td>4.66</td>\n",
       "      <td>312</td>\n",
       "      <td>0842384898</td>\n",
       "      <td>good_reads:book</td>\n",
       "      <td>https://www.goodreads.com/author/show/5158478....</td>\n",
       "      <td>1902.0</td>\n",
       "      <td>/genres/christian|/genres/religion|/genres/non...</td>\n",
       "      <td>dir57/930470.Holy_Bible.html</td>\n",
       "      <td>2666</td>\n",
       "      <td>Holy Bible</td>\n",
       "    </tr>\n",
       "    <tr>\n",
       "      <th>5607</th>\n",
       "      <td>4.66</td>\n",
       "      <td>513</td>\n",
       "      <td>0007444397</td>\n",
       "      <td>good_reads:book</td>\n",
       "      <td>https://www.goodreads.com/author/show/4659154....</td>\n",
       "      <td>2011.0</td>\n",
       "      <td>/genres/non-fiction|/genres/biography</td>\n",
       "      <td>dir57/11792612-dare-to-dream.html</td>\n",
       "      <td>5572</td>\n",
       "      <td>Dare to Dream (100% Official)</td>\n",
       "    </tr>\n",
       "    <tr>\n",
       "      <th>5619</th>\n",
       "      <td>4.52</td>\n",
       "      <td>462</td>\n",
       "      <td>0991190920</td>\n",
       "      <td>good_reads:book</td>\n",
       "      <td>https://www.goodreads.com/author/show/7092218....</td>\n",
       "      <td>2014.0</td>\n",
       "      <td>/genres/fantasy|/genres/paranormal|/genres/fai...</td>\n",
       "      <td>dir57/18188649-escaping-destiny.html</td>\n",
       "      <td>3795</td>\n",
       "      <td>Escaping Destiny (The Fae Chronicles, #3)</td>\n",
       "    </tr>\n",
       "    <tr>\n",
       "      <th>5635</th>\n",
       "      <td>4.54</td>\n",
       "      <td>958</td>\n",
       "      <td>0778315703</td>\n",
       "      <td>good_reads:book</td>\n",
       "      <td>https://www.goodreads.com/author/show/4480131....</td>\n",
       "      <td>2013.0</td>\n",
       "      <td>/genres/erotica|/genres/bdsm|/genres/adult-fic...</td>\n",
       "      <td>dir57/17251444-the-mistress.html</td>\n",
       "      <td>4869</td>\n",
       "      <td>The Mistress (The Original Sinners, #4)</td>\n",
       "    </tr>\n",
       "    <tr>\n",
       "      <th>5642</th>\n",
       "      <td>4.70</td>\n",
       "      <td>158</td>\n",
       "      <td>1417642165</td>\n",
       "      <td>good_reads:book</td>\n",
       "      <td>https://www.goodreads.com/author/show/13778.Bi...</td>\n",
       "      <td>1992.0</td>\n",
       "      <td>/genres/sequential-art|/genres/comics|/genres/...</td>\n",
       "      <td>dir57/70487.Calvin_and_Hobbes.html</td>\n",
       "      <td>9224</td>\n",
       "      <td>Calvin and Hobbes</td>\n",
       "    </tr>\n",
       "    <tr>\n",
       "      <th>5657</th>\n",
       "      <td>4.80</td>\n",
       "      <td>8</td>\n",
       "      <td>1469908530</td>\n",
       "      <td>good_reads:book</td>\n",
       "      <td>https://www.goodreads.com/author/show/4695431....</td>\n",
       "      <td>2012.0</td>\n",
       "      <td>/genres/fantasy</td>\n",
       "      <td>dir57/15734769-myrtle-mae-and-the-mirror-in-th...</td>\n",
       "      <td>10</td>\n",
       "      <td>Myrtle Mae and the Mirror in the Attic (The Ma...</td>\n",
       "    </tr>\n",
       "    <tr>\n",
       "      <th>5665</th>\n",
       "      <td>4.53</td>\n",
       "      <td>61</td>\n",
       "      <td>NaN</td>\n",
       "      <td>good_reads:book</td>\n",
       "      <td>https://www.goodreads.com/author/show/7738947....</td>\n",
       "      <td>2014.0</td>\n",
       "      <td>/genres/romance|/genres/new-adult|/genres/myst...</td>\n",
       "      <td>dir57/20975446-tainted-pictures.html</td>\n",
       "      <td>103</td>\n",
       "      <td>Tainted Pictures (Photographer Trilogy, #2)</td>\n",
       "    </tr>\n",
       "    <tr>\n",
       "      <th>5683</th>\n",
       "      <td>4.56</td>\n",
       "      <td>204</td>\n",
       "      <td>NaN</td>\n",
       "      <td>good_reads:book</td>\n",
       "      <td>https://www.goodreads.com/author/show/3097905....</td>\n",
       "      <td>NaN</td>\n",
       "      <td>/genres/fantasy|/genres/young-adult|/genres/ro...</td>\n",
       "      <td>dir57/12474623-tiger-s-dream.html</td>\n",
       "      <td>895</td>\n",
       "      <td>Tiger's Dream (The Tiger Saga, #5)</td>\n",
       "    </tr>\n",
       "    <tr>\n",
       "      <th>5692</th>\n",
       "      <td>5.00</td>\n",
       "      <td>0</td>\n",
       "      <td>NaN</td>\n",
       "      <td>good_reads:book</td>\n",
       "      <td>https://www.goodreads.com/author/show/5989528....</td>\n",
       "      <td>2012.0</td>\n",
       "      <td>NaN</td>\n",
       "      <td>dir57/14288412-abstraction-in-theory---laws-of...</td>\n",
       "      <td>6</td>\n",
       "      <td>Abstraction In Theory - Laws Of Physical Trans...</td>\n",
       "    </tr>\n",
       "    <tr>\n",
       "      <th>5716</th>\n",
       "      <td>4.67</td>\n",
       "      <td>34</td>\n",
       "      <td>0810117134</td>\n",
       "      <td>good_reads:book</td>\n",
       "      <td>https://www.goodreads.com/author/show/205563.M...</td>\n",
       "      <td>1970.0</td>\n",
       "      <td>/genres/classics|/genres/fiction|/genres/histo...</td>\n",
       "      <td>dir58/1679497.The_Fortress.html</td>\n",
       "      <td>1335</td>\n",
       "      <td>The Fortress</td>\n",
       "    </tr>\n",
       "    <tr>\n",
       "      <th>5717</th>\n",
       "      <td>4.71</td>\n",
       "      <td>4</td>\n",
       "      <td>NaN</td>\n",
       "      <td>good_reads:book</td>\n",
       "      <td>https://www.goodreads.com/author/show/5838022....</td>\n",
       "      <td>2012.0</td>\n",
       "      <td>NaN</td>\n",
       "      <td>dir58/13741511-american-amaranth.html</td>\n",
       "      <td>14</td>\n",
       "      <td>American Amaranth</td>\n",
       "    </tr>\n",
       "    <tr>\n",
       "      <th>5718</th>\n",
       "      <td>4.60</td>\n",
       "      <td>656</td>\n",
       "      <td>1613725132</td>\n",
       "      <td>good_reads:book</td>\n",
       "      <td>https://www.goodreads.com/author/show/1122775....</td>\n",
       "      <td>2012.0</td>\n",
       "      <td>/genres/romance|/genres/m-m-romance|/genres/ro...</td>\n",
       "      <td>dir58/13246997-armed-dangerous.html</td>\n",
       "      <td>5268</td>\n",
       "      <td>Armed &amp; Dangerous (Cut &amp; Run, #5)</td>\n",
       "    </tr>\n",
       "    <tr>\n",
       "      <th>5726</th>\n",
       "      <td>4.55</td>\n",
       "      <td>106</td>\n",
       "      <td>1594170347</td>\n",
       "      <td>good_reads:book</td>\n",
       "      <td>https://www.goodreads.com/author/show/5158478....</td>\n",
       "      <td>1952.0</td>\n",
       "      <td>/genres/religion|/genres/reference|/genres/rel...</td>\n",
       "      <td>dir58/147635.Holy_Bible.html</td>\n",
       "      <td>1750</td>\n",
       "      <td>Holy Bible</td>\n",
       "    </tr>\n",
       "    <tr>\n",
       "      <th>5729</th>\n",
       "      <td>4.83</td>\n",
       "      <td>16</td>\n",
       "      <td>NaN</td>\n",
       "      <td>good_reads:book</td>\n",
       "      <td>https://www.goodreads.com/author/show/7058502....</td>\n",
       "      <td>2014.0</td>\n",
       "      <td>NaN</td>\n",
       "      <td>dir58/22312293-the-keeper.html</td>\n",
       "      <td>29</td>\n",
       "      <td>The Keeper (The Keeper, #5)</td>\n",
       "    </tr>\n",
       "    <tr>\n",
       "      <th>5753</th>\n",
       "      <td>4.61</td>\n",
       "      <td>811</td>\n",
       "      <td>1937551865</td>\n",
       "      <td>good_reads:book</td>\n",
       "      <td>https://www.goodreads.com/author/show/1122775....</td>\n",
       "      <td>2013.0</td>\n",
       "      <td>/genres/romance|/genres/m-m-romance|/genres/ro...</td>\n",
       "      <td>dir58/16159276-touch-geaux.html</td>\n",
       "      <td>4212</td>\n",
       "      <td>Touch &amp; Geaux (Cut &amp; Run, #7)</td>\n",
       "    </tr>\n",
       "    <tr>\n",
       "      <th>5764</th>\n",
       "      <td>4.54</td>\n",
       "      <td>228</td>\n",
       "      <td>NaN</td>\n",
       "      <td>good_reads:book</td>\n",
       "      <td>https://www.goodreads.com/author/show/2112402....</td>\n",
       "      <td>2013.0</td>\n",
       "      <td>/genres/non-fiction|/genres/self-help|/genres/...</td>\n",
       "      <td>dir58/18479831-staying-strong.html</td>\n",
       "      <td>2343</td>\n",
       "      <td>Staying Strong</td>\n",
       "    </tr>\n",
       "    <tr>\n",
       "      <th>5778</th>\n",
       "      <td>4.63</td>\n",
       "      <td>0</td>\n",
       "      <td>NaN</td>\n",
       "      <td>good_reads:book</td>\n",
       "      <td>https://www.goodreads.com/author/show/4808225....</td>\n",
       "      <td>2010.0</td>\n",
       "      <td>NaN</td>\n",
       "      <td>dir58/11187937-un-spoken.html</td>\n",
       "      <td>19</td>\n",
       "      <td>(Un) Spoken</td>\n",
       "    </tr>\n",
       "    <tr>\n",
       "      <th>5806</th>\n",
       "      <td>4.57</td>\n",
       "      <td>121</td>\n",
       "      <td>0679777458</td>\n",
       "      <td>good_reads:book</td>\n",
       "      <td>https://www.goodreads.com/author/show/8361.Dor...</td>\n",
       "      <td>1966.0</td>\n",
       "      <td>/genres/historical-fiction|/genres/fiction|/ge...</td>\n",
       "      <td>dir59/351211.The_Disorderly_Knights.html</td>\n",
       "      <td>2177</td>\n",
       "      <td>The Disorderly Knights (The Lymond Chronicles,...</td>\n",
       "    </tr>\n",
       "    <tr>\n",
       "      <th>5873</th>\n",
       "      <td>4.55</td>\n",
       "      <td>103</td>\n",
       "      <td>144247372X</td>\n",
       "      <td>good_reads:book</td>\n",
       "      <td>https://www.goodreads.com/author/show/2876763....</td>\n",
       "      <td>2012.0</td>\n",
       "      <td>/genres/fantasy|/genres/paranormal|/genres/ang...</td>\n",
       "      <td>dir59/14367071-the-complete-hush-hush-saga.html</td>\n",
       "      <td>2869</td>\n",
       "      <td>The Complete Hush, Hush Saga</td>\n",
       "    </tr>\n",
       "    <tr>\n",
       "      <th>5874</th>\n",
       "      <td>4.78</td>\n",
       "      <td>18</td>\n",
       "      <td>2851944371</td>\n",
       "      <td>good_reads:book</td>\n",
       "      <td>https://www.goodreads.com/author/show/318835.O...</td>\n",
       "      <td>1972.0</td>\n",
       "      <td>/genres/poetry|/genres/fiction|/genres/nobel-p...</td>\n",
       "      <td>dir59/2014000.Le_Monogramme.html</td>\n",
       "      <td>565</td>\n",
       "      <td>Le Monogramme</td>\n",
       "    </tr>\n",
       "    <tr>\n",
       "      <th>5880</th>\n",
       "      <td>4.61</td>\n",
       "      <td>123</td>\n",
       "      <td>NaN</td>\n",
       "      <td>good_reads:book</td>\n",
       "      <td>https://www.goodreads.com/author/show/4942228....</td>\n",
       "      <td>2010.0</td>\n",
       "      <td>/genres/romance|/genres/m-m-romance|/genres/sc...</td>\n",
       "      <td>dir59/10506860-the-interludes.html</td>\n",
       "      <td>1031</td>\n",
       "      <td>The Interludes (In the company of shadows, #3)</td>\n",
       "    </tr>\n",
       "    <tr>\n",
       "      <th>5957</th>\n",
       "      <td>4.72</td>\n",
       "      <td>104</td>\n",
       "      <td>178048044X</td>\n",
       "      <td>good_reads:book</td>\n",
       "      <td>https://www.goodreads.com/author/show/20248.J_...</td>\n",
       "      <td>2010.0</td>\n",
       "      <td>/genres/romance|/genres/paranormal|/genres/vam...</td>\n",
       "      <td>dir60/10780042-j-r-ward-collection.html</td>\n",
       "      <td>1788</td>\n",
       "      <td>J. R. Ward Collection</td>\n",
       "    </tr>\n",
       "  </tbody>\n",
       "</table>\n",
       "<p>224 rows × 10 columns</p>\n",
       "</div>"
      ],
      "text/plain": [
       "      rating review_count        isbn         booktype                                         author_url    year                                         genre_urls                                                dir rating_count                                               name\n",
       "17      4.58         1314  0345538374  good_reads:book  https://www.goodreads.com/author/show/656983.J...  1973.0  /genres/fantasy|/genres/classics|/genres/scien...       dir01/30.J_R_R_Tolkien_4_Book_Boxed_Set.html        68495                    J.R.R. Tolkien 4-Book Boxed Set\n",
       "162     4.55        15777  075640407X  good_reads:book  https://www.goodreads.com/author/show/108424.P...  2007.0                    /genres/fantasy|/genres/fiction             dir02/186074.The_Name_of_the_Wind.html       210018  The Name of the Wind (The Kingkiller Chronicle...\n",
       "222     4.53        15256  055357342X  good_reads:book  https://www.goodreads.com/author/show/346732.G...  2000.0  /genres/fantasy|/genres/fiction|/genres/fantas...                 dir03/62291.A_Storm_of_Swords.html       327992     A Storm of Swords (A Song of Ice and Fire, #3)\n",
       "242     4.53         5404  0545265355  good_reads:book  https://www.goodreads.com/author/show/153394.S...  2010.0  /genres/young-adult|/genres/fiction|/genres/fa...  dir03/7938275-the-hunger-games-trilogy-boxset....       102330  The Hunger Games Trilogy Boxset (The Hunger Ga...\n",
       "249     4.80          644  0740748475  good_reads:book  https://www.goodreads.com/author/show/13778.Bi...  2005.0  /genres/sequential-art|/genres/comics|/genres/...    dir03/24812.The_Complete_Calvin_and_Hobbes.html        22674                     The Complete Calvin and Hobbes\n",
       "284     4.58        15195  1406321346  good_reads:book  https://www.goodreads.com/author/show/150038.C...  2013.0  /genres/fantasy|/genres/young-adult|/genres/fa...             dir03/18335634-clockwork-princess.html       130161      Clockwork Princess (The Infernal Devices, #3)\n",
       "304     4.54          572  0140259449  good_reads:book  https://www.goodreads.com/author/show/1265.Jan...  1933.0  /genres/classics|/genres/fiction|/genres/roman...               dir04/14905.The_Complete_Novels.html        17539                                The Complete Novels\n",
       "386     4.55         8820  0756404738  good_reads:book  https://www.goodreads.com/author/show/108424.P...  2011.0  /genres/fantasy|/genres/fantasy|/genres/epic-f...             dir04/1215032.The_Wise_Man_s_Fear.html       142499  The Wise Man's Fear (The Kingkiller Chronicle,...\n",
       "400     4.53         9292  1423140605  good_reads:book  https://www.goodreads.com/author/show/15872.Ri...  2012.0  /genres/fantasy|/genres/young-adult|/genres/fa...             dir05/12127750-the-mark-of-athena.html       128412     The Mark of Athena (The Heroes of Olympus, #3)\n",
       "475     4.57          824  1416997857  good_reads:book  https://www.goodreads.com/author/show/150038.C...  2009.0  /genres/fantasy|/genres/young-adult|/genres/fa...  dir05/6485421-the-mortal-instruments-boxed-set...        39720  The Mortal Instruments Boxed Set (The Mortal I...\n",
       "483     4.59         2622  0312362153  good_reads:book  https://www.goodreads.com/author/show/4430.She...  2008.0  /genres/romance|/genres/paranormal-romance|/ge...                         dir05/2299110.Acheron.html        35028                          Acheron (Dark-Hunter, #8)\n",
       "554     4.54         4809  0385341679  good_reads:book  https://www.goodreads.com/author/show/48206.Ka...  2011.0  /genres/fantasy|/genres/urban-fantasy|/genres/...                     dir06/7304203-shadowfever.html        52812                            Shadowfever (Fever, #5)\n",
       "577     4.60         5732  0765326353  good_reads:book  https://www.goodreads.com/author/show/38550.Br...  2010.0  /genres/science-fiction-fantasy|/genres/fantas...                dir06/7235533-the-way-of-kings.html        76551      The Way of Kings (The Stormlight Archive, #1)\n",
       "620     4.54         7767  1423146727  good_reads:book  https://www.goodreads.com/author/show/15872.Ri...  2013.0  /genres/fantasy|/genres/young-adult|/genres/fa...             dir07/12127810-the-house-of-hades.html        72082     The House of Hades (The Heroes of Olympus, #4)\n",
       "840     4.57          431  1423113497  good_reads:book  https://www.goodreads.com/author/show/15872.Ri...  2008.0  /genres/fantasy|/genres/young-adult|/genres/fa...  dir09/3165162-percy-jackson-and-the-olympians-...        22937  Percy Jackson and the Olympians Boxed Set (Per...\n",
       "883     4.58          558  0140286802  good_reads:book  https://www.goodreads.com/author/show/500.Jorg...  1998.0  /genres/short-stories|/genres/literature|/genr...                dir09/17961.Collected_Fictions.html        12596                                 Collected Fictions\n",
       "911     4.85           26  1491732954  good_reads:book  https://www.goodreads.com/author/show/8189303....  2014.0                                    /genres/fiction             dir10/22242097-honor-and-polygamy.html           97                                 Honor and Polygamy\n",
       "935     4.64          148  1595142711  good_reads:book  https://www.goodreads.com/author/show/137902.R...  2009.0  /genres/paranormal|/genres/vampires|/genres/yo...      dir10/6339989-vampire-academy-collection.html        21743  Vampire Academy Collection (Vampire Academy, #...\n",
       "938     4.51        11011  1481426303  good_reads:book  https://www.goodreads.com/author/show/150038.C...  2014.0  /genres/fantasy|/genres/young-adult|/genres/fa...           dir10/8755785-city-of-heavenly-fire.html        69924  City of Heavenly Fire (The Mortal Instruments,...\n",
       "953     4.56           27  1477276068  good_reads:book  https://www.goodreads.com/author/show/6621980....  2012.0                                                NaN              dir10/16243767-crossing-the-seas.html           90                                  Crossing the Seas\n",
       "958     4.57        38199  0545010225  good_reads:book  https://www.goodreads.com/author/show/1077326....  2007.0  /genres/fantasy|/genres/young-adult|/genres/fa...  dir10/136251.Harry_Potter_and_the_Deathly_Hall...      1245866  Harry Potter and the Deathly Hallows (Harry Po...\n",
       "1033    4.56         1304  0007119550  good_reads:book  https://www.goodreads.com/author/show/346732.G...  2000.0  /genres/fiction|/genres/fantasy|/genres/epic-f...                dir11/147915.A_Storm_of_Swords.html        41161   A Storm of Swords (A Song of Ice and Fire, #3-2)\n",
       "1109    4.70           23         NaN  good_reads:book  https://www.goodreads.com/author/show/7488658....  2013.0                                    /genres/romance           dir12/19181419-a-bird-without-wings.html           56                               A Bird Without Wings\n",
       "1127    4.52          644  0141183047  good_reads:book  https://www.goodreads.com/author/show/7816.Fer...  1982.0  /genres/poetry|/genres/fiction|/genres/philoso...              dir12/45974.The_Book_of_Disquiet.html         7463                               The Book of Disquiet\n",
       "1151    4.64           84  1491877928  good_reads:book  https://www.goodreads.com/author/show/7271860....  2013.0  /genres/war|/genres/historical-fiction|/genres...  dir12/18501652-the-guardian-of-secrets-and-her...          167       The Guardian of Secrets and Her Deathly Pact\n",
       "1186    4.51         4853  1619630621  good_reads:book  https://www.goodreads.com/author/show/3433047....  2013.0  /genres/fantasy|/genres/young-adult|/genres/ro...              dir12/17167166-crown-of-midnight.html        34142            Crown of Midnight (Throne of Glass, #2)\n",
       "1202    4.59         1260  0310902711  good_reads:book  https://www.goodreads.com/author/show/5158478....  1972.0  /genres/religion|/genres/christian|/genres/non...                       dir13/280111.Holy_Bible.html        25584                                         Holy Bible\n",
       "1260    4.60         1943  0842377506  good_reads:book  https://www.goodreads.com/author/show/6492.Fra...  1993.0  /genres/christian-fiction|/genres/historical-f...               dir13/95617.A_Voice_in_the_Wind.html        37923         A Voice in the Wind (Mark of the Lion, #1)\n",
       "1268    4.52          215  1557091528  good_reads:book  https://www.goodreads.com/author/show/63859.Ja...  1787.0  /genres/history|/genres/non-fiction|/genres/po...  dir13/89959.The_Constitution_of_the_United_Sta...        12894   The Constitution of the United States of America\n",
       "1300    4.61           24  1499227299  good_reads:book  https://www.goodreads.com/author/show/7414345....  2014.0  /genres/paranormal|/genres/vampires|/genres/pa...        dir14/22090082-vampire-princess-rising.html          128  Vampire Princess Rising (The Winters Family Sa...\n",
       "...      ...          ...         ...              ...                                                ...     ...                                                ...                                                ...          ...                                                ...\n",
       "5532    4.86            4  1477504540  good_reads:book  https://www.goodreads.com/author/show/5989528....  2013.0                                                NaN          dir56/17695243-call-of-the-lost-ages.html            7                              Call Of The Lost Ages\n",
       "5549    4.62           13  0882408704  good_reads:book  https://www.goodreads.com/author/show/947.Will...  1899.0  /genres/classics|/genres/fiction|/genres/poetr...  dir56/17134346-the-complete-works-of-william-s...          217          The Complete Works of William Shakespeare\n",
       "5557    4.61           14         NaN  good_reads:book  https://www.goodreads.com/author/show/32401.Al...  2006.0                /genres/fantasy|/genres/young-adult          dir56/13488552-the-books-of-pellinor.html          394                              The Books of Pellinor\n",
       "5563    4.70           30         NaN  good_reads:book  https://www.goodreads.com/author/show/7153266....  2014.0                                  /genres/childrens                dir56/20445451-children-s-book.html           57                                    Children's book\n",
       "5564    5.00            9         NaN  good_reads:book  https://www.goodreads.com/author/show/7738947....  2014.0                  /genres/romance|/genres/new-adult                      dir56/21902777-untainted.html           14               Untainted (Photographer Trilogy, #3)\n",
       "5584    4.75            3  1481959824  good_reads:book  https://www.goodreads.com/author/show/5100743....  2013.0                                                NaN                  dir56/17606460-why-not-world.html            8                                      Why Not-World\n",
       "5588    4.66          190         NaN  good_reads:book  https://www.goodreads.com/author/show/4942228....  2011.0  /genres/romance|/genres/m-m-romance|/genres/sc...                           dir56/11737700-fade.html          996               Fade (In the company of shadows, #4)\n",
       "5591    4.58           31  1500118680  good_reads:book  https://www.goodreads.com/author/show/7738947....  2014.0                  /genres/romance|/genres/new-adult                  dir56/22023804-logan-s-story.html           45                  Logan's Story (Sand & Clay, #0.5)\n",
       "5601    4.66          312  0842384898  good_reads:book  https://www.goodreads.com/author/show/5158478....  1902.0  /genres/christian|/genres/religion|/genres/non...                       dir57/930470.Holy_Bible.html         2666                                         Holy Bible\n",
       "5607    4.66          513  0007444397  good_reads:book  https://www.goodreads.com/author/show/4659154....  2011.0              /genres/non-fiction|/genres/biography                  dir57/11792612-dare-to-dream.html         5572                      Dare to Dream (100% Official)\n",
       "5619    4.52          462  0991190920  good_reads:book  https://www.goodreads.com/author/show/7092218....  2014.0  /genres/fantasy|/genres/paranormal|/genres/fai...               dir57/18188649-escaping-destiny.html         3795          Escaping Destiny (The Fae Chronicles, #3)\n",
       "5635    4.54          958  0778315703  good_reads:book  https://www.goodreads.com/author/show/4480131....  2013.0  /genres/erotica|/genres/bdsm|/genres/adult-fic...                   dir57/17251444-the-mistress.html         4869            The Mistress (The Original Sinners, #4)\n",
       "5642    4.70          158  1417642165  good_reads:book  https://www.goodreads.com/author/show/13778.Bi...  1992.0  /genres/sequential-art|/genres/comics|/genres/...                 dir57/70487.Calvin_and_Hobbes.html         9224                                  Calvin and Hobbes\n",
       "5657    4.80            8  1469908530  good_reads:book  https://www.goodreads.com/author/show/4695431....  2012.0                                    /genres/fantasy  dir57/15734769-myrtle-mae-and-the-mirror-in-th...           10  Myrtle Mae and the Mirror in the Attic (The Ma...\n",
       "5665    4.53           61         NaN  good_reads:book  https://www.goodreads.com/author/show/7738947....  2014.0  /genres/romance|/genres/new-adult|/genres/myst...               dir57/20975446-tainted-pictures.html          103        Tainted Pictures (Photographer Trilogy, #2)\n",
       "5683    4.56          204         NaN  good_reads:book  https://www.goodreads.com/author/show/3097905....     NaN  /genres/fantasy|/genres/young-adult|/genres/ro...                  dir57/12474623-tiger-s-dream.html          895                 Tiger's Dream (The Tiger Saga, #5)\n",
       "5692    5.00            0         NaN  good_reads:book  https://www.goodreads.com/author/show/5989528....  2012.0                                                NaN  dir57/14288412-abstraction-in-theory---laws-of...            6  Abstraction In Theory - Laws Of Physical Trans...\n",
       "5716    4.67           34  0810117134  good_reads:book  https://www.goodreads.com/author/show/205563.M...  1970.0  /genres/classics|/genres/fiction|/genres/histo...                    dir58/1679497.The_Fortress.html         1335                                       The Fortress\n",
       "5717    4.71            4         NaN  good_reads:book  https://www.goodreads.com/author/show/5838022....  2012.0                                                NaN              dir58/13741511-american-amaranth.html           14                                  American Amaranth\n",
       "5718    4.60          656  1613725132  good_reads:book  https://www.goodreads.com/author/show/1122775....  2012.0  /genres/romance|/genres/m-m-romance|/genres/ro...                dir58/13246997-armed-dangerous.html         5268                  Armed & Dangerous (Cut & Run, #5)\n",
       "5726    4.55          106  1594170347  good_reads:book  https://www.goodreads.com/author/show/5158478....  1952.0  /genres/religion|/genres/reference|/genres/rel...                       dir58/147635.Holy_Bible.html         1750                                         Holy Bible\n",
       "5729    4.83           16         NaN  good_reads:book  https://www.goodreads.com/author/show/7058502....  2014.0                                                NaN                     dir58/22312293-the-keeper.html           29                        The Keeper (The Keeper, #5)\n",
       "5753    4.61          811  1937551865  good_reads:book  https://www.goodreads.com/author/show/1122775....  2013.0  /genres/romance|/genres/m-m-romance|/genres/ro...                    dir58/16159276-touch-geaux.html         4212                      Touch & Geaux (Cut & Run, #7)\n",
       "5764    4.54          228         NaN  good_reads:book  https://www.goodreads.com/author/show/2112402....  2013.0  /genres/non-fiction|/genres/self-help|/genres/...                 dir58/18479831-staying-strong.html         2343                                     Staying Strong\n",
       "5778    4.63            0         NaN  good_reads:book  https://www.goodreads.com/author/show/4808225....  2010.0                                                NaN                      dir58/11187937-un-spoken.html           19                                        (Un) Spoken\n",
       "5806    4.57          121  0679777458  good_reads:book  https://www.goodreads.com/author/show/8361.Dor...  1966.0  /genres/historical-fiction|/genres/fiction|/ge...           dir59/351211.The_Disorderly_Knights.html         2177  The Disorderly Knights (The Lymond Chronicles,...\n",
       "5873    4.55          103  144247372X  good_reads:book  https://www.goodreads.com/author/show/2876763....  2012.0  /genres/fantasy|/genres/paranormal|/genres/ang...    dir59/14367071-the-complete-hush-hush-saga.html         2869                       The Complete Hush, Hush Saga\n",
       "5874    4.78           18  2851944371  good_reads:book  https://www.goodreads.com/author/show/318835.O...  1972.0  /genres/poetry|/genres/fiction|/genres/nobel-p...                   dir59/2014000.Le_Monogramme.html          565                                      Le Monogramme\n",
       "5880    4.61          123         NaN  good_reads:book  https://www.goodreads.com/author/show/4942228....  2010.0  /genres/romance|/genres/m-m-romance|/genres/sc...                 dir59/10506860-the-interludes.html         1031     The Interludes (In the company of shadows, #3)\n",
       "5957    4.72          104  178048044X  good_reads:book  https://www.goodreads.com/author/show/20248.J_...  2010.0  /genres/romance|/genres/paranormal|/genres/vam...            dir60/10780042-j-r-ward-collection.html         1788                              J. R. Ward Collection\n",
       "\n",
       "[224 rows x 10 columns]"
      ]
     },
     "execution_count": 19,
     "metadata": {},
     "output_type": "execute_result"
    }
   ],
   "source": [
    "df.query('rating > 4.5')"
   ]
  },
  {
   "cell_type": "code",
   "execution_count": 20,
   "metadata": {},
   "outputs": [
    {
     "data": {
      "text/html": [
       "<div>\n",
       "<table border=\"1\" class=\"dataframe\">\n",
       "  <thead>\n",
       "    <tr style=\"text-align: right;\">\n",
       "      <th></th>\n",
       "      <th>rating</th>\n",
       "      <th>review_count</th>\n",
       "      <th>isbn</th>\n",
       "      <th>booktype</th>\n",
       "      <th>author_url</th>\n",
       "      <th>year</th>\n",
       "      <th>genre_urls</th>\n",
       "      <th>dir</th>\n",
       "      <th>rating_count</th>\n",
       "      <th>name</th>\n",
       "    </tr>\n",
       "  </thead>\n",
       "  <tbody>\n",
       "    <tr>\n",
       "      <th>47</th>\n",
       "      <td>3.68</td>\n",
       "      <td>5785</td>\n",
       "      <td>0143039954</td>\n",
       "      <td>good_reads:book</td>\n",
       "      <td>https://www.goodreads.com/author/show/903.Homer</td>\n",
       "      <td>-800.0</td>\n",
       "      <td>/genres/classics|/genres/fiction|/genres/poetr...</td>\n",
       "      <td>dir01/1381.The_Odyssey.html</td>\n",
       "      <td>560248</td>\n",
       "      <td>The Odyssey</td>\n",
       "    </tr>\n",
       "    <tr>\n",
       "      <th>246</th>\n",
       "      <td>4.01</td>\n",
       "      <td>365</td>\n",
       "      <td>0147712556</td>\n",
       "      <td>good_reads:book</td>\n",
       "      <td>https://www.goodreads.com/author/show/903.Homer</td>\n",
       "      <td>-800.0</td>\n",
       "      <td>/genres/classics|/genres/fantasy|/genres/mytho...</td>\n",
       "      <td>dir03/1375.The_Iliad_The_Odyssey.html</td>\n",
       "      <td>35123</td>\n",
       "      <td>The Iliad/The Odyssey</td>\n",
       "    </tr>\n",
       "    <tr>\n",
       "      <th>455</th>\n",
       "      <td>3.85</td>\n",
       "      <td>1499</td>\n",
       "      <td>0140449140</td>\n",
       "      <td>good_reads:book</td>\n",
       "      <td>https://www.goodreads.com/author/show/879.Plato</td>\n",
       "      <td>-380.0</td>\n",
       "      <td>/genres/philosophy|/genres/classics|/genres/no...</td>\n",
       "      <td>dir05/30289.The_Republic.html</td>\n",
       "      <td>82022</td>\n",
       "      <td>The Republic</td>\n",
       "    </tr>\n",
       "    <tr>\n",
       "      <th>596</th>\n",
       "      <td>3.77</td>\n",
       "      <td>1240</td>\n",
       "      <td>0679729526</td>\n",
       "      <td>good_reads:book</td>\n",
       "      <td>https://www.goodreads.com/author/show/919.Virgil</td>\n",
       "      <td>-29.0</td>\n",
       "      <td>/genres/classics|/genres/poetry|/genres/fictio...</td>\n",
       "      <td>dir06/12914.The_Aeneid.html</td>\n",
       "      <td>60308</td>\n",
       "      <td>The Aeneid</td>\n",
       "    </tr>\n",
       "    <tr>\n",
       "      <th>629</th>\n",
       "      <td>3.64</td>\n",
       "      <td>1231</td>\n",
       "      <td>1580495931</td>\n",
       "      <td>good_reads:book</td>\n",
       "      <td>https://www.goodreads.com/author/show/1002.Sop...</td>\n",
       "      <td>-429.0</td>\n",
       "      <td>/genres/classics|/genres/plays|/genres/drama|/...</td>\n",
       "      <td>dir07/1554.Oedipus_Rex.html</td>\n",
       "      <td>93192</td>\n",
       "      <td>Oedipus Rex</td>\n",
       "    </tr>\n",
       "    <tr>\n",
       "      <th>674</th>\n",
       "      <td>3.92</td>\n",
       "      <td>3559</td>\n",
       "      <td>1590302257</td>\n",
       "      <td>good_reads:book</td>\n",
       "      <td>https://www.goodreads.com/author/show/1771.Sun...</td>\n",
       "      <td>-512.0</td>\n",
       "      <td>/genres/non-fiction|/genres/politics|/genres/c...</td>\n",
       "      <td>dir07/10534.The_Art_of_War.html</td>\n",
       "      <td>114619</td>\n",
       "      <td>The Art of War</td>\n",
       "    </tr>\n",
       "    <tr>\n",
       "      <th>746</th>\n",
       "      <td>4.06</td>\n",
       "      <td>1087</td>\n",
       "      <td>0140449183</td>\n",
       "      <td>good_reads:book</td>\n",
       "      <td>https://www.goodreads.com/author/show/5158478....</td>\n",
       "      <td>-500.0</td>\n",
       "      <td>/genres/classics|/genres/spirituality|/genres/...</td>\n",
       "      <td>dir08/99944.The_Bhagavad_Gita.html</td>\n",
       "      <td>31634</td>\n",
       "      <td>The Bhagavad Gita</td>\n",
       "    </tr>\n",
       "    <tr>\n",
       "      <th>777</th>\n",
       "      <td>3.52</td>\n",
       "      <td>1038</td>\n",
       "      <td>1580493882</td>\n",
       "      <td>good_reads:book</td>\n",
       "      <td>https://www.goodreads.com/author/show/1002.Sop...</td>\n",
       "      <td>-442.0</td>\n",
       "      <td>/genres/drama|/genres/fiction|/genres/classics...</td>\n",
       "      <td>dir08/7728.Antigone.html</td>\n",
       "      <td>49084</td>\n",
       "      <td>Antigone</td>\n",
       "    </tr>\n",
       "    <tr>\n",
       "      <th>1233</th>\n",
       "      <td>3.94</td>\n",
       "      <td>704</td>\n",
       "      <td>015602764X</td>\n",
       "      <td>good_reads:book</td>\n",
       "      <td>https://www.goodreads.com/author/show/1002.Sop...</td>\n",
       "      <td>-400.0</td>\n",
       "      <td>/genres/classics|/genres/plays|/genres/drama|/...</td>\n",
       "      <td>dir13/1540.The_Oedipus_Cycle.html</td>\n",
       "      <td>36008</td>\n",
       "      <td>The Oedipus Cycle</td>\n",
       "    </tr>\n",
       "    <tr>\n",
       "      <th>1397</th>\n",
       "      <td>4.03</td>\n",
       "      <td>890</td>\n",
       "      <td>0192840509</td>\n",
       "      <td>good_reads:book</td>\n",
       "      <td>https://www.goodreads.com/author/show/12452.Aesop</td>\n",
       "      <td>-560.0</td>\n",
       "      <td>/genres/classics|/genres/childrens|/genres/lit...</td>\n",
       "      <td>dir14/21348.Aesop_s_Fables.html</td>\n",
       "      <td>71259</td>\n",
       "      <td>Aesop's Fables</td>\n",
       "    </tr>\n",
       "    <tr>\n",
       "      <th>1398</th>\n",
       "      <td>3.60</td>\n",
       "      <td>1644</td>\n",
       "      <td>0141026286</td>\n",
       "      <td>good_reads:book</td>\n",
       "      <td>https://www.goodreads.com/author/show/5158478....</td>\n",
       "      <td>-1500.0</td>\n",
       "      <td>/genres/religion|/genres/literature|/genres/an...</td>\n",
       "      <td>dir14/19351.The_Epic_of_Gilgamesh.html</td>\n",
       "      <td>42026</td>\n",
       "      <td>The Epic of Gilgamesh</td>\n",
       "    </tr>\n",
       "    <tr>\n",
       "      <th>1428</th>\n",
       "      <td>3.80</td>\n",
       "      <td>539</td>\n",
       "      <td>0486275485</td>\n",
       "      <td>good_reads:book</td>\n",
       "      <td>https://www.goodreads.com/author/show/973.Euri...</td>\n",
       "      <td>-431.0</td>\n",
       "      <td>/genres/classics|/genres/plays|/genres/drama|/...</td>\n",
       "      <td>dir15/752900.Medea.html</td>\n",
       "      <td>29858</td>\n",
       "      <td>Medea</td>\n",
       "    </tr>\n",
       "    <tr>\n",
       "      <th>1815</th>\n",
       "      <td>3.96</td>\n",
       "      <td>493</td>\n",
       "      <td>0140443339</td>\n",
       "      <td>good_reads:book</td>\n",
       "      <td>https://www.goodreads.com/author/show/990.Aesc...</td>\n",
       "      <td>-458.0</td>\n",
       "      <td>/genres/classics|/genres/plays|/genres/drama|/...</td>\n",
       "      <td>dir19/1519.The_Oresteia.html</td>\n",
       "      <td>18729</td>\n",
       "      <td>The Oresteia</td>\n",
       "    </tr>\n",
       "    <tr>\n",
       "      <th>1882</th>\n",
       "      <td>4.02</td>\n",
       "      <td>377</td>\n",
       "      <td>0872205541</td>\n",
       "      <td>good_reads:book</td>\n",
       "      <td>https://www.goodreads.com/author/show/879.Plato</td>\n",
       "      <td>-400.0</td>\n",
       "      <td>/genres/philosophy|/genres/classics|/genres/no...</td>\n",
       "      <td>dir19/22632.The_Trial_and_Death_of_Socrates.html</td>\n",
       "      <td>18712</td>\n",
       "      <td>The Trial and Death of Socrates</td>\n",
       "    </tr>\n",
       "    <tr>\n",
       "      <th>2078</th>\n",
       "      <td>3.84</td>\n",
       "      <td>399</td>\n",
       "      <td>0140440399</td>\n",
       "      <td>good_reads:book</td>\n",
       "      <td>https://www.goodreads.com/author/show/957.Thuc...</td>\n",
       "      <td>-411.0</td>\n",
       "      <td>/genres/history|/genres/classics|/genres/non-f...</td>\n",
       "      <td>dir21/261243.The_History_of_the_Peloponnesian_...</td>\n",
       "      <td>17212</td>\n",
       "      <td>The History of the Peloponnesian War</td>\n",
       "    </tr>\n",
       "    <tr>\n",
       "      <th>2527</th>\n",
       "      <td>3.94</td>\n",
       "      <td>506</td>\n",
       "      <td>0140449086</td>\n",
       "      <td>good_reads:book</td>\n",
       "      <td>https://www.goodreads.com/author/show/901.Hero...</td>\n",
       "      <td>-440.0</td>\n",
       "      <td>/genres/history|/genres/classics|/genres/non-f...</td>\n",
       "      <td>dir26/1362.The_Histories.html</td>\n",
       "      <td>20570</td>\n",
       "      <td>The Histories</td>\n",
       "    </tr>\n",
       "    <tr>\n",
       "      <th>3133</th>\n",
       "      <td>4.30</td>\n",
       "      <td>131</td>\n",
       "      <td>0872203492</td>\n",
       "      <td>good_reads:book</td>\n",
       "      <td>https://www.goodreads.com/author/show/879.Plato</td>\n",
       "      <td>-400.0</td>\n",
       "      <td>/genres/philosophy|/genres/classics|/genres/no...</td>\n",
       "      <td>dir32/9462.Complete_Works.html</td>\n",
       "      <td>7454</td>\n",
       "      <td>Complete Works</td>\n",
       "    </tr>\n",
       "    <tr>\n",
       "      <th>3274</th>\n",
       "      <td>3.88</td>\n",
       "      <td>411</td>\n",
       "      <td>0140449493</td>\n",
       "      <td>good_reads:book</td>\n",
       "      <td>https://www.goodreads.com/author/show/2192.Ari...</td>\n",
       "      <td>-350.0</td>\n",
       "      <td>/genres/philosophy|/genres/classics|/genres/no...</td>\n",
       "      <td>dir33/19068.The_Nicomachean_Ethics.html</td>\n",
       "      <td>16534</td>\n",
       "      <td>The Nicomachean Ethics</td>\n",
       "    </tr>\n",
       "    <tr>\n",
       "      <th>3757</th>\n",
       "      <td>3.82</td>\n",
       "      <td>364</td>\n",
       "      <td>0872206033</td>\n",
       "      <td>good_reads:book</td>\n",
       "      <td>https://www.goodreads.com/author/show/1011.Ari...</td>\n",
       "      <td>-411.0</td>\n",
       "      <td>/genres/plays|/genres/classics|/genres/drama|/...</td>\n",
       "      <td>dir38/1591.Lysistrata.html</td>\n",
       "      <td>18070</td>\n",
       "      <td>Lysistrata</td>\n",
       "    </tr>\n",
       "    <tr>\n",
       "      <th>4402</th>\n",
       "      <td>3.99</td>\n",
       "      <td>516</td>\n",
       "      <td>0140449272</td>\n",
       "      <td>good_reads:book</td>\n",
       "      <td>https://www.goodreads.com/author/show/879.Plato</td>\n",
       "      <td>-370.0</td>\n",
       "      <td>/genres/non-fiction|/genres/classics|/genres/p...</td>\n",
       "      <td>dir45/81779.The_Symposium.html</td>\n",
       "      <td>18457</td>\n",
       "      <td>The Symposium</td>\n",
       "    </tr>\n",
       "    <tr>\n",
       "      <th>4475</th>\n",
       "      <td>4.11</td>\n",
       "      <td>281</td>\n",
       "      <td>0865163480</td>\n",
       "      <td>good_reads:book</td>\n",
       "      <td>https://www.goodreads.com/author/show/879.Plato</td>\n",
       "      <td>-390.0</td>\n",
       "      <td>/genres/philosophy|/genres/classics|/genres/no...</td>\n",
       "      <td>dir45/73945.Apology.html</td>\n",
       "      <td>11478</td>\n",
       "      <td>Apology</td>\n",
       "    </tr>\n",
       "    <tr>\n",
       "      <th>5367</th>\n",
       "      <td>4.07</td>\n",
       "      <td>133</td>\n",
       "      <td>0872206335</td>\n",
       "      <td>good_reads:book</td>\n",
       "      <td>https://www.goodreads.com/author/show/879.Plato</td>\n",
       "      <td>-360.0</td>\n",
       "      <td>/genres/philosophy|/genres/classics|/genres/no...</td>\n",
       "      <td>dir54/30292.Five_Dialogues.html</td>\n",
       "      <td>9964</td>\n",
       "      <td>Five Dialogues</td>\n",
       "    </tr>\n",
       "  </tbody>\n",
       "</table>\n",
       "</div>"
      ],
      "text/plain": [
       "      rating review_count        isbn         booktype                                         author_url    year                                         genre_urls                                                dir rating_count                                  name\n",
       "47      3.68         5785  0143039954  good_reads:book    https://www.goodreads.com/author/show/903.Homer  -800.0  /genres/classics|/genres/fiction|/genres/poetr...                        dir01/1381.The_Odyssey.html       560248                           The Odyssey\n",
       "246     4.01          365  0147712556  good_reads:book    https://www.goodreads.com/author/show/903.Homer  -800.0  /genres/classics|/genres/fantasy|/genres/mytho...              dir03/1375.The_Iliad_The_Odyssey.html        35123                 The Iliad/The Odyssey\n",
       "455     3.85         1499  0140449140  good_reads:book    https://www.goodreads.com/author/show/879.Plato  -380.0  /genres/philosophy|/genres/classics|/genres/no...                      dir05/30289.The_Republic.html        82022                          The Republic\n",
       "596     3.77         1240  0679729526  good_reads:book   https://www.goodreads.com/author/show/919.Virgil   -29.0  /genres/classics|/genres/poetry|/genres/fictio...                        dir06/12914.The_Aeneid.html        60308                            The Aeneid\n",
       "629     3.64         1231  1580495931  good_reads:book  https://www.goodreads.com/author/show/1002.Sop...  -429.0  /genres/classics|/genres/plays|/genres/drama|/...                        dir07/1554.Oedipus_Rex.html        93192                           Oedipus Rex\n",
       "674     3.92         3559  1590302257  good_reads:book  https://www.goodreads.com/author/show/1771.Sun...  -512.0  /genres/non-fiction|/genres/politics|/genres/c...                    dir07/10534.The_Art_of_War.html       114619                        The Art of War\n",
       "746     4.06         1087  0140449183  good_reads:book  https://www.goodreads.com/author/show/5158478....  -500.0  /genres/classics|/genres/spirituality|/genres/...                 dir08/99944.The_Bhagavad_Gita.html        31634                     The Bhagavad Gita\n",
       "777     3.52         1038  1580493882  good_reads:book  https://www.goodreads.com/author/show/1002.Sop...  -442.0  /genres/drama|/genres/fiction|/genres/classics...                           dir08/7728.Antigone.html        49084                              Antigone\n",
       "1233    3.94          704  015602764X  good_reads:book  https://www.goodreads.com/author/show/1002.Sop...  -400.0  /genres/classics|/genres/plays|/genres/drama|/...                  dir13/1540.The_Oedipus_Cycle.html        36008                     The Oedipus Cycle\n",
       "1397    4.03          890  0192840509  good_reads:book  https://www.goodreads.com/author/show/12452.Aesop  -560.0  /genres/classics|/genres/childrens|/genres/lit...                    dir14/21348.Aesop_s_Fables.html        71259                        Aesop's Fables\n",
       "1398    3.60         1644  0141026286  good_reads:book  https://www.goodreads.com/author/show/5158478.... -1500.0  /genres/religion|/genres/literature|/genres/an...             dir14/19351.The_Epic_of_Gilgamesh.html        42026                 The Epic of Gilgamesh\n",
       "1428    3.80          539  0486275485  good_reads:book  https://www.goodreads.com/author/show/973.Euri...  -431.0  /genres/classics|/genres/plays|/genres/drama|/...                            dir15/752900.Medea.html        29858                                 Medea\n",
       "1815    3.96          493  0140443339  good_reads:book  https://www.goodreads.com/author/show/990.Aesc...  -458.0  /genres/classics|/genres/plays|/genres/drama|/...                       dir19/1519.The_Oresteia.html        18729                          The Oresteia\n",
       "1882    4.02          377  0872205541  good_reads:book    https://www.goodreads.com/author/show/879.Plato  -400.0  /genres/philosophy|/genres/classics|/genres/no...   dir19/22632.The_Trial_and_Death_of_Socrates.html        18712       The Trial and Death of Socrates\n",
       "2078    3.84          399  0140440399  good_reads:book  https://www.goodreads.com/author/show/957.Thuc...  -411.0  /genres/history|/genres/classics|/genres/non-f...  dir21/261243.The_History_of_the_Peloponnesian_...        17212  The History of the Peloponnesian War\n",
       "2527    3.94          506  0140449086  good_reads:book  https://www.goodreads.com/author/show/901.Hero...  -440.0  /genres/history|/genres/classics|/genres/non-f...                      dir26/1362.The_Histories.html        20570                         The Histories\n",
       "3133    4.30          131  0872203492  good_reads:book    https://www.goodreads.com/author/show/879.Plato  -400.0  /genres/philosophy|/genres/classics|/genres/no...                     dir32/9462.Complete_Works.html         7454                        Complete Works\n",
       "3274    3.88          411  0140449493  good_reads:book  https://www.goodreads.com/author/show/2192.Ari...  -350.0  /genres/philosophy|/genres/classics|/genres/no...            dir33/19068.The_Nicomachean_Ethics.html        16534                The Nicomachean Ethics\n",
       "3757    3.82          364  0872206033  good_reads:book  https://www.goodreads.com/author/show/1011.Ari...  -411.0  /genres/plays|/genres/classics|/genres/drama|/...                         dir38/1591.Lysistrata.html        18070                            Lysistrata\n",
       "4402    3.99          516  0140449272  good_reads:book    https://www.goodreads.com/author/show/879.Plato  -370.0  /genres/non-fiction|/genres/classics|/genres/p...                     dir45/81779.The_Symposium.html        18457                         The Symposium\n",
       "4475    4.11          281  0865163480  good_reads:book    https://www.goodreads.com/author/show/879.Plato  -390.0  /genres/philosophy|/genres/classics|/genres/no...                           dir45/73945.Apology.html        11478                               Apology\n",
       "5367    4.07          133  0872206335  good_reads:book    https://www.goodreads.com/author/show/879.Plato  -360.0  /genres/philosophy|/genres/classics|/genres/no...                    dir54/30292.Five_Dialogues.html         9964                        Five Dialogues"
      ]
     },
     "execution_count": 20,
     "metadata": {},
     "output_type": "execute_result"
    }
   ],
   "source": [
    "df[df['year'] < 0]"
   ]
  },
  {
   "cell_type": "markdown",
   "metadata": {},
   "source": [
    "#### 组合过滤，同时满足year小于0和rating大于4.1"
   ]
  },
  {
   "cell_type": "code",
   "execution_count": 21,
   "metadata": {},
   "outputs": [
    {
     "data": {
      "text/html": [
       "<div>\n",
       "<table border=\"1\" class=\"dataframe\">\n",
       "  <thead>\n",
       "    <tr style=\"text-align: right;\">\n",
       "      <th></th>\n",
       "      <th>rating</th>\n",
       "      <th>review_count</th>\n",
       "      <th>isbn</th>\n",
       "      <th>booktype</th>\n",
       "      <th>author_url</th>\n",
       "      <th>year</th>\n",
       "      <th>genre_urls</th>\n",
       "      <th>dir</th>\n",
       "      <th>rating_count</th>\n",
       "      <th>name</th>\n",
       "    </tr>\n",
       "  </thead>\n",
       "  <tbody>\n",
       "    <tr>\n",
       "      <th>3133</th>\n",
       "      <td>4.30</td>\n",
       "      <td>131</td>\n",
       "      <td>0872203492</td>\n",
       "      <td>good_reads:book</td>\n",
       "      <td>https://www.goodreads.com/author/show/879.Plato</td>\n",
       "      <td>-400.0</td>\n",
       "      <td>/genres/philosophy|/genres/classics|/genres/no...</td>\n",
       "      <td>dir32/9462.Complete_Works.html</td>\n",
       "      <td>7454</td>\n",
       "      <td>Complete Works</td>\n",
       "    </tr>\n",
       "    <tr>\n",
       "      <th>4475</th>\n",
       "      <td>4.11</td>\n",
       "      <td>281</td>\n",
       "      <td>0865163480</td>\n",
       "      <td>good_reads:book</td>\n",
       "      <td>https://www.goodreads.com/author/show/879.Plato</td>\n",
       "      <td>-390.0</td>\n",
       "      <td>/genres/philosophy|/genres/classics|/genres/no...</td>\n",
       "      <td>dir45/73945.Apology.html</td>\n",
       "      <td>11478</td>\n",
       "      <td>Apology</td>\n",
       "    </tr>\n",
       "  </tbody>\n",
       "</table>\n",
       "</div>"
      ],
      "text/plain": [
       "      rating review_count        isbn         booktype                                       author_url   year                                         genre_urls                             dir rating_count            name\n",
       "3133    4.30          131  0872203492  good_reads:book  https://www.goodreads.com/author/show/879.Plato -400.0  /genres/philosophy|/genres/classics|/genres/no...  dir32/9462.Complete_Works.html         7454  Complete Works\n",
       "4475    4.11          281  0865163480  good_reads:book  https://www.goodreads.com/author/show/879.Plato -390.0  /genres/philosophy|/genres/classics|/genres/no...        dir45/73945.Apology.html        11478         Apology"
      ]
     },
     "execution_count": 21,
     "metadata": {},
     "output_type": "execute_result"
    }
   ],
   "source": [
    "df[(df['year'] < 0) & (df['rating'] > 4.1)]"
   ]
  },
  {
   "cell_type": "markdown",
   "metadata": {},
   "source": [
    "#### 筛选出year列值为NaN的子集"
   ]
  },
  {
   "cell_type": "code",
   "execution_count": 22,
   "metadata": {},
   "outputs": [
    {
     "data": {
      "text/html": [
       "<div>\n",
       "<table border=\"1\" class=\"dataframe\">\n",
       "  <thead>\n",
       "    <tr style=\"text-align: right;\">\n",
       "      <th></th>\n",
       "      <th>rating</th>\n",
       "      <th>review_count</th>\n",
       "      <th>isbn</th>\n",
       "      <th>booktype</th>\n",
       "      <th>author_url</th>\n",
       "      <th>year</th>\n",
       "      <th>genre_urls</th>\n",
       "      <th>dir</th>\n",
       "      <th>rating_count</th>\n",
       "      <th>name</th>\n",
       "    </tr>\n",
       "  </thead>\n",
       "  <tbody>\n",
       "    <tr>\n",
       "      <th>2442</th>\n",
       "      <td>4.23</td>\n",
       "      <td>526</td>\n",
       "      <td>NaN</td>\n",
       "      <td>good_reads:book</td>\n",
       "      <td>https://www.goodreads.com/author/show/623606.A...</td>\n",
       "      <td>NaN</td>\n",
       "      <td>/genres/religion|/genres/islam|/genres/non-fic...</td>\n",
       "      <td>dir25/1301625.La_Tahzan.html</td>\n",
       "      <td>4134</td>\n",
       "      <td>La Tahzan</td>\n",
       "    </tr>\n",
       "    <tr>\n",
       "      <th>2869</th>\n",
       "      <td>4.61</td>\n",
       "      <td>2</td>\n",
       "      <td>NaN</td>\n",
       "      <td>good_reads:book</td>\n",
       "      <td>https://www.goodreads.com/author/show/8182217....</td>\n",
       "      <td>NaN</td>\n",
       "      <td>NaN</td>\n",
       "      <td>dir29/22031070-my-death-experiences---a-preach...</td>\n",
       "      <td>23</td>\n",
       "      <td>My Death Experiences - A Preacherâs 18 Apoca...</td>\n",
       "    </tr>\n",
       "    <tr>\n",
       "      <th>3643</th>\n",
       "      <td>NaN</td>\n",
       "      <td>None</td>\n",
       "      <td>None</td>\n",
       "      <td>None</td>\n",
       "      <td>None</td>\n",
       "      <td>NaN</td>\n",
       "      <td>NaN</td>\n",
       "      <td>dir37/9658936-harry-potter.html</td>\n",
       "      <td>None</td>\n",
       "      <td>None</td>\n",
       "    </tr>\n",
       "    <tr>\n",
       "      <th>5282</th>\n",
       "      <td>NaN</td>\n",
       "      <td>None</td>\n",
       "      <td>None</td>\n",
       "      <td>None</td>\n",
       "      <td>None</td>\n",
       "      <td>NaN</td>\n",
       "      <td>NaN</td>\n",
       "      <td>dir53/113138.The_Winner.html</td>\n",
       "      <td>None</td>\n",
       "      <td>None</td>\n",
       "    </tr>\n",
       "    <tr>\n",
       "      <th>5572</th>\n",
       "      <td>3.71</td>\n",
       "      <td>35</td>\n",
       "      <td>8423336603</td>\n",
       "      <td>good_reads:book</td>\n",
       "      <td>https://www.goodreads.com/author/show/285658.E...</td>\n",
       "      <td>NaN</td>\n",
       "      <td>/genres/fiction</td>\n",
       "      <td>dir56/890680._rase_una_vez_el_amor_pero_tuve_q...</td>\n",
       "      <td>403</td>\n",
       "      <td>Ãrase una vez el amor pero tuve que matarlo. ...</td>\n",
       "    </tr>\n",
       "    <tr>\n",
       "      <th>5658</th>\n",
       "      <td>4.32</td>\n",
       "      <td>44</td>\n",
       "      <td>NaN</td>\n",
       "      <td>good_reads:book</td>\n",
       "      <td>https://www.goodreads.com/author/show/25307.Ro...</td>\n",
       "      <td>NaN</td>\n",
       "      <td>/genres/fantasy|/genres/fantasy|/genres/epic-f...</td>\n",
       "      <td>dir57/5533041-assassin-s-apprentice-royal-assa...</td>\n",
       "      <td>3850</td>\n",
       "      <td>Assassin's Apprentice / Royal Assassin (Farsee...</td>\n",
       "    </tr>\n",
       "    <tr>\n",
       "      <th>5683</th>\n",
       "      <td>4.56</td>\n",
       "      <td>204</td>\n",
       "      <td>NaN</td>\n",
       "      <td>good_reads:book</td>\n",
       "      <td>https://www.goodreads.com/author/show/3097905....</td>\n",
       "      <td>NaN</td>\n",
       "      <td>/genres/fantasy|/genres/young-adult|/genres/ro...</td>\n",
       "      <td>dir57/12474623-tiger-s-dream.html</td>\n",
       "      <td>895</td>\n",
       "      <td>Tiger's Dream (The Tiger Saga, #5)</td>\n",
       "    </tr>\n",
       "  </tbody>\n",
       "</table>\n",
       "</div>"
      ],
      "text/plain": [
       "      rating review_count        isbn         booktype                                         author_url  year                                         genre_urls                                                dir rating_count                                               name\n",
       "2442    4.23          526         NaN  good_reads:book  https://www.goodreads.com/author/show/623606.A...   NaN  /genres/religion|/genres/islam|/genres/non-fic...                       dir25/1301625.La_Tahzan.html         4134                                          La Tahzan\n",
       "2869    4.61            2         NaN  good_reads:book  https://www.goodreads.com/author/show/8182217....   NaN                                                NaN  dir29/22031070-my-death-experiences---a-preach...           23  My Death Experiences - A Preacherâs 18 Apoca...\n",
       "3643     NaN         None        None             None                                               None   NaN                                                NaN                    dir37/9658936-harry-potter.html         None                                               None\n",
       "5282     NaN         None        None             None                                               None   NaN                                                NaN                       dir53/113138.The_Winner.html         None                                               None\n",
       "5572    3.71           35  8423336603  good_reads:book  https://www.goodreads.com/author/show/285658.E...   NaN                                    /genres/fiction  dir56/890680._rase_una_vez_el_amor_pero_tuve_q...          403  Ãrase una vez el amor pero tuve que matarlo. ...\n",
       "5658    4.32           44         NaN  good_reads:book  https://www.goodreads.com/author/show/25307.Ro...   NaN  /genres/fantasy|/genres/fantasy|/genres/epic-f...  dir57/5533041-assassin-s-apprentice-royal-assa...         3850  Assassin's Apprentice / Royal Assassin (Farsee...\n",
       "5683    4.56          204         NaN  good_reads:book  https://www.goodreads.com/author/show/3097905....   NaN  /genres/fantasy|/genres/young-adult|/genres/ro...                  dir57/12474623-tiger-s-dream.html          895                 Tiger's Dream (The Tiger Saga, #5)"
      ]
     },
     "execution_count": 22,
     "metadata": {},
     "output_type": "execute_result"
    }
   ],
   "source": [
    "df[df['year'].isnull()]"
   ]
  },
  {
   "cell_type": "markdown",
   "metadata": {},
   "source": [
    "#### 清理数据，生成新的df，只保留year列值不是NaN的"
   ]
  },
  {
   "cell_type": "code",
   "execution_count": 23,
   "metadata": {},
   "outputs": [],
   "source": [
    "df = df[df['year'].notnull()]"
   ]
  },
  {
   "cell_type": "code",
   "execution_count": 24,
   "metadata": {},
   "outputs": [
    {
     "data": {
      "text/plain": [
       "rating          float64\n",
       "review_count     object\n",
       "isbn             object\n",
       "booktype         object\n",
       "author_url       object\n",
       "year            float64\n",
       "genre_urls       object\n",
       "dir              object\n",
       "rating_count     object\n",
       "name             object\n",
       "dtype: object"
      ]
     },
     "execution_count": 24,
     "metadata": {},
     "output_type": "execute_result"
    }
   ],
   "source": [
    "df.dtypes"
   ]
  },
  {
   "cell_type": "markdown",
   "metadata": {},
   "source": [
    "#### 将review_count和rating_count列的值的类型转换为int"
   ]
  },
  {
   "cell_type": "code",
   "execution_count": 25,
   "metadata": {
    "collapsed": true
   },
   "outputs": [],
   "source": [
    "df['review_count'] = df['review_count'].astype(int)\n",
    "df['year'] = df['year'].astype(int)\n",
    "df['rating_count'] = df['rating_count'].astype(int)"
   ]
  },
  {
   "cell_type": "code",
   "execution_count": 26,
   "metadata": {},
   "outputs": [
    {
     "data": {
      "text/plain": [
       "rating          float64\n",
       "review_count      int32\n",
       "isbn             object\n",
       "booktype         object\n",
       "author_url       object\n",
       "year              int32\n",
       "genre_urls       object\n",
       "dir              object\n",
       "rating_count      int32\n",
       "name             object\n",
       "dtype: object"
      ]
     },
     "execution_count": 26,
     "metadata": {},
     "output_type": "execute_result"
    }
   ],
   "source": [
    "df.dtypes"
   ]
  },
  {
   "cell_type": "code",
   "execution_count": 27,
   "metadata": {},
   "outputs": [
    {
     "data": {
      "image/png": "[encoded data removed]",
      "text/plain": [
       "<matplotlib.figure.Figure at 0x9f467f0>"
      ]
     },
     "metadata": {},
     "output_type": "display_data"
    }
   ],
   "source": [
    "df['rating'].hist();"
   ]
  },
  {
   "cell_type": "code",
   "execution_count": 28,
   "metadata": {},
   "outputs": [
    {
     "name": "stdout",
     "output_type": "stream",
     "text": [
      "4.041997330218587 4.041997330218587 4.05\n"
     ]
    },
    {
     "data": {
      "image/png": "[encoded data removed]",
      "text/plain": [
       "<matplotlib.figure.Figure at 0xa163fd0>"
      ]
     },
     "metadata": {},
     "output_type": "display_data"
    }
   ],
   "source": [
    "sns.set_context('notebook')\n",
    "meanrat = df['rating'].mean()\n",
    "print(meanrat, np.mean(df['rating']), df['rating'].median())\n",
    "\n",
    "with sns.axes_style('whitegrid'):\n",
    "    df['rating'].hist(bins=30, alpha=0.4)\n",
    "    plt.axvline(meanrat, 0, 0.75, color='r', label='Mean')\n",
    "    plt.xlabel('average rating of book')\n",
    "    plt.ylabel('Counts')\n",
    "    plt.title('Ratings Histogram')\n",
    "    plt.legend() # 显示右上角的标注"
   ]
  },
  {
   "cell_type": "code",
   "execution_count": 60,
   "metadata": {},
   "outputs": [
    {
     "data": {
      "image/png": "[encoded data removed]",
      "text/plain": [
       "<matplotlib.figure.Figure at 0xabbe668>"
      ]
     },
     "metadata": {},
     "output_type": "display_data"
    }
   ],
   "source": [
    "df['review_count'].hist(bins=np.arange(0, 40000, 400));"
   ]
  },
  {
   "cell_type": "code",
   "execution_count": 30,
   "metadata": {},
   "outputs": [
    {
     "data": {
      "image/png": "[encoded data removed]",
      "text/plain": [
       "<matplotlib.figure.Figure at 0xa54f4a8>"
      ]
     },
     "metadata": {},
     "output_type": "display_data"
    }
   ],
   "source": [
    "df['review_count'].hist(bins=100)\n",
    "plt.xscale('log')"
   ]
  },
  {
   "cell_type": "code",
   "execution_count": 61,
   "metadata": {},
   "outputs": [
    {
     "data": {
      "image/png": "[encoded data removed]",
      "text/plain": [
       "<matplotlib.figure.Figure at 0xa6194a8>"
      ]
     },
     "metadata": {},
     "output_type": "display_data"
    }
   ],
   "source": [
    "plt.scatter(df['year'], df['rating'], lw=0, alpha=.08)\n",
    "plt.xlim([1900, 2010])\n",
    "plt.xlabel('Year')\n",
    "plt.ylabel('Rating');"
   ]
  },
  {
   "cell_type": "code",
   "execution_count": 32,
   "metadata": {
    "collapsed": true
   },
   "outputs": [],
   "source": [
    "alist = [1,2,3,4,5]"
   ]
  },
  {
   "cell_type": "code",
   "execution_count": 33,
   "metadata": {},
   "outputs": [
    {
     "data": {
      "text/plain": [
       "[1, 4, 9, 16, 25]"
      ]
     },
     "execution_count": 33,
     "metadata": {},
     "output_type": "execute_result"
    }
   ],
   "source": [
    "asquaredlist = [i**2 for i in alist]\n",
    "asquaredlist"
   ]
  },
  {
   "cell_type": "markdown",
   "metadata": {},
   "source": [
    "#### 绘制散点图"
   ]
  },
  {
   "cell_type": "code",
   "execution_count": 62,
   "metadata": {},
   "outputs": [
    {
     "data": {
      "image/png": "[encoded data removed]",
      "text/plain": [
       "<matplotlib.figure.Figure at 0xabb5c50>"
      ]
     },
     "metadata": {},
     "output_type": "display_data"
    }
   ],
   "source": [
    "plt.scatter(alist, asquaredlist);"
   ]
  },
  {
   "cell_type": "code",
   "execution_count": 35,
   "metadata": {},
   "outputs": [
    {
     "data": {
      "text/plain": [
       "list"
      ]
     },
     "execution_count": 35,
     "metadata": {},
     "output_type": "execute_result"
    }
   ],
   "source": [
    "type(alist)"
   ]
  },
  {
   "cell_type": "markdown",
   "metadata": {},
   "source": [
    "#### 绘制直方图"
   ]
  },
  {
   "cell_type": "code",
   "execution_count": 63,
   "metadata": {},
   "outputs": [
    {
     "data": {
      "image/png": "[encoded data removed]",
      "text/plain": [
       "<matplotlib.figure.Figure at 0xa9b7e48>"
      ]
     },
     "metadata": {},
     "output_type": "display_data"
    }
   ],
   "source": [
    "plt.hist(df['rating_count'].values, bins=100, alpha=0.5);"
   ]
  },
  {
   "cell_type": "code",
   "execution_count": 37,
   "metadata": {},
   "outputs": [
    {
     "name": "stdout",
     "output_type": "stream",
     "text": [
      "<class 'pandas.core.series.Series'> <class 'numpy.ndarray'>\n"
     ]
    }
   ],
   "source": [
    "print(type(df['rating_count']), type(df['rating_count'].values))"
   ]
  },
  {
   "cell_type": "markdown",
   "metadata": {},
   "source": [
    "#### 矢量化\n",
    "- 两个python的list相加是把后者加到前者的末尾\n",
    "- numpy的array是进行矢量化相加，也就是所谓的广播机制"
   ]
  },
  {
   "cell_type": "code",
   "execution_count": 38,
   "metadata": {},
   "outputs": [
    {
     "data": {
      "text/plain": [
       "[1, 2, 3, 4, 5, 1, 2, 3, 4, 5]"
      ]
     },
     "execution_count": 38,
     "metadata": {},
     "output_type": "execute_result"
    }
   ],
   "source": [
    "alist + alist"
   ]
  },
  {
   "cell_type": "code",
   "execution_count": 39,
   "metadata": {},
   "outputs": [
    {
     "data": {
      "text/plain": [
       "array([ 2,  4,  6,  8, 10])"
      ]
     },
     "execution_count": 39,
     "metadata": {},
     "output_type": "execute_result"
    }
   ],
   "source": [
    "np.array(alist) + np.array(alist)"
   ]
  },
  {
   "cell_type": "code",
   "execution_count": 40,
   "metadata": {},
   "outputs": [
    {
     "data": {
      "text/plain": [
       "array([ 1,  4,  9, 16, 25])"
      ]
     },
     "execution_count": 40,
     "metadata": {},
     "output_type": "execute_result"
    }
   ],
   "source": [
    "np.array(alist)**2"
   ]
  },
  {
   "cell_type": "code",
   "execution_count": 42,
   "metadata": {},
   "outputs": [
    {
     "data": {
      "text/plain": [
       "array([ 1,  4,  9, 16, 25])"
      ]
     },
     "execution_count": 42,
     "metadata": {},
     "output_type": "execute_result"
    }
   ],
   "source": [
    "a = np.array(alist)\n",
    "b = np.array(alist)\n",
    "a * b"
   ]
  },
  {
   "cell_type": "code",
   "execution_count": 43,
   "metadata": {},
   "outputs": [
    {
     "data": {
      "text/plain": [
       "array([2, 3, 4, 5, 6])"
      ]
     },
     "execution_count": 43,
     "metadata": {},
     "output_type": "execute_result"
    }
   ],
   "source": [
    "a + 1"
   ]
  },
  {
   "cell_type": "markdown",
   "metadata": {},
   "source": [
    "#### python的list实现直接相加"
   ]
  },
  {
   "cell_type": "code",
   "execution_count": 41,
   "metadata": {},
   "outputs": [
    {
     "data": {
      "text/plain": [
       "[2, 4, 6, 8, 10]"
      ]
     },
     "execution_count": 41,
     "metadata": {},
     "output_type": "execute_result"
    }
   ],
   "source": [
    "new_list = []\n",
    "for i in alist:\n",
    "    new_list.append(i + i)\n",
    "new_list"
   ]
  },
  {
   "cell_type": "code",
   "execution_count": 64,
   "metadata": {},
   "outputs": [
    {
     "data": {
      "text/plain": [
       "[2, 4, 6, 8, 10]"
      ]
     },
     "execution_count": 64,
     "metadata": {},
     "output_type": "execute_result"
    }
   ],
   "source": [
    "[i+i for i in alist]"
   ]
  },
  {
   "cell_type": "markdown",
   "metadata": {},
   "source": [
    "## Python and Friends"
   ]
  },
  {
   "cell_type": "code",
   "execution_count": 65,
   "metadata": {},
   "outputs": [
    {
     "data": {
      "text/plain": [
       "3"
      ]
     },
     "execution_count": 65,
     "metadata": {},
     "output_type": "execute_result"
    }
   ],
   "source": [
    "1+2"
   ]
  },
  {
   "cell_type": "code",
   "execution_count": 67,
   "metadata": {},
   "outputs": [
    {
     "data": {
      "text/plain": [
       "(0.5, 0.5, 9.600000000000001)"
      ]
     },
     "execution_count": 67,
     "metadata": {},
     "output_type": "execute_result"
    }
   ],
   "source": [
    "1/2, 1.0/2.0, 3*3.2 # python2的话第一个会显示0,python3里的用1//2实现"
   ]
  },
  {
   "cell_type": "code",
   "execution_count": 68,
   "metadata": {},
   "outputs": [
    {
     "data": {
      "text/plain": [
       "0"
      ]
     },
     "execution_count": 68,
     "metadata": {},
     "output_type": "execute_result"
    }
   ],
   "source": [
    "1//2"
   ]
  },
  {
   "cell_type": "code",
   "execution_count": 81,
   "metadata": {},
   "outputs": [
    {
     "name": "stdout",
     "output_type": "stream",
     "text": [
      "4.0 1.6666666666666667\n"
     ]
    },
    {
     "data": {
      "text/plain": [
       "1"
      ]
     },
     "execution_count": 81,
     "metadata": {},
     "output_type": "execute_result"
    }
   ],
   "source": [
    "print(1+3.0, 5/3.0)\n",
    "5//3"
   ]
  },
  {
   "cell_type": "code",
   "execution_count": 76,
   "metadata": {},
   "outputs": [
    {
     "name": "stdout",
     "output_type": "stream",
     "text": [
      "0.8333333333333334\n",
      "<class 'float'>\n"
     ]
    }
   ],
   "source": [
    "a = 5.0/6.0\n",
    "print(a)\n",
    "print( type(a))"
   ]
  },
  {
   "cell_type": "code",
   "execution_count": 82,
   "metadata": {},
   "outputs": [
    {
     "data": {
      "text/plain": [
       "True"
      ]
     },
     "execution_count": 82,
     "metadata": {},
     "output_type": "execute_result"
    }
   ],
   "source": [
    "import types\n",
    "type(a) == float"
   ]
  },
  {
   "cell_type": "code",
   "execution_count": 83,
   "metadata": {},
   "outputs": [
    {
     "data": {
      "text/plain": [
       "False"
      ]
     },
     "execution_count": 83,
     "metadata": {},
     "output_type": "execute_result"
    }
   ],
   "source": [
    "type(a) == int"
   ]
  },
  {
   "cell_type": "markdown",
   "metadata": {},
   "source": [
    "#### 列表表达式"
   ]
  },
  {
   "cell_type": "code",
   "execution_count": 85,
   "metadata": {},
   "outputs": [
    {
     "data": {
      "text/plain": [
       "[1, 4, 9, 16, 25]"
      ]
     },
     "execution_count": 85,
     "metadata": {},
     "output_type": "execute_result"
    }
   ],
   "source": [
    "alist = [1,2,3,4,5]\n",
    "asquaredlist = [i*i for i in alist]\n",
    "asquaredlist"
   ]
  },
  {
   "cell_type": "markdown",
   "metadata": {},
   "source": [
    "#### enumerate和zip"
   ]
  },
  {
   "cell_type": "code",
   "execution_count": 86,
   "metadata": {},
   "outputs": [
    {
     "data": {
      "text/plain": [
       "(<enumerate at 0xaa4f9d8>, <zip at 0xa9e1b48>)"
      ]
     },
     "execution_count": 86,
     "metadata": {},
     "output_type": "execute_result"
    }
   ],
   "source": [
    "enumerate(asquaredlist), zip(alist, asquaredlist)"
   ]
  },
  {
   "cell_type": "markdown",
   "metadata": {},
   "source": [
    "#### enumerate(list)返回[(index,value), ...(index, value)]"
   ]
  },
  {
   "cell_type": "code",
   "execution_count": 87,
   "metadata": {},
   "outputs": [
    {
     "data": {
      "text/plain": [
       "[(0, 1), (1, 4), (2, 9), (3, 16), (4, 25)]"
      ]
     },
     "execution_count": 87,
     "metadata": {},
     "output_type": "execute_result"
    }
   ],
   "source": [
    "[k for k in enumerate(asquaredlist)]"
   ]
  },
  {
   "cell_type": "markdown",
   "metadata": {},
   "source": [
    "#### zip(list1, list2)将两个list里对应的元素组合成tuple并返回list"
   ]
  },
  {
   "cell_type": "code",
   "execution_count": 141,
   "metadata": {},
   "outputs": [
    {
     "data": {
      "text/plain": [
       "[(1, 1), (2, 4), (3, 9), (4, 16), (5, 25)]"
      ]
     },
     "execution_count": 141,
     "metadata": {},
     "output_type": "execute_result"
    }
   ],
   "source": [
    "[i for i in zip(alist, asquaredlist)]"
   ]
  },
  {
   "cell_type": "code",
   "execution_count": 88,
   "metadata": {},
   "outputs": [
    {
     "name": "stdout",
     "output_type": "stream",
     "text": [
      "[6, 26, 1, 23, 1, 1, 1, 1, 21, 1, 27, 59, 28, 27, 26, 21, 21, 23, 24, 17, 23, 10, 20, 19, 21, 31, 9, 27, 30, 11, 21, 26, 1, 50, 31, 1, 66, 12, 1, 17, 1, 1, 1, 7, 1, 49, 1, 48, 1, 5, 13, 1, 6, 44, 1, 5, 20, 1, 6, 10, 1, 5, 4, 1, 6, 40, 1, 5, 52, 1, 6, 47, 24, 1, 5, 26, 1, 6, 22, 1, 5, 18, 38, 45, 1, 6, 47, 1, 31, 1, 5, 24, 1, 5, 26, 1, 6, 21, 1, 5, 29, 23, 1, 6, 23, 21, 1, 8, 1, 5, 17, 1, 5, 5, 24, 1, 5, 16, 1, 5, 44, 1, 5, 46, 1, 5, 21, 1, 5, 35, 41, 47, 37, 44, 36, 41, 1, 5, 31, 1, 5, 17, 40, 41, 30, 1, 5, 19, 40, 1, 5, 19, 50, 50, 42, 29, 1, 5, 50, 1, 22, 1, 5, 47, 1, 5, 42, 1, 5, 46, 1, 5, 48, 1, 5, 22, 1, 5, 22, 1, 5, 49, 41, 39, 53, 1, 5, 16, 1, 5, 21, 1, 5, 41, 1, 14, 1, 5, 32, 1, 5, 45, 41, 21, 1, 5, 40, 37, 18, 1, 5, 25, 1, 5, 24, 35, 39, 44, 41, 14, 1, 5, 47, 46, 1, 5, 47, 43, 47, 1, 5, 48, 46, 42, 42, 40, 49, 42, 45, 49, 29, 1, 5, 12, 46, 41, 43, 44, 52, 52, 52, 35, 49, 44, 38, 42, 34, 49, 38, 48, 35, 46, 40, 38, 47, 41, 38, 45, 44, 40, 49, 43, 1, 5, 36, 46, 48, 44, 1, 5, 40, 42, 40, 50, 44, 49, 42, 46, 42, 47, 41, 38, 44, 37, 45, 1, 18, 1, 52, 41, 13, 39, 43, 13, 41, 39, 10, 38, 40, 52, 18, 52, 1, 5, 39, 1, 5, 26, 1, 5, 11, 1, 5, 11, 1, 5, 11, 1, 14, 1, 37, 34, 37, 38, 1, 5, 43, 1, 5, 41, 37, 43, 47, 42, 41, 39, 40, 36, 1, 5, 37, 45, 43, 44, 48, 50, 47, 41, 1, 5, 44, 44, 46, 41, 41, 38, 44, 46, 43, 1, 5, 44, 43, 1, 10, 1, 1, 1, 51, 1, 62, 34, 1, 6, 46, 45, 51, 37, 46, 41, 40, 46, 46, 42, 41, 51, 44, 41, 44, 45, 46, 38, 45, 43, 45, 46, 39, 43, 48, 46, 46, 40, 42, 43, 45, 45, 42, 41, 44, 40, 47, 33, 48, 1, 15, 46, 1, 6, 40, 1, 34, 1, 44, 46, 40, 53, 44, 42, 41, 45, 33, 1, 6, 15, 43, 48, 36, 41, 49, 48, 1, 6, 50, 1, 5, 46, 36, 40, 40, 1, 6, 44, 44, 40, 1, 5, 53, 1, 6, 45, 1, 5, 43, 1, 7, 42, 49, 37, 39, 52, 36, 1, 5, 25, 1, 7, 10, 38, 1, 5, 44, 43, 37, 40, 39, 40, 48, 47, 44, 43, 46, 1, 6, 51, 46, 47, 52, 36, 42, 37, 45, 42, 39, 40, 43, 39, 42, 47, 45, 42, 47, 47, 47, 39, 44, 42, 34, 45, 40, 39, 37, 38, 42, 44, 1, 7, 45, 48, 1, 5, 40, 1, 6, 37, 40, 42, 44, 44, 47, 51, 40, 1, 25, 1, 5, 44, 37, 38, 48, 41, 39, 42, 52, 48, 49, 40, 45, 45, 46, 44, 37, 46, 54, 44, 46, 45, 47, 53, 48, 36, 43, 42, 45, 42, 39, 48, 1, 42, 1, 5, 23, 1, 5, 27, 33, 1, 5, 47, 1, 5, 53, 46, 11, 1, 5, 16, 1, 5, 46, 46, 1, 5, 36, 1, 5, 36, 39, 38, 44, 37, 46, 1, 5, 46, 1, 5, 42, 43, 1, 5, 40, 1, 5, 49, 46, 41, 40, 38, 1, 5, 16, 1, 5, 27, 1, 5, 38, 1, 5, 39, 38, 1, 5, 40, 1, 5, 9, 1, 5, 31, 1, 5, 20, 1, 5, 34, 40, 37, 20, 1, 5, 28, 1, 5, 41, 39, 42, 50, 34, 42, 48, 44, 54, 38, 45, 37, 48, 44, 49, 42, 31, 1, 5, 20, 1, 5, 45, 1, 5, 25, 1, 5, 16, 44, 38, 42, 42, 42, 29, 1, 5, 19, 1, 5, 43, 42, 23, 1, 5, 44, 29, 1, 14, 16, 1, 5, 16, 1, 6, 16, 1, 5, 17, 1, 6, 28, 1, 5, 27, 1, 5, 40, 1, 5, 28, 1, 5, 44, 1, 5, 13, 1, 5, 16, 1, 5, 29, 1, 5, 17, 1, 5, 26, 1, 5, 31, 1, 5, 38, 1, 5, 52, 1, 14, 16, 1, 5, 18, 1, 5, 29, 1, 5, 39, 18, 1, 5, 23, 29, 1, 5, 19, 1, 5, 39, 49, 42, 43, 41, 40, 41, 45, 45, 16, 1, 5, 25, 1, 5, 38, 1, 43, 1, 45, 51, 52, 52, 1, 8, 1, 1, 1, 39, 1, 29, 1, 6, 39, 39, 39, 26, 1, 5, 19, 1, 6, 44, 39, 39, 44, 40, 9, 1, 5, 16, 1, 6, 18, 42, 45, 40, 45, 41, 43, 48, 40, 36, 45, 43, 47, 41, 54, 41, 38, 46, 44, 45, 44, 49, 31, 43, 44, 38, 37, 38, 45, 43, 43, 40, 41, 40, 47, 1, 5, 44, 47, 39, 44, 46, 46, 28, 1, 6, 16, 44, 1, 18, 1, 37, 37, 1, 5, 46, 44, 55, 1, 37, 1, 37, 50, 40, 42, 51, 48, 44, 47, 41, 44, 45, 51, 39, 45, 39, 48, 44, 36, 43, 43, 44, 42, 41, 43, 1, 6, 41, 1, 5, 46, 1, 6, 37, 25, 1, 5, 26, 43, 1, 6, 10, 1, 8, 1, 5, 41, 1, 5, 51, 1, 5, 23, 38, 44, 52, 36, 45, 42, 44, 43, 1, 5, 44, 24, 1, 5, 46, 40, 46, 1, 5, 45, 1, 5, 46, 48, 53, 47, 44, 1, 5, 41, 23, 1, 5, 43, 1, 5, 51, 41, 1, 5, 44, 44, 47, 47, 44, 43, 46, 39, 43, 42, 37, 40, 49, 46, 38, 43, 42, 50, 39, 47, 41, 1, 5, 23, 1, 10, 1, 1, 1, 24, 1, 40, 1, 5, 41, 1, 5, 34, 1, 5, 15, 1, 5, 28, 1, 5, 18, 1, 5, 51, 42, 1, 56, 1, 30, 1, 5, 49, 51, 48, 42, 27, 1, 5, 16, 1, 5, 17, 42, 40, 49, 38, 46, 49, 41, 51, 38, 36, 47, 49, 41, 38, 49, 45, 49, 42, 44, 47, 34, 45, 45, 41, 20, 1, 5, 25, 1, 15, 1, 5, 43, 45, 54, 37, 41, 50, 40, 40, 43, 47, 38, 40, 43, 48, 42, 45, 37, 47, 48, 1, 24, 1, 5, 35, 36, 14, 1, 5, 32, 39, 23, 1, 5, 17, 1, 5, 42, 1, 5, 17, 1, 5, 30, 37, 41, 34, 42, 1, 5, 48, 39, 41, 42, 48, 40, 41, 38, 37, 27, 1, 5, 21, 25, 1, 5, 27, 1, 5, 21, 1, 5, 28, 1, 5, 19, 41, 39, 1, 17, 1, 44, 1, 27, 1, 52, 39, 1, 27, 1, 5, 37, 1, 5, 45, 1, 5, 43, 1, 5, 45, 1, 5, 23, 1, 5, 23, 1, 10, 1, 1, 1, 43, 1, 26, 1, 5, 54, 1, 7, 9, 1, 5, 8, 1, 7, 24, 43, 23, 1, 5, 18, 1, 7, 42, 24, 1, 5, 27, 1, 7, 46, 1, 5, 6, 1, 7, 26, 45, 43, 47, 48, 40, 42, 50, 57, 40, 41, 40, 36, 52, 42, 1, 5, 7, 1, 7, 44, 1, 5, 8, 1, 7, 40, 44, 1, 5, 48, 39, 25, 1, 7, 17, 46, 41, 50, 45, 48, 35, 43, 45, 21, 1, 5, 21, 12, 1, 7, 44, 53, 44, 40, 44, 40, 40, 44, 42, 44, 18, 39, 47, 43, 36, 21, 44, 46, 35, 37, 40, 39, 38, 39, 47, 42, 40, 42, 46, 40, 47, 20, 43, 49, 40, 36, 42, 38, 41, 42, 36, 38, 39, 46, 47, 45, 48, 41, 40, 35, 1, 8, 1, 5, 46, 50, 42, 40, 47, 41, 33, 41, 50, 41, 41, 40, 45, 25, 45, 38, 49, 46, 1, 11, 1, 42, 35, 16, 1, 5, 30, 1, 5, 25, 1, 5, 29, 1, 5, 10, 1, 5, 33, 1, 5, 38, 1, 31, 1, 5, 25, 1, 5, 20, 1, 5, 14, 1, 5, 23, 1, 5, 22, 1, 5, 27, 1, 5, 16, 1, 5, 54, 22, 1, 14, 24, 1, 5, 48, 26, 1, 5, 51, 17, 1, 5, 34, 42, 44, 53, 40, 42, 24, 1, 5, 48, 1, 5, 37, 22, 1, 5, 29, 1, 5, 46, 51, 45, 44, 48, 44, 26, 1, 5, 29, 1, 5, 46, 1, 14, 22, 1, 5, 18, 1, 5, 10, 16, 1, 5, 26, 1, 5, 15, 1, 5, 33, 1, 5, 31, 1, 7, 18, 1, 5, 57, 51, 18, 1, 5, 27, 1, 5, 43, 19, 1, 7, 18, 1, 5, 46, 24, 40, 44, 19, 1, 7, 18, 1, 5, 54, 50, 1, 5, 47, 1, 5, 45, 52, 39, 12, 43, 43, 44, 34, 48, 47, 43, 59, 61, 38, 47, 47, 7, 1, 7, 18, 1, 5, 46, 41, 36, 50, 52, 45, 43, 40, 30, 1, 10, 1, 1, 1, 8, 1, 37, 1, 31, 1, 5, 47, 1, 5, 17, 1, 5, 47, 38, 18, 1, 5, 26, 1, 5, 49, 45, 51, 44, 45, 47, 44, 52, 45, 46, 1, 5, 24, 1, 5, 49, 39, 42, 47, 41, 45, 39, 22, 1, 5, 20, 1, 5, 49, 30, 1, 5, 35, 1, 5, 47, 41, 33, 58, 42, 40, 35, 20, 1, 5, 21, 1, 5, 30, 1, 5, 13, 19, 1, 5, 29, 40, 42, 50, 10, 45, 43, 44, 40, 49, 40, 20, 1, 5, 20, 1, 5, 66, 63, 1, 5, 55, 12, 1, 5, 43, 49, 37, 55, 48, 44, 42, 38, 13, 49, 39, 41, 37, 37, 45, 1, 5, 17, 1, 5, 31, 1, 5, 14, 1, 5, 37, 1, 5, 18, 1, 5, 27, 1, 5, 15, 1, 5, 10, 1, 17, 1, 17, 1, 37, 1, 5, 42, 1, 5, 31, 1, 5, 40, 45, 44, 41, 50, 38, 37, 42, 1, 5, 18, 1, 5, 24, 24, 1, 5, 14, 1, 5, 43, 43, 44, 36, 40, 40, 47, 41, 39, 45, 44, 44, 45, 42, 1, 5, 43, 34, 39, 46, 35, 45, 49, 1, 5, 43, 35, 18, 1, 5, 24, 46, 50, 50, 33, 41, 37, 45, 56, 44, 1, 10, 1, 1, 1, 32, 1, 57, 1, 6, 44, 43, 40, 44, 42, 42, 42, 53, 43, 38, 50, 50, 47, 39, 44, 40, 49, 38, 1, 7, 44, 43, 47, 40, 39, 39, 42, 30, 1, 5, 20, 46, 43, 18, 1, 6, 14, 46, 40, 17, 1, 6, 45, 1, 7, 45, 37, 43, 43, 1, 6, 44, 29, 1, 7, 10, 1, 57, 1, 18, 1, 5, 43, 23, 1, 6, 46, 1, 5, 44, 35, 40, 44, 38, 42, 35, 1, 6, 42, 1, 5, 42, 48, 1, 6, 45, 1, 17, 1, 43, 49, 1, 7, 39, 47, 1, 6, 25, 1, 48, 1, 26, 46, 1, 6, 43, 40, 43, 40, 40, 49, 41, 46, 42, 43, 38, 48, 39, 47, 45, 41, 40, 17, 44, 44, 40, 25, 1, 6, 18, 44, 38, 49, 48, 19, 1, 34, 1, 5, 31, 37, 38, 50, 48, 45, 50, 41, 43, 42, 17, 1, 7, 28, 1, 5, 36, 48, 43, 40, 43, 43, 41, 42, 41, 9, 47, 38, 45, 9, 59, 12, 60, 34, 9, 43, 1, 7, 30, 1, 5, 45, 9, 34, 35, 29, 29, 62, 66, 11, 66, 14, 48, 38, 47, 23, 1, 6, 17, 19, 1, 5, 25, 1, 6, 37, 1, 5, 49, 45, 41, 46, 43, 40, 44, 44, 48, 42, 45, 49, 46, 40, 46, 43, 39, 43, 48, 39, 21, 1, 6, 24, 1, 7, 24, 1, 5, 51, 39, 26, 1, 6, 17, 1, 5, 43, 35, 38, 46, 19, 1, 6, 27, 1, 5, 47, 19, 1, 7, 19, 1, 5, 46, 35, 40, 42, 36, 29, 1, 6, 16, 1, 7, 52, 1, 5, 34, 45, 1, 38, 1, 25, 1, 30, 1, 5, 19, 1, 5, 25, 1, 5, 37, 1, 5, 16, 1, 5, 39, 1, 5, 17, 1, 5, 60, 28, 1, 5, 27, 1, 5, 64, 31, 1, 5, 17, 1, 5, 63, 51, 1, 5, 66, 63, 64, 64, 15, 1, 5, 21, 1, 5, 29, 1, 5, 13, 1, 5, 43, 1, 5, 62, 60, 60, 64, 66, 61, 63, 1, 5, 63, 39, 1, 5, 15, 1, 5, 64, 63, 63, 66, 66, 17, 1, 5, 56, 66, 6, 1, 5, 24, 1, 5, 25, 1, 38, 1, 5, 45, 1, 5, 34, 1, 17, 1, 6, 18, 1, 5, 19, 1, 5, 60, 40, 1, 5, 42, 1, 6, 37, 45, 1, 5, 27, 1, 5, 18, 1, 5, 55, 9, 1, 6, 24, 1, 5, 55, 27, 1, 5, 50, 1, 5, 57, 61, 63, 8, 1, 6, 17, 1, 5, 20, 1, 5, 23, 1, 5, 59, 42, 1, 5, 26, 1, 5, 61, 55, 1, 5, 64, 6, 1, 5, 60, 60, 1, 6, 62, 47, 1, 5, 32, 1, 5, 63, 29, 1, 5, 63, 63, 22, 1, 16, 21, 1, 5, 56, 61, 64, 22, 1, 5, 42, 1, 5, 61, 65, 57, 63, 1, 6, 29, 1, 5, 58, 66, 64, 19, 1, 5, 22, 1, 5, 62, 58, 63, 65, 37, 1, 5, 33, 1, 5, 64, 9, 1, 6, 27, 1, 5, 59, 59, 65, 63, 63, 66, 65, 63, 64, 59, 61, 63, 66, 65, 52, 1, 5, 49, 1, 5, 59, 1, 5, 58, 64, 61, 1, 5, 60, 66, 64, 62, 62, 62, 6, 1, 5, 55, 24, 1, 5, 53, 45, 1, 5, 56, 12, 1, 5, 60, 28, 1, 5, 26, 1, 5, 34, 1, 5, 61, 65, 64, 66, 64, 26, 1, 5, 57, 62, 56, 66, 65, 30, 1, 5, 63, 61, 65, 31, 1, 5, 15, 1, 6, 49, 1, 5, 27, 1, 5, 54, 1, 5, 61, 64, 66, 66, 30, 1, 31, 1, 6, 23, 1, 5, 62, 63, 62, 59, 63, 30, 1, 6, 23, 1, 5, 60, 28, 1, 18, 1, 5, 29, 1, 5, 66, 65, 1, 5, 63, 22, 1, 5, 66, 52, 1, 5, 34, 1, 5, 63, 8, 1, 5, 37, 1, 5, 12, 1, 5, 18, 1, 5, 35, 1, 5, 58, 58, 65, 63, 66, 14, 1, 5, 57, 1, 5, 31, 1, 5, 6, 36, 37, 1, 1, 5, 31, 1, 5, 37, 1, 5, 59, 19, 1, 5, 23, 1, 5, 29, 1, 5, 6, 25, 20, 44, 64, 27, 1, 30, 1, 63, 61, 59, 60, 62, 61, 66, 59, 63, 50, 1, 8, 22, 1, 5, 62, 64, 65, 66, 66, 63, 63, 60, 61, 66, 66, 63, 60, 1, 48, 1, 42, 1, 45, 48, 47, 52, 43, 43, 52, 49, 44, 53, 43, 50, 31, 1, 17, 1, 5, 59, 12, 1, 8, 22, 52, 47, 42, 50, 49, 52, 47, 48, 51, 41, 50, 43, 47, 16, 44, 51, 48, 47, 51, 43, 43, 46, 50, 25, 51, 42, 52, 52, 28, 1, 5, 18, 1, 5, 63, 64, 11, 1, 8, 48, 1, 5, 20, 1, 5, 37, 1, 8, 52, 45, 48, 44, 48, 52, 58, 48, 45, 50, 49, 48, 53, 28, 1, 5, 63, 26, 1, 5, 61, 61, 66, 64, 50, 1, 5, 52, 1, 5, 52, 63, 64, 27, 1, 5, 12, 1, 5, 50, 1, 54, 1, 59, 10, 1, 8, 13, 1, 5, 59, 65, 28, 1, 8, 13, 1, 5, 57, 1, 21, 1, 60, 36, 1, 5, 14, 1, 39, 1, 5, 23, 16, 40, 43, 41, 43, 44, 44, 47, 48, 12, 39, 47, 42, 49, 47, 41, 42, 37, 7, 39, 44, 40, 39, 41, 45, 45, 54, 47, 45, 39, 39, 42, 48, 55, 14, 43, 43, 43, 47, 37, 12, 48, 42, 38, 42, 41, 49, 52, 44, 43, 46, 46, 43, 45, 40, 42, 40, 47, 47, 1, 8, 1, 1, 1, 1, 9, 1, 31, 1, 56, 15, 1, 6, 42, 44, 41, 37, 1, 5, 45, 47, 1, 6, 42, 40, 46, 19, 1, 7, 25, 1, 5, 23, 1, 6, 42, 1, 5, 42, 24, 1, 7, 18, 16, 1, 5, 43, 49, 40, 41, 41, 31, 1, 5, 16, 46, 28, 1, 6, 47, 27, 41, 44, 1, 5, 19, 1, 39, 1, 6, 30, 44, 41, 17, 42, 47, 41, 37, 41, 26, 1, 7, 20, 38, 43, 51, 40, 22, 1, 5, 22, 1, 14, 1, 5, 50, 60, 41, 49, 51, 34, 19, 1, 6, 27, 54, 50, 44, 41, 16, 1, 5, 44, 1, 28, 1, 16, 1, 5, 46, 42, 44, 43, 48, 38, 47, 44, 44, 52, 49, 44, 40, 37, 49, 50, 45, 40, 42, 39, 50, 39, 47, 43, 41, 44, 40, 45, 38, 48, 42, 44, 44, 41, 27, 1, 5, 14, 42, 1, 5, 38, 1, 5, 38, 39, 30, 1, 5, 11, 24, 1, 5, 47, 48, 50, 40, 46, 16, 1, 5, 24, 1, 5, 9, 1, 5, 14, 1, 5, 26, 1, 5, 61, 26, 1, 5, 63, 1, 5, 57, 64, 65, 54, 1, 5, 41, 1, 5, 54, 63, 5, 1, 5, 25, 1, 5, 56, 64, 66, 65, 62, 66, 65, 59, 8, 1, 5, 18, 1, 5, 58, 38, 1, 5, 32, 1, 5, 64, 65, 63, 62, 62, 10, 1, 5, 32, 1, 5, 58, 66, 65, 66, 62, 65, 28, 1, 8, 1, 5, 41, 58, 43, 44, 51, 42, 41, 46, 49, 47, 36, 47, 1, 30, 1, 6, 43, 51, 52, 41, 42, 43, 30, 50, 41, 41, 35, 44, 47, 46, 1, 5, 39, 41, 47, 44, 45, 40, 43, 46, 46, 46, 42, 30, 1, 6, 16, 45, 1, 10, 1, 1, 1, 32, 1, 36, 1, 5, 57, 63, 64, 59, 61, 51, 64, 66, 66, 64, 66, 51, 1, 10, 23, 1, 5, 61, 65, 62, 65, 62, 63, 63, 65, 59, 61, 64, 64, 58, 63, 59, 63, 24, 1, 10, 57, 1, 5, 61, 62, 62, 63, 64, 63, 16, 1, 18, 1, 49, 1, 57, 1, 5, 39, 1, 5, 28, 1, 17, 1, 34, 1, 15, 18, 1, 24, 1, 5, 19, 1, 17, 1, 5, 35, 1, 5, 37, 38, 1, 5, 19, 1, 5, 29, 43, 44, 59, 45, 42, 49, 47, 43, 49, 48, 41, 51, 48, 46, 48, 49, 46, 45, 42, 45, 46, 46, 39, 42, 38, 40, 32, 43, 40, 44, 27, 1, 5, 15, 51, 43, 1, 5, 45, 17, 1, 65, 40, 1, 6, 29, 1, 5, 61, 44, 1, 6, 61, 6, 1, 5, 66, 20, 1, 5, 53, 1, 5, 20, 1, 5, 63, 11, 1, 5, 64, 19, 1, 5, 43, 1, 7, 40, 1, 5, 47, 1, 5, 40, 1, 5, 31, 32, 1, 5, 13, 1, 5, 31, 1, 5, 13, 1, 5, 38, 1, 5, 26, 1, 5, 50, 1, 5, 18, 1, 5, 9, 1, 5, 24, 1, 5, 8, 1, 5, 13, 1, 5, 59, 64, 21, 1, 5, 37, 1, 5, 61, 65, 65, 66, 61, 56, 1, 40, 1, 61, 59, 58, 56, 62, 65, 65, 60, 63, 66, 42, 1, 10, 1, 5, 26, 1, 5, 52, 1, 5, 51, 1, 18, 1, 5, 63, 18, 1, 5, 38, 1, 5, 60, 49, 1, 5, 52, 1, 5, 32, 35, 34, 1, 5, 43, 1, 5, 21, 1, 5, 17, 1, 28, 1, 9, 48, 46, 43, 49, 48, 38, 1, 10, 38, 43, 41, 46, 45, 42, 42, 35, 48, 40, 51, 55, 1, 9, 49, 47, 47, 41, 26, 1, 10, 22, 46, 37, 46, 1, 5, 29, 1, 10, 40, 47, 37, 38, 1, 9, 43, 39, 36, 37, 50, 39, 35, 44, 41, 43, 36, 45, 47, 46, 48, 53, 42, 49, 50, 44, 40, 45, 42, 32, 37, 39, 39, 51, 42, 50, 1, 10, 45, 45, 39, 41, 42, 45, 46, 34, 1, 5, 42, 1, 9, 48, 47, 28, 10, 1, 10, 22, 43, 1, 8, 1, 5, 31, 1, 7, 38, 1, 5, 29, 1, 6, 55, 1, 5, 60, 7, 1, 6, 27, 1, 5, 57, 62, 64, 60, 65, 13, 1, 18, 1, 42, 1, 5, 32, 1, 5, 60, 22, 1, 5, 37, 1, 5, 50, 1, 5, 25, 1, 5, 61, 63, 21, 1, 5, 57, 45, 48, 51, 36, 37, 1, 44, 1, 5, 63, 61, 65, 1, 5, 16, 1, 5, 32, 1, 7, 19, 1, 5, 20, 1, 6, 27, 1, 5, 24, 1, 37, 1, 5, 39, 29, 47, 31, 65, 61, 59, 1, 5, 14, 1, 5, 21, 37, 31, 40, 27, 1, 5, 23, 1, 5, 58, 23, 1, 5, 20, 1, 5, 34, 1, 5, 26, 1, 5, 50, 40, 44, 18, 1, 38, 1, 6, 44, 1, 5, 22, 1, 6, 16, 1, 5, 22, 1, 6, 47, 1, 5, 17, 1, 6, 33, 1, 5, 62, 61, 33, 1, 6, 60, 30, 1, 5, 28, 1, 6, 60, 21, 1, 5, 17, 1, 6, 60, 64, 61, 33, 1, 5, 15, 1, 6, 15, 1, 5, 63, 64, 64, 7, 1, 5, 56, 26, 1, 5, 64, 49, 1, 5, 63, 1, 5, 59, 23, 1, 5, 31, 1, 5, 50, 1, 5, 63, 62, 13, 1, 5, 25, 1, 5, 61, 32, 1, 5, 63, 7, 1, 40, 1, 66, 65, 13, 1, 6, 62, 1, 5, 61, 1, 6, 19, 1, 5, 12, 1, 6, 22, 1, 5, 18, 1, 6, 33, 1, 5, 55, 62, 62, 1, 6, 58, 20, 1, 5, 60, 63, 62, 63, 62, 64, 64, 25, 1, 18, 1, 20, 1, 5, 56, 1, 5, 59, 1, 5, 43, 1, 5, 30, 1, 5, 28, 1, 5, 17, 1, 5, 19, 1, 5, 62, 40, 1, 5, 15, 1, 8, 1, 5, 26, 1, 17, 1, 21, 1, 40, 1, 42, 52, 54, 39, 50, 43, 40, 32, 43, 44, 38, 44, 1, 8, 1, 1, 1, 33, 1, 45, 1, 6, 43, 49, 43, 40, 39, 38, 21, 1, 6, 27, 35, 36, 38, 1, 5, 39, 46, 44, 44, 40, 42, 45, 42, 48, 49, 41, 41, 45, 1, 6, 44, 40, 32, 1, 14, 18, 1, 24, 1, 18, 1, 5, 44, 36, 55, 42, 49, 49, 49, 38, 26, 1, 6, 22, 1, 17, 1, 44, 42, 37, 40, 44, 42, 44, 43, 49, 46, 47, 39, 47, 39, 43, 46, 48, 43, 47, 43, 44, 40, 44, 42, 41, 46, 48, 46, 44, 42, 40, 42, 43, 44, 56, 40, 17, 1, 22, 1, 16, 1, 5, 42, 46, 46, 41, 43, 11, 41, 42, 50, 49, 47, 47, 40, 45, 4, 45, 41, 42, 39, 40, 50, 45, 43, 42, 1, 8, 1, 31, 1, 6, 43, 43, 1, 8, 1, 1, 1, 38, 1, 28, 1, 5, 49, 54, 52, 46, 29, 1, 5, 34, 1, 7, 18, 43, 1, 34, 1, 16, 1, 5, 32, 1, 7, 44, 1, 5, 42, 1, 7, 44, 1, 5, 43, 1, 7, 22, 1, 5, 23, 1, 7, 20, 1, 5, 25, 50, 48, 1, 7, 49, 1, 5, 51, 37, 42, 1, 7, 46, 16, 1, 5, 38, 1, 5, 25, 24, 1, 34, 1, 5, 25, 1, 18, 1, 7, 27, 1, 5, 33, 1, 24, 1, 7, 40, 1, 5, 44, 43, 1, 7, 16, 1, 5, 27, 47, 15, 46, 46, 51, 45, 35, 39, 44, 1, 7, 50, 29, 1, 5, 12, 43, 43, 44, 46, 42, 39, 40, 46, 38, 43, 28, 1, 7, 17, 47, 1, 5, 44, 45, 42, 45, 43, 34, 38, 34, 42, 38, 51, 43, 47, 47, 44, 41, 47, 47, 53, 52, 41, 43, 40, 48, 45, 45, 47, 39, 19, 46, 42, 39, 44, 45, 42, 25, 1, 7, 25, 42, 45, 31, 1, 5, 17, 38, 47, 22, 1, 7, 24, 45, 23, 1, 5, 26, 45, 41, 39, 44, 26, 1, 7, 9, 1, 5, 32, 1, 15, 1, 43, 55, 1, 7, 16, 1, 5, 41, 45, 44, 8, 1, 7, 31, 43, 41, 45, 45, 22, 1, 5, 26, 1, 7, 25, 38, 47, 45, 44, 44, 41, 41, 45, 1, 5, 45, 51, 47, 42, 41, 50, 1, 7, 27, 1, 5, 26, 1, 7, 39, 1, 5, 26, 1, 7, 27, 1, 5, 46, 37, 49, 1, 14, 1, 7, 40, 31, 20, 1, 5, 9, 48, 48, 43, 45, 46, 45, 47, 46, 43, 44, 43, 44, 48, 40, 39, 44, 1, 7, 45, 1, 5, 37, 40, 44, 37, 45, 40, 41, 36, 40, 39, 44, 47, 44, 46, 40, 46, 24, 44, 42, 43, 40, 46, 34, 45, 26, 1, 7, 17, 1, 5, 42, 43, 48, 42, 50, 39, 38, 48, 47, 41, 45, 37, 37, 45, 40, 30, 1, 7, 45, 46, 27, 1, 5, 34, 1, 7, 7, 36, 1, 5, 52, 45, 46, 40, 39, 48, 44, 47, 45, 31, 45, 45, 48, 41, 45, 20, 1, 51, 1, 1, 1, 8, 1, 31, 1, 51, 1, 6, 53, 49, 19, 1, 7, 40, 1, 47, 1, 45, 1, 6, 33, 1, 7, 43, 42, 41, 44, 41, 25, 1, 6, 14, 43, 39, 38, 46, 40, 53, 45, 43, 39, 39, 44, 1, 7, 39, 42, 32, 46, 1, 6, 23, 44, 47, 39, 48, 1, 41, 1, 49, 39, 50, 48, 44, 1, 39, 1, 50, 42, 46, 41, 37, 50, 42, 39, 1, 10, 1, 38, 1, 16, 1, 5, 15, 1, 15, 31, 1, 5, 52, 1, 38, 1, 5, 49, 1, 5, 43, 1, 5, 48, 27, 1, 5, 19, 1, 5, 14, 1, 5, 63, 66, 11, 1, 5, 35, 1, 5, 60, 63, 63, 65, 64, 7, 1, 5, 31, 1, 5, 59, 1, 5, 62, 10, 1, 5, 62, 23, 1, 6, 18, 1, 5, 54, 1, 10, 1, 1, 1, 39, 1, 23, 1, 6, 46, 46, 43, 40, 48, 54, 52, 39, 43, 37, 15, 1, 21, 1, 29, 1, 5, 42, 24, 1, 6, 17, 1, 5, 50, 1, 6, 21, 1, 5, 36, 1, 33, 1, 6, 31, 1, 5, 11, 1, 6, 18, 1, 5, 52, 64, 64, 65, 63, 9, 1, 6, 12, 1, 5, 62, 40, 1, 6, 29, 1, 5, 61, 22, 1, 6, 19, 1, 5, 63, 65, 64, 27, 1, 6, 41, 1, 5, 28, 1, 21, 1, 6, 48, 40, 53, 49, 41, 44, 13, 1, 5, 13, 1, 6, 12, 1, 5, 6, 1, 6, 40, 1, 5, 58, 23, 1, 6, 27, 1, 5, 62, 50, 1, 8, 1, 6, 49, 44, 40, 53, 1, 39, 1, 50, 47, 42, 41, 46, 46, 37, 45, 42, 46, 43, 1, 8, 1, 1, 1, 30, 1, 41, 1, 5, 44, 42, 42, 43, 41, 38, 21, 1, 6, 22, 1, 5, 14, 1, 30, 1, 47, 1, 5, 34, 1, 6, 25, 1, 5, 31, 1, 6, 29, 1, 5, 24, 1, 6, 38, 1, 5, 41, 22, 1, 6, 38, 39, 40, 47, 40, 41, 1, 5, 43, 1, 6, 31, 1, 5, 46, 44, 49, 47, 44, 1, 6, 21, 1, 8, 1, 5, 31, 1, 5, 47, 1, 25, 1, 39, 41, 41, 44, 48, 38, 35, 41, 41, 42, 53, 44, 44, 53, 46, 44, 37, 43, 37, 35, 45, 43, 39, 39, 47, 45, 39, 45, 42, 39, 47, 42, 39, 45, 44, 1, 8, 1, 1, 1, 41, 1, 27, 1, 7, 27, 1, 6, 37, 31, 1, 7, 21, 1, 6, 46, 60, 52, 50, 37, 43, 50, 56, 52, 41, 52, 45, 1, 7, 17, 1, 16, 1, 42, 45, 38, 41, 1, 33, 1, 5, 43, 1, 7, 18, 1, 14, 36, 23, 32, 27, 1, 7, 42, 1, 5, 30, 9, 30, 26, 35, 27, 1, 7, 19, 1, 5, 16, 9, 42, 1, 14, 1, 7, 26, 1, 5, 9, 36, 36, 29, 1, 6, 25, 1, 5, 61, 66, 12, 1, 6, 25, 1, 5, 66, 24, 9, 38, 33, 32, 27, 1, 43, 34, 36, 26, 1, 6, 16, 1, 5, 52, 9, 32, 31, 42, 33, 1, 37, 29, 39, 39, 1, 6, 29, 1, 5, 58, 65, 62, 65, 32, 1, 8, 1, 6, 51, 1, 16, 1, 48, 51, 47, 44, 48, 44, 57, 55, 44, 44, 50, 43, 43, 46, 40, 47, 39, 41, 42, 42, 28, 1, 18, 1, 7, 27, 1, 6, 48, 1, 21, 1, 20, 1, 6, 24, 36, 45, 39, 50, 41, 36, 39, 45, 51, 39, 1, 7, 44, 43, 1, 18, 1, 6, 21, 1, 41, 1, 6, 50, 1, 7, 19, 1, 6, 27, 1, 7, 18, 1, 32, 1, 6, 48, 19, 1, 7, 22, 1, 6, 53, 46, 46, 19, 1, 6, 28, 42, 46, 41, 44, 44, 53, 12, 1, 6, 20, 1, 6, 6, 1, 7, 16, 1, 6, 25, 1, 6, 44, 50, 46, 44, 44, 43, 30, 1, 6, 20, 1, 6, 28, 45, 31, 1, 6, 14, 36, 55, 53, 18, 1, 6, 22, 1, 6, 25, 1, 6, 48, 43, 27, 1, 6, 19, 40, 44, 38, 42, 25, 1, 7, 26, 1, 6, 29, 1, 57, 10, 1, 50, 45, 48, 45, 41, 45, 42, 45, 42, 26, 1, 5, 9, 39, 34, 42, 1, 24, 1, 6, 49, 24, 1, 5, 58, 66, 19, 1, 6, 33, 1, 5, 54, 53, 1, 6, 57, 1, 5, 62, 57, 66, 66, 48, 9, 42, 1, 6, 46, 39, 1, 5, 9, 31, 31, 25, 26, 29, 1, 35, 28, 29, 28, 30, 1, 56, 1, 8, 1, 6, 24, 1, 6, 41, 36, 50, 49, 35, 48, 48, 36, 44, 43, 24, 1, 6, 16, 42, 48, 40, 49, 32, 1, 6, 14, 49, 23, 1, 10, 1, 1, 1, 38, 1, 31, 1, 5, 40, 1, 9, 50, 1, 5, 18, 1, 16, 1, 42, 46, 1, 17, 1, 10, 20, 1, 5, 24, 1, 8, 58, 66, 49, 1, 5, 51, 59, 62, 62, 65, 62, 66, 66, 65, 65, 65, 64, 64, 57, 43, 1, 50, 46, 35, 1, 10, 1, 1, 1, 39, 1, 26, 1, 6, 46, 46, 45, 43, 17, 1, 6, 30, 43, 38, 44, 28, 1, 6, 28, 48, 52, 45, 46, 42, 47, 42, 38, 47, 48, 51, 48, 42, 37, 32, 1, 6, 35, 40, 43, 41, 48, 1, 6, 52, 43, 48, 51, 42, 47, 1, 21, 1, 20, 1, 6, 31, 41, 1, 6, 31, 1, 6, 44, 49, 26, 1, 6, 30, 10, 1, 18, 1, 64, 62, 62, 63, 1, 51, 40, 1, 6, 19, 1, 6, 37, 43, 19, 1, 6, 44, 39, 45, 20, 1, 6, 24, 41, 25, 1, 6, 13, 40, 1, 6, 44, 45, 42, 35, 46, 41, 48, 22, 1, 6, 26, 37, 27, 1, 6, 16, 48, 44, 46, 42, 41, 26, 1, 6, 28, 1, 6, 35, 43, 44, 43, 51, 36, 50, 49, 44, 46, 42, 50, 41, 27, 1, 6, 16, 1, 6, 10, 1, 6, 22, 1, 6, 15, 1, 6, 41, 27, 1, 6, 27, 36, 38, 37, 45, 53, 46, 45, 36, 42, 43, 20, 1, 6, 27, 1, 6, 38, 42, 24, 1, 6, 18, 1, 6, 47, 39, 38, 41, 42, 44, 41, 36, 44, 54, 39, 48, 51, 55, 44, 43, 20, 1, 6, 33, 1, 6, 45, 50, 50, 46, 48, 37, 51, 43, 45, 46, 43, 45, 29, 1, 6, 13, 43, 37, 39, 43, 44, 46, 50, 51, 17, 1, 6, 29, 46, 46, 53, 50, 46, 48, 46, 8, 43, 47, 52, 46, 43, 28, 1, 15, 1, 22, 1, 7, 40, 54, 1, 6, 19, 1, 7, 40, 49, 43, 52, 44, 52, 47, 45, 41, 52, 44, 47, 38, 37, 44, 48, 46, 16, 1, 6, 27, 1, 7, 18, 1, 6, 43, 41, 42, 49, 40, 48, 30, 1, 8, 1, 6, 24, 39, 42, 24, 1, 10, 1, 1, 1, 7, 1, 23, 1, 37, 1, 9, 58, 25, 1, 9, 63, 56, 1, 9, 64, 1, 9, 20, 1, 9, 59, 65, 62, 38, 1, 9, 37, 1, 9, 58, 65, 65, 63, 55, 1, 9, 17, 1, 9, 38, 1, 9, 52, 66, 1, 9, 58, 66, 61, 66, 27, 1, 9, 20, 1, 9, 38, 1, 9, 18, 1, 9, 61, 64, 62, 28, 1, 9, 7, 1, 9, 59, 30, 1, 9, 63, 1, 9, 59, 62, 60, 66, 1, 9, 64, 1, 9, 30, 1, 9, 23, 1, 9, 6, 1, 9, 21, 1, 43, 1, 9, 59, 60, 61, 60, 8, 1, 21, 1, 18, 1, 39, 34, 48, 42, 1, 5, 61, 14, 1, 5, 51, 1, 5, 62, 7, 1, 9, 9, 37, 35, 38, 34, 1, 21, 1, 5, 60, 63, 62, 63, 14, 1, 5, 19, 1, 5, 60, 66, 56, 19, 1, 5, 13, 1, 5, 60, 64, 63, 61, 6, 1, 9, 9, 35, 32, 35, 31, 1, 27, 1, 5, 60, 65, 64, 64, 64, 63, 64, 64, 63, 64, 64, 65, 10, 1, 5, 25, 1, 5, 38, 1, 5, 36, 1, 5, 62, 53, 1, 9, 11, 9, 35, 31, 1, 5, 49, 1, 9, 66, 35, 1, 5, 61, 51, 1, 9, 58, 1, 5, 31, 1, 9, 17, 1, 5, 17, 1, 9, 18, 1, 5, 26, 1, 9, 59, 1, 5, 57, 61, 63, 65, 56, 1, 9, 59, 38, 1, 5, 24, 1, 9, 59, 63, 14, 1, 5, 41, 1, 9, 58, 46, 1, 5, 5, 1, 9, 65, 1, 5, 17, 1, 9, 26, 1, 5, 15, 1, 9, 34, 1, 5, 18, 1, 9, 60, 14, 1, 5, 49, 1, 9, 59, 65, 63, 15, 1, 5, 26, 1, 9, 60, 66, 66, 37, 1, 5, 14, 1, 9, 60, 1, 5, 17, 1, 9, 59, 60, 26, 1, 5, 6, 1, 9, 11, 1, 5, 63, 64, 66, 63, 64, 63, 64, 59, 60, 66, 19, 1, 5, 22, 1, 5, 63, 1, 5, 9, 1, 5, 19, 1, 25, 1, 5, 18, 1, 5, 54, 62, 22, 1, 5, 49, 1, 5, 61, 60, 65, 62, 49, 46, 44, 50, 51, 49, 1, 58, 65, 1, 51, 46, 46, 41, 26, 1, 25, 1, 6, 20, 1, 5, 17, 26, 1, 6, 20, 1, 10, 40, 47, 49, 46, 47, 53, 42, 45, 20, 1, 6, 28, 1, 10, 17, 42, 39, 26, 1, 6, 24, 39, 51, 39, 25, 1, 5, 24, 1, 7, 31, 22, 50, 52, 32, 1, 6, 14, 42, 43, 46, 47, 24, 44, 44, 41, 17, 1, 5, 13, 23, 47, 51, 40, 17, 24, 1, 6, 25, 22, 1, 5, 23, 45, 42, 38, 44, 1, 6, 20, 1, 7, 16, 1, 5, 13, 1, 5, 24, 1, 60, 1, 5, 43, 37, 1, 7, 22, 1, 5, 41, 44, 44, 1, 6, 23, 1, 7, 30, 1, 5, 35, 61, 40, 42, 41, 41, 48, 42, 44, 46, 27, 1, 7, 22, 43, 37, 45, 31, 1, 5, 15, 41, 39, 37, 45, 1, 8, 1, 6, 44, 1, 16, 13, 53, 44, 47, 41, 39, 41, 1, 10, 1, 1, 1, 32, 1, 28, 1, 5, 49, 38, 1, 5, 22, 1, 5, 46, 45, 48, 46, 42, 54, 41, 28, 1, 5, 22, 1, 5, 18, 42, 42, 46, 40, 39, 48, 37, 43, 47, 46, 42, 41, 30, 1, 5, 15, 1, 5, 48, 41, 1, 5, 15, 1, 5, 44, 41, 41, 41, 40, 44, 43, 43, 28, 1, 5, 18, 1, 5, 40, 39, 51, 47, 40, 43, 46, 42, 43, 27, 1, 5, 21, 1, 5, 39, 38, 41, 45, 56, 46, 48, 22, 1, 5, 41, 1, 5, 49, 46, 36, 43, 42, 21, 1, 5, 26, 1, 5, 49, 51, 45, 41, 52, 53, 38, 17, 1, 5, 45, 41, 1, 5, 39, 45, 35, 33, 35, 48, 47, 25, 1, 5, 23, 1, 15, 1, 5, 48, 1, 5, 51, 1, 5, 18, 1, 5, 64, 64, 66, 41, 1, 5, 55, 40, 1, 5, 57, 44, 1, 5, 38, 1, 5, 55, 1, 5, 41, 1, 5, 54, 1, 5, 62, 64, 57, 10, 1, 5, 27, 38, 1, 5, 60, 56, 60, 65, 65, 46, 1, 5, 60, 64, 63, 66, 66, 63, 44, 1, 5, 45, 1, 5, 63, 14, 1, 5, 5, 1, 5, 66, 13, 1, 5, 47, 1, 5, 12, 1, 5, 58, 1, 5, 13, 1, 5, 32, 1, 5, 62, 29, 1, 5, 54, 1, 5, 59, 57, 1, 5, 59, 42, 1, 5, 19, 1, 5, 19, 1, 5, 38, 1, 5, 57, 59, 66, 62, 62, 22, 1, 5, 29, 1, 5, 60, 1, 5, 37, 1, 5, 58, 66, 61, 66, 65, 1, 5, 57, 58, 62, 45, 1, 5, 20, 1, 5, 57, 1, 5, 61, 58, 63, 64, 24, 1, 5, 32, 1, 5, 59, 1, 5, 36, 1, 5, 14, 1, 14, 1, 62, 12, 1, 5, 51, 1, 5, 66, 66, 62, 59, 63, 42, 1, 16, 1, 6, 58, 65, 64, 23, 1, 5, 63, 66, 21, 1, 6, 44, 1, 5, 15, 1, 6, 58, 33, 1, 5, 23, 1, 13, 1, 5, 35, 1, 5, 60, 66, 62, 1, 5, 21, 1, 5, 59, 31, 1, 5, 63, 40, 1, 5, 60, 64, 65, 64, 28, 1, 63, 11, 1, 6, 48, 1, 45, 1, 5, 49, 38, 52, 41, 17, 46, 44, 44, 38, 46, 43, 44, 42, 36, 23, 40, 46, 41, 21, 1, 6, 26, 48, 41, 41, 43, 38, 44, 42, 23, 1, 5, 21, 46, 28, 1, 6, 18, 1, 5, 46, 52, 24, 1, 6, 18, 1, 5, 18, 1, 6, 49, 20, 1, 5, 20, 49, 1, 6, 40, 49, 1, 6, 39, 1, 5, 51, 1, 24, 1, 5, 18, 1, 6, 45, 40, 41, 45, 48, 40, 45, 48, 41, 38, 50, 49, 38, 1, 5, 14, 1, 6, 15, 1, 13, 1, 5, 5, 1, 6, 4, 1, 5, 10, 1, 5, 28, 1, 6, 14, 1, 6, 51, 24, 1, 46, 1, 18, 1, 5, 47, 34, 1, 13, 1, 6, 32, 1, 6, 19, 1, 7, 33, 45, 43, 1, 5, 12, 1, 6, 24, 1, 7, 39, 1, 6, 49, 1, 5, 40, 1, 7, 28, 1, 6, 27, 1, 6, 18, 1, 6, 52, 1, 5, 45, 41, 37, 1, 6, 21, 1, 13, 1, 5, 22, 1, 6, 17, 1, 49, 44, 1, 6, 30, 1, 5, 17, 1, 19, 1, 5, 29, 1, 5, 47, 1, 5, 19, 1, 6, 45, 44, 1, 5, 20, 1, 6, 30, 1, 7, 51, 38, 1, 8, 1, 5, 40, 24, 1, 17, 1, 6, 44, 43, 43, 43, 41, 42, 44, 47, 1, 5, 27, 26, 1, 18, 1, 17, 18, 1, 6, 42, 1, 5, 47, 43, 18, 1, 13, 1, 6, 21, 38, 44, 47, 17, 1, 8, 1, 5, 46, 46, 47, 44, 47, 49, 36, 43, 20, 1, 5, 18, 42, 29, 1, 5, 18, 51, 37, 52, 41, 34, 49, 20, 1, 35, 1, 28, 1, 5, 50, 36, 21, 1, 5, 19, 46, 45, 38, 38, 49, 44, 1, 8, 1, 5, 53, 45, 31, 1, 16, 1, 57, 1, 6, 21, 1, 5, 25, 46, 1, 6, 44, 44, 36, 25, 1, 14, 21, 44, 52, 41, 44, 33, 1, 5, 20, 41, 43, 46, 48, 47, 39, 44, 47, 38, 44, 46, 38, 47, 15, 1, 6, 25, 38, 42, 46, 47, 1, 5, 42, 50, 42, 53, 28, 1, 6, 18, 41, 39, 51, 41, 24, 42, 46, 28, 1, 16, 1, 64, 23]\n"
     ]
    }
   ],
   "source": [
    "linelengths = [len(line) for line in open('hamlet.txt')]\n",
    "print(linelengths)"
   ]
  },
  {
   "cell_type": "code",
   "execution_count": 89,
   "metadata": {},
   "outputs": [
    {
     "data": {
      "text/plain": [
       "(173946, 25.69364844903988, 25.0, 21.030134624309685)"
      ]
     },
     "execution_count": 89,
     "metadata": {},
     "output_type": "execute_result"
    }
   ],
   "source": [
    "sum(linelengths), np.mean(linelengths), np.median(linelengths), np.std(linelengths)"
   ]
  },
  {
   "cell_type": "markdown",
   "metadata": {},
   "source": [
    "#### 统计字数"
   ]
  },
  {
   "cell_type": "code",
   "execution_count": 92,
   "metadata": {},
   "outputs": [
    {
     "name": "stdout",
     "output_type": "stream",
     "text": [
      "31659\n"
     ]
    }
   ],
   "source": [
    "with open('hamlet.txt', encoding='utf-8') as f:\n",
    "    hamlet = f.read()\n",
    "    words = hamlet.split()\n",
    "    print(len(words))"
   ]
  },
  {
   "cell_type": "markdown",
   "metadata": {},
   "source": [
    "#### 打印前1000个字"
   ]
  },
  {
   "cell_type": "code",
   "execution_count": 93,
   "metadata": {},
   "outputs": [
    {
     "name": "stdout",
     "output_type": "stream",
     "text": [
      "﻿XXXX\n",
      "HAMLET, PRINCE OF DENMARK\n",
      "\n",
      "by William Shakespeare\n",
      "\n",
      "\n",
      "\n",
      "\n",
      "PERSONS REPRESENTED.\n",
      "\n",
      "Claudius, King of Denmark.\n",
      "Hamlet, Son to the former, and Nephew to the present King.\n",
      "Polonius, Lord Chamberlain.\n",
      "Horatio, Friend to Hamlet.\n",
      "Laertes, Son to Polonius.\n",
      "Voltimand, Courtier.\n",
      "Cornelius, Courtier.\n",
      "Rosencrantz, Courtier.\n",
      "Guildenstern, Courtier.\n",
      "Osric, Courtier.\n",
      "A Gentleman, Courtier.\n",
      "A Priest.\n",
      "Marcellus, Officer.\n",
      "Bernardo, Officer.\n",
      "Francisco, a Soldier\n",
      "Reynaldo, Servant to Polonius.\n",
      "Players.\n",
      "Two Clowns, Grave-diggers.\n",
      "Fortinbras, Prince of Norway.\n",
      "A Captain.\n",
      "English Ambassadors.\n",
      "Ghost of Hamlet's Father.\n",
      "\n",
      "Gertrude, Queen of Denmark, and Mother of Hamlet.\n",
      "Ophelia, Daughter to Polonius.\n",
      "\n",
      "Lords, Ladies, Officers, Soldiers, Sailors, Messengers, and other\n",
      "Attendants.\n",
      "\n",
      "SCENE. Elsinore.\n",
      "\n",
      "\n",
      "\n",
      "ACT I.\n",
      "\n",
      "Scene I. Elsinore. A platform before the Castle.\n",
      "\n",
      "[Francisco at his post. Enter to him Bernardo.]\n",
      "\n",
      "Ber.\n",
      "Who's there?\n",
      "\n",
      "Fran.\n",
      "Nay, answer me: stand, and unfold yourself.\n",
      "\n",
      "Ber.\n",
      "Long live the king!\n",
      "\n",
      "Fran.\n",
      "Bernar\n"
     ]
    }
   ],
   "source": [
    "print(hamlet[:1000])"
   ]
  },
  {
   "cell_type": "markdown",
   "metadata": {},
   "source": [
    "#### 打印后1000个字"
   ]
  },
  {
   "cell_type": "code",
   "execution_count": 94,
   "metadata": {},
   "outputs": [
    {
     "name": "stdout",
     "output_type": "stream",
     "text": [
      "on by cunning and forc'd cause;\n",
      "And, in this upshot, purposes mistook\n",
      "Fall'n on the inventors' heads: all this can I\n",
      "Truly deliver.\n",
      "\n",
      "Fort.\n",
      "Let us haste to hear it,\n",
      "And call the noblest to the audience.\n",
      "For me, with sorrow I embrace my fortune:\n",
      "I have some rights of memory in this kingdom,\n",
      "Which now, to claim my vantage doth invite me.\n",
      "\n",
      "Hor.\n",
      "Of that I shall have also cause to speak,\n",
      "And from his mouth whose voice will draw on more:\n",
      "But let this same be presently perform'd,\n",
      "Even while men's minds are wild: lest more mischance\n",
      "On plots and errors happen.\n",
      "\n",
      "Fort.\n",
      "Let four captains\n",
      "Bear Hamlet like a soldier to the stage;\n",
      "For he was likely, had he been put on,\n",
      "To have prov'd most royally: and, for his passage,\n",
      "The soldiers' music and the rites of war\n",
      "Speak loudly for him.--\n",
      "Take up the bodies.--Such a sight as this\n",
      "Becomes the field, but here shows much amiss.\n",
      "Go, bid the soldiers shoot.\n",
      "\n",
      "[A dead march.]\n",
      "\n",
      "[Exeunt, bearing off the dead bodies; after the which a peal of\n",
      "ordnance is shot off.]\n",
      "\n"
     ]
    }
   ],
   "source": [
    "print(hamlet[-1000:])"
   ]
  },
  {
   "cell_type": "markdown",
   "metadata": {},
   "source": [
    "#### 选取words里第2、3、4三个元素"
   ]
  },
  {
   "cell_type": "code",
   "execution_count": 95,
   "metadata": {},
   "outputs": [
    {
     "name": "stdout",
     "output_type": "stream",
     "text": [
      "['HAMLET,', 'PRINCE', 'OF']\n"
     ]
    }
   ],
   "source": [
    "print(words[1:4])"
   ]
  },
  {
   "cell_type": "markdown",
   "metadata": {},
   "source": [
    "#### 选取words里前4个元素"
   ]
  },
  {
   "cell_type": "code",
   "execution_count": 96,
   "metadata": {},
   "outputs": [
    {
     "name": "stdout",
     "output_type": "stream",
     "text": [
      "['\\ufeffXXXX', 'HAMLET,', 'PRINCE', 'OF']\n"
     ]
    }
   ],
   "source": [
    "print(words[:4])"
   ]
  },
  {
   "cell_type": "markdown",
   "metadata": {},
   "source": [
    "#### 选取第一个元素"
   ]
  },
  {
   "cell_type": "code",
   "execution_count": 97,
   "metadata": {},
   "outputs": [
    {
     "name": "stdout",
     "output_type": "stream",
     "text": [
      "﻿XXXX\n"
     ]
    }
   ],
   "source": [
    "print(words[0])"
   ]
  },
  {
   "cell_type": "markdown",
   "metadata": {},
   "source": [
    "#### 选取最后一个元素"
   ]
  },
  {
   "cell_type": "code",
   "execution_count": 98,
   "metadata": {},
   "outputs": [
    {
     "name": "stdout",
     "output_type": "stream",
     "text": [
      "off.]\n"
     ]
    }
   ],
   "source": [
    "print(words[-1])"
   ]
  },
  {
   "cell_type": "markdown",
   "metadata": {},
   "source": [
    "#### 从区间[1,8]每隔2个元素选取"
   ]
  },
  {
   "cell_type": "code",
   "execution_count": 99,
   "metadata": {},
   "outputs": [
    {
     "name": "stdout",
     "output_type": "stream",
     "text": [
      "['HAMLET,', 'OF', 'by', 'Shakespeare']\n"
     ]
    }
   ],
   "source": [
    "print(words[1:8:2])"
   ]
  },
  {
   "cell_type": "markdown",
   "metadata": {},
   "source": [
    "mylist = []\n",
    "for i in range(10):\n",
    "    mylist.append(i)\n",
    "mylist"
   ]
  },
  {
   "cell_type": "markdown",
   "metadata": {},
   "source": [
    "#### 字典(Dictionaries)"
   ]
  },
  {
   "cell_type": "code",
   "execution_count": 103,
   "metadata": {},
   "outputs": [
    {
     "name": "stdout",
     "output_type": "stream",
     "text": [
      "['one', 'two', 'three']\n",
      "[('one', 1), ('two', 2), ('three', 3)]\n",
      "dict_values([1, 2, 3])\n"
     ]
    }
   ],
   "source": [
    "adict={'one':1, 'two':2, 'three':3}\n",
    "print([i for i in adict])\n",
    "print([(k,v) for k,v in adict.items()])\n",
    "print(adict.values())"
   ]
  },
  {
   "cell_type": "markdown",
   "metadata": {},
   "source": [
    "#### 字典表达式"
   ]
  },
  {
   "cell_type": "code",
   "execution_count": 105,
   "metadata": {},
   "outputs": [
    {
     "data": {
      "text/plain": [
       "{1: 1, 2: 4, 3: 9, 4: 16, 5: 25}"
      ]
     },
     "execution_count": 105,
     "metadata": {},
     "output_type": "execute_result"
    }
   ],
   "source": [
    "mydict = {k:v for k,v in zip(alist, asquaredlist)}\n",
    "mydict"
   ]
  },
  {
   "cell_type": "markdown",
   "metadata": {},
   "source": [
    "#### 利用dict()对象构造字典"
   ]
  },
  {
   "cell_type": "code",
   "execution_count": 108,
   "metadata": {},
   "outputs": [
    {
     "data": {
      "text/plain": [
       "{'a': 1, 'b': 2}"
      ]
     },
     "execution_count": 108,
     "metadata": {},
     "output_type": "execute_result"
    }
   ],
   "source": [
    "dict(a=1,b=2)"
   ]
  },
  {
   "cell_type": "markdown",
   "metadata": {},
   "source": [
    "#### 转换json格式"
   ]
  },
  {
   "cell_type": "code",
   "execution_count": 114,
   "metadata": {},
   "outputs": [
    {
     "name": "stdout",
     "output_type": "stream",
     "text": [
      "{\"1\": 1, \"2\": 4, \"3\": 9, \"4\": 16, \"5\": 25} <class 'str'>\n"
     ]
    }
   ],
   "source": [
    "import json\n",
    "# 字典 to JSON\n",
    "s = json.dumps(mydict)\n",
    "print(s, type(s))"
   ]
  },
  {
   "cell_type": "code",
   "execution_count": 115,
   "metadata": {},
   "outputs": [
    {
     "name": "stdout",
     "output_type": "stream",
     "text": [
      "{'1': 1, '2': 4, '3': 9, '4': 16, '5': 25} <class 'dict'>\n"
     ]
    }
   ],
   "source": [
    "# JSON to 字典\n",
    "print(json.loads(s), type(json.loads(s)))"
   ]
  },
  {
   "cell_type": "markdown",
   "metadata": {},
   "source": [
    "#### 字符串(Strings)"
   ]
  },
  {
   "cell_type": "code",
   "execution_count": 117,
   "metadata": {},
   "outputs": [
    {
     "name": "stdout",
     "output_type": "stream",
     "text": [
      "off.]\n"
     ]
    }
   ],
   "source": [
    "lastword = words[-1]\n",
    "print(lastword)"
   ]
  },
  {
   "cell_type": "code",
   "execution_count": 118,
   "metadata": {},
   "outputs": [
    {
     "data": {
      "text/plain": [
       "'.'"
      ]
     },
     "execution_count": 118,
     "metadata": {},
     "output_type": "execute_result"
    }
   ],
   "source": [
    "lastword[-2]"
   ]
  },
  {
   "cell_type": "code",
   "execution_count": 119,
   "metadata": {},
   "outputs": [
    {
     "ename": "TypeError",
     "evalue": "'str' object does not support item assignment",
     "output_type": "error",
     "traceback": [
      "\u001b[1;31m---------------------------------------------------------------------------\u001b[0m",
      "\u001b[1;31mTypeError\u001b[0m                                 Traceback (most recent call last)",
      "\u001b[1;32m<ipython-input-119-52a971af88fa>\u001b[0m in \u001b[0;36m<module>\u001b[1;34m()\u001b[0m\n\u001b[1;32m----> 1\u001b[1;33m \u001b[0mlastword\u001b[0m\u001b[1;33m[\u001b[0m\u001b[1;33m-\u001b[0m\u001b[1;36m2\u001b[0m\u001b[1;33m]\u001b[0m \u001b[1;33m=\u001b[0m \u001b[1;34m'k'\u001b[0m\u001b[1;33m\u001b[0m\u001b[0m\n\u001b[0m",
      "\u001b[1;31mTypeError\u001b[0m: 'str' object does not support item assignment"
     ]
    }
   ],
   "source": [
    "# 字符串无法更改\n",
    "lastword[-2] = 'k'"
   ]
  },
  {
   "cell_type": "markdown",
   "metadata": {},
   "source": [
    "#### 函数(Functions)"
   ]
  },
  {
   "cell_type": "code",
   "execution_count": 120,
   "metadata": {},
   "outputs": [
    {
     "data": {
      "text/plain": [
       "(25, 125)"
      ]
     },
     "execution_count": 120,
     "metadata": {},
     "output_type": "execute_result"
    }
   ],
   "source": [
    "def square(x):\n",
    "    return x*x\n",
    "\n",
    "def cube(x):\n",
    "    return x*x*x\n",
    "square(5), cube(5)"
   ]
  },
  {
   "cell_type": "code",
   "execution_count": 121,
   "metadata": {},
   "outputs": [
    {
     "name": "stdout",
     "output_type": "stream",
     "text": [
      "<function square at 0x000000000AA110D0> <class 'function'>\n"
     ]
    }
   ],
   "source": [
    "print(square, type(cube))"
   ]
  },
  {
   "cell_type": "markdown",
   "metadata": {},
   "source": [
    "#### 可以将函数作为参数传递给函数"
   ]
  },
  {
   "cell_type": "code",
   "execution_count": 122,
   "metadata": {},
   "outputs": [
    {
     "name": "stdout",
     "output_type": "stream",
     "text": [
      "3 4 <function square at 0x000000000AA110D0>\n"
     ]
    },
    {
     "data": {
      "text/plain": [
       "25"
      ]
     },
     "execution_count": 122,
     "metadata": {},
     "output_type": "execute_result"
    }
   ],
   "source": [
    "def sum_of_anything(x,y,f):\n",
    "    print(x,y,f)\n",
    "    return f(x) + f(y)\n",
    "sum_of_anything(3,4,square)"
   ]
  },
  {
   "cell_type": "markdown",
   "metadata": {},
   "source": [
    "#### 函数可以有位置参数和关键字参数"
   ]
  },
  {
   "cell_type": "code",
   "execution_count": 128,
   "metadata": {},
   "outputs": [
    {
     "name": "stdout",
     "output_type": "stream",
     "text": [
      "got 1 3 () {}\n",
      "1\n",
      "got 1 3 (4,) {'d': 1, 'c': 2}\n",
      "1\n"
     ]
    }
   ],
   "source": [
    "def f(a,b,*posargs,**dictargs):\n",
    "    print('got',a,b,posargs,dictargs)\n",
    "    return a\n",
    "print(f(1,3))\n",
    "print(f(1,3,4,d=1,c=2))"
   ]
  },
  {
   "cell_type": "markdown",
   "metadata": {},
   "source": [
    "####  create a dictionary with keys the integers upto and including 10, and values the cubes of these dictionaries"
   ]
  },
  {
   "cell_type": "code",
   "execution_count": 143,
   "metadata": {},
   "outputs": [
    {
     "data": {
      "text/plain": [
       "{0: 0,\n",
       " 1: 1,\n",
       " 2: 8,\n",
       " 3: 27,\n",
       " 4: 64,\n",
       " 5: 125,\n",
       " 6: 216,\n",
       " 7: 343,\n",
       " 8: 512,\n",
       " 9: 729,\n",
       " 10: 1000}"
      ]
     },
     "execution_count": 143,
     "metadata": {},
     "output_type": "execute_result"
    }
   ],
   "source": [
    "{i:i**3 for i in range(0, 11)}"
   ]
  },
  {
   "cell_type": "code",
   "execution_count": 129,
   "metadata": {},
   "outputs": [
    {
     "data": {
      "text/plain": [
       "{0: 0,\n",
       " 1: 1,\n",
       " 2: 8,\n",
       " 3: 27,\n",
       " 4: 64,\n",
       " 5: 125,\n",
       " 6: 216,\n",
       " 7: 343,\n",
       " 8: 512,\n",
       " 9: 729,\n",
       " 10: 1000}"
      ]
     },
     "execution_count": 129,
     "metadata": {},
     "output_type": "execute_result"
    }
   ],
   "source": [
    "lst = range(11)\n",
    "{k:cube(v) for k,v in enumerate(lst)}"
   ]
  },
  {
   "cell_type": "markdown",
   "metadata": {},
   "source": [
    "#### 布尔值和控制流"
   ]
  },
  {
   "cell_type": "code",
   "execution_count": 130,
   "metadata": {},
   "outputs": [
    {
     "data": {
      "text/plain": [
       "True"
      ]
     },
     "execution_count": 130,
     "metadata": {},
     "output_type": "execute_result"
    }
   ],
   "source": [
    "a =  [1,2,3,4,5]\n",
    "1 in a"
   ]
  },
  {
   "cell_type": "code",
   "execution_count": 131,
   "metadata": {},
   "outputs": [
    {
     "data": {
      "text/plain": [
       "False"
      ]
     },
     "execution_count": 131,
     "metadata": {},
     "output_type": "execute_result"
    }
   ],
   "source": [
    "6 in a"
   ]
  },
  {
   "cell_type": "markdown",
   "metadata": {},
   "source": [
    "#### python支持if/elif/else多条件从句"
   ]
  },
  {
   "cell_type": "code",
   "execution_count": 132,
   "metadata": {},
   "outputs": [
    {
     "name": "stdout",
     "output_type": "stream",
     "text": [
      "one\n",
      "two\n",
      "3\n"
     ]
    },
    {
     "data": {
      "text/plain": [
       "(None, None, None)"
      ]
     },
     "execution_count": 132,
     "metadata": {},
     "output_type": "execute_result"
    }
   ],
   "source": [
    "def do_it(x):\n",
    "    if x==1:\n",
    "        print('one')\n",
    "    elif x==2:\n",
    "        print('two')\n",
    "    else:\n",
    "        print(x)\n",
    "do_it(1), do_it(2), do_it(3)"
   ]
  },
  {
   "cell_type": "markdown",
   "metadata": {},
   "source": [
    "#### break和continue\n",
    "- break，结束整个循环\n",
    "- continue，跳过当前循环，继续下一轮"
   ]
  },
  {
   "cell_type": "code",
   "execution_count": 135,
   "metadata": {},
   "outputs": [
    {
     "name": "stdout",
     "output_type": "stream",
     "text": [
      "0\n",
      "1\n",
      "2\n",
      "3\n",
      "4\n"
     ]
    }
   ],
   "source": [
    "for i in range(10):\n",
    "    if i == 5:\n",
    "        break # 当i等于5时，结束了整个循环\n",
    "    print(i)"
   ]
  },
  {
   "cell_type": "code",
   "execution_count": 137,
   "metadata": {},
   "outputs": [
    {
     "name": "stdout",
     "output_type": "stream",
     "text": [
      "0\n",
      "1\n",
      "2\n",
      "3\n",
      "4\n",
      "6\n",
      "7\n",
      "8\n",
      "9\n"
     ]
    }
   ],
   "source": [
    "for i in range(10):\n",
    "    if i == 5:\n",
    "        continue # 当i等于5时，跳过当前循环继续下一轮循环\n",
    "    print(i)"
   ]
  },
  {
   "cell_type": "markdown",
   "metadata": {},
   "source": [
    "#### 例外(Exceptions)\n",
    "捕捉错误"
   ]
  },
  {
   "cell_type": "code",
   "execution_count": 139,
   "metadata": {},
   "outputs": [
    {
     "name": "stdout",
     "output_type": "stream",
     "text": [
      "(<class 'TypeError'>, TypeError(\"f() missing 1 required positional argument: 'b'\",), <traceback object at 0x000000000A90EE08>)\n"
     ]
    }
   ],
   "source": [
    "try:\n",
    "    f(1) # 接收至少2个参数\n",
    "except:\n",
    "    import sys\n",
    "    print(sys.exc_info())"
   ]
  },
  {
   "cell_type": "markdown",
   "metadata": {},
   "source": [
    "#### 整合运用"
   ]
  },
  {
   "cell_type": "code",
   "execution_count": 140,
   "metadata": {},
   "outputs": [
    {
     "data": {
      "text/plain": [
       "95"
      ]
     },
     "execution_count": 140,
     "metadata": {},
     "output_type": "execute_result"
    }
   ],
   "source": [
    "# 统计一共有多少个小写的'thou'\n",
    "hamlettokens = [word.lower() for word in words]\n",
    "hamlettokens.count('thou')"
   ]
  },
  {
   "cell_type": "markdown",
   "metadata": {},
   "source": [
    "#### 使用频率最高的100个词"
   ]
  },
  {
   "cell_type": "code",
   "execution_count": 144,
   "metadata": {},
   "outputs": [
    {
     "data": {
      "text/plain": [
       "[(1136, 'the'),\n",
       " (943, 'and'),\n",
       " (720, 'to'),\n",
       " (667, 'of'),\n",
       " (527, 'a'),\n",
       " (512, 'my'),\n",
       " (510, 'i'),\n",
       " (420, 'in'),\n",
       " (412, 'you'),\n",
       " (358, 'ham.')]"
      ]
     },
     "execution_count": 144,
     "metadata": {},
     "output_type": "execute_result"
    }
   ],
   "source": [
    "with open('hamlet.txt', encoding='utf-8') as f:\n",
    "    text = f.read()\n",
    "    words = text.split()\n",
    "    words = [word.lower() for word in words]\n",
    "# 统计词频    \n",
    "dicts = {}\n",
    "unique = set(words)\n",
    "for word in unique:\n",
    "    dicts[word] = words.count(word)\n",
    "# for word in words:\n",
    "#     if word not in dicts:\n",
    "#         dicts[word] = 0\n",
    "#     dicts[word] += 1\n",
    "# 将字典对调key和value然后转化为tuple对的list\n",
    "frequency = [(v, k) for k,v in dicts.items()]\n",
    "frequency.sort(reverse=True) # 降序排列\n",
    "frequency[:10]"
   ]
  },
  {
   "cell_type": "code",
   "execution_count": 145,
   "metadata": {},
   "outputs": [
    {
     "data": {
      "text/plain": [
       "[('the', 1136),\n",
       " ('and', 943),\n",
       " ('to', 720),\n",
       " ('of', 667),\n",
       " ('a', 527),\n",
       " ('my', 512),\n",
       " ('i', 510),\n",
       " ('in', 420),\n",
       " ('you', 412),\n",
       " ('ham.', 358),\n",
       " ('that', 337),\n",
       " ('it', 324),\n",
       " ('is', 320),\n",
       " ('his', 295),\n",
       " ('not', 270),\n",
       " ('with', 264),\n",
       " ('this', 250),\n",
       " ('your', 241),\n",
       " ('for', 231),\n",
       " ('but', 228),\n",
       " ('as', 216),\n",
       " ('he', 202),\n",
       " ('be', 201),\n",
       " ('what', 183),\n",
       " ('have', 174),\n",
       " ('will', 149),\n",
       " ('so', 143),\n",
       " ('me', 142),\n",
       " ('we', 132),\n",
       " ('do', 128),\n",
       " ('are', 126),\n",
       " ('him', 122),\n",
       " ('our', 119),\n",
       " ('king.', 113),\n",
       " ('by', 111),\n",
       " ('hor.', 110),\n",
       " ('if', 109),\n",
       " ('on', 109),\n",
       " ('or', 109),\n",
       " ('no', 107),\n",
       " ('shall', 106),\n",
       " ('from', 95),\n",
       " ('all', 95),\n",
       " ('thou', 95),\n",
       " ('they', 93),\n",
       " ('let', 92),\n",
       " ('good', 88),\n",
       " ('thy', 86),\n",
       " ('pol.', 86),\n",
       " ('at', 86),\n",
       " ('how', 84),\n",
       " ('most', 82),\n",
       " ('lord,', 81),\n",
       " ('more', 76),\n",
       " ('queen.', 76),\n",
       " ('her', 76),\n",
       " ('like', 75),\n",
       " ('would', 74),\n",
       " ('was', 73),\n",
       " (\"'tis\", 70),\n",
       " ('you,', 66),\n",
       " ('may', 65),\n",
       " ('very', 64),\n",
       " ('laer.', 62),\n",
       " ('hath', 62),\n",
       " ('[enter', 61),\n",
       " ('lord.', 60),\n",
       " ('did', 59),\n",
       " ('must', 58),\n",
       " ('give', 58),\n",
       " ('oph.', 58),\n",
       " ('know', 57),\n",
       " ('o,', 57),\n",
       " ('their', 57),\n",
       " (\"i'll\", 56),\n",
       " ('which', 55),\n",
       " ('an', 55),\n",
       " ('should', 55),\n",
       " ('when', 54),\n",
       " ('come', 54),\n",
       " ('some', 54),\n",
       " ('upon', 53),\n",
       " ('make', 53),\n",
       " ('am', 52),\n",
       " ('ros.', 51),\n",
       " ('than', 51),\n",
       " ('such', 51),\n",
       " ('there', 50),\n",
       " ('where', 49),\n",
       " ('go', 48),\n",
       " ('now', 48),\n",
       " ('us', 46),\n",
       " ('o', 46),\n",
       " ('clown.', 45),\n",
       " ('these', 44),\n",
       " ('them', 44),\n",
       " ('had', 44),\n",
       " ('much', 44),\n",
       " ('out', 43),\n",
       " ('she', 43),\n",
       " ('speak', 42),\n",
       " ('love', 41),\n",
       " ('king', 40),\n",
       " ('think', 39),\n",
       " ('tell', 39),\n",
       " ('sir,', 38),\n",
       " ('nor', 37),\n",
       " ('take', 36),\n",
       " ('then', 36),\n",
       " ('1', 36),\n",
       " ('ay,', 35),\n",
       " ('mar.', 35),\n",
       " ('yet', 35),\n",
       " ('own', 35),\n",
       " ('too', 35),\n",
       " ('one', 34),\n",
       " ('thee', 34),\n",
       " ('it,', 34),\n",
       " ('man', 33),\n",
       " ('me,', 33),\n",
       " ('here', 33),\n",
       " ('guil.', 32),\n",
       " ('can', 32),\n",
       " ('now,', 32),\n",
       " ('who', 32),\n",
       " ('say', 32),\n",
       " ('into', 31),\n",
       " ('whose', 31),\n",
       " ('see', 31),\n",
       " ('but,', 30),\n",
       " ('well', 30),\n",
       " ('time', 30),\n",
       " ('look', 30),\n",
       " ('could', 30),\n",
       " ('why', 29),\n",
       " ('thus', 29),\n",
       " ('come,', 28),\n",
       " ('that,', 28),\n",
       " ('hamlet', 28),\n",
       " ('might', 28),\n",
       " ('and,', 28),\n",
       " ('no,', 27),\n",
       " ('been', 27),\n",
       " ('were', 27),\n",
       " ('doth', 27),\n",
       " ('up', 27),\n",
       " ('dear', 27),\n",
       " ('lord?', 27),\n",
       " ('why,', 26),\n",
       " ('made', 26),\n",
       " ('father', 26),\n",
       " ('hamlet,', 26),\n",
       " ('osr.', 25),\n",
       " ('does', 25),\n",
       " ('mine', 25),\n",
       " ('cannot', 25),\n",
       " ('him,', 25),\n",
       " ('it.', 24),\n",
       " ('put', 24),\n",
       " ('nay,', 24),\n",
       " ('never', 24),\n",
       " ('great', 24),\n",
       " ('hold', 24),\n",
       " ('scene', 23),\n",
       " ('pray', 23),\n",
       " ('hear', 23),\n",
       " (\"i'\", 22),\n",
       " ('set', 22),\n",
       " ('call', 22),\n",
       " ('though', 22),\n",
       " ('against', 22),\n",
       " ('both', 22),\n",
       " ('him.', 22),\n",
       " ('you.', 22),\n",
       " ('[exeunt', 22),\n",
       " ('well,', 21),\n",
       " ('even', 21),\n",
       " ('ber.', 21),\n",
       " ('me.', 21),\n",
       " ('itself', 21),\n",
       " ('those', 21),\n",
       " ('king,', 21),\n",
       " ('poor', 20),\n",
       " ('till', 20),\n",
       " ('sweet', 20),\n",
       " ('show', 20),\n",
       " ('heaven', 20),\n",
       " ('leave', 20),\n",
       " ('[exit.]', 19),\n",
       " ('part', 19),\n",
       " ('two', 19),\n",
       " ('comes', 19),\n",
       " ('nothing', 19),\n",
       " ('polonius.]', 19),\n",
       " ('queen', 19),\n",
       " ('[exit', 19),\n",
       " ('old', 19),\n",
       " ('believe', 18),\n",
       " ('dead', 18),\n",
       " ('not,', 18),\n",
       " ('laertes,', 18),\n",
       " ('indeed,', 18),\n",
       " (\"father's\", 18),\n",
       " ('soul', 17),\n",
       " ('many', 17),\n",
       " ('without', 17),\n",
       " ('noble', 17),\n",
       " ('head', 17),\n",
       " ('play', 17),\n",
       " ('this,', 17),\n",
       " ('before', 17),\n",
       " ('seen', 17),\n",
       " ('makes', 17),\n",
       " ('find', 17),\n",
       " ('i,', 17),\n",
       " ('world', 17),\n",
       " ('so,', 16),\n",
       " (\"that's\", 16),\n",
       " ('young', 16),\n",
       " ('horatio,', 16),\n",
       " (\"there's\", 16),\n",
       " ('then,', 16),\n",
       " ('keep', 16),\n",
       " ('lord', 16),\n",
       " ('god', 15),\n",
       " ('rosencrantz', 15),\n",
       " ('little', 15),\n",
       " ('use', 15),\n",
       " ('between', 15),\n",
       " ('about', 15),\n",
       " ('death', 15),\n",
       " ('what,', 15),\n",
       " ('fair', 15),\n",
       " ('nature', 15),\n",
       " ('queen,', 15),\n",
       " ('castle.', 15),\n",
       " ('since', 15),\n",
       " ('art', 14),\n",
       " ('true', 14),\n",
       " ('bear', 14),\n",
       " ('ghost.', 14),\n",
       " ('us,', 14),\n",
       " ('words', 14),\n",
       " ('lord;', 14),\n",
       " ('say,', 14),\n",
       " ('follow', 14),\n",
       " ('guildenstern.]', 14),\n",
       " ('hast', 14),\n",
       " ('therefore', 14),\n",
       " ('room', 14),\n",
       " ('has', 14),\n",
       " ('mother', 13),\n",
       " ('dost', 13),\n",
       " ('here,', 13),\n",
       " ('thing', 13),\n",
       " ('mother,', 13),\n",
       " (\"o'er\", 13),\n",
       " ('do,', 13),\n",
       " ('you?', 13),\n",
       " ('off', 13),\n",
       " ('rey.', 13),\n",
       " ('night,', 13),\n",
       " ('thoughts', 13),\n",
       " ('fear', 13),\n",
       " ('[exeunt.]', 13),\n",
       " ('still', 13),\n",
       " ('within', 13),\n",
       " (\"we'll\", 13),\n",
       " ('means', 13),\n",
       " ('marry,', 13),\n",
       " ('first', 13),\n",
       " ('life', 13),\n",
       " ('act', 12),\n",
       " ('2', 12),\n",
       " ('day', 12),\n",
       " ('you:', 12),\n",
       " ('sir.', 12),\n",
       " ('youth', 12),\n",
       " ('live', 12),\n",
       " ('know,', 12),\n",
       " ('hamlet.', 12),\n",
       " ('earth', 12),\n",
       " ('sent', 12),\n",
       " ('long', 12),\n",
       " ('faith,', 12),\n",
       " ('ophelia,', 12),\n",
       " ('something', 12),\n",
       " ('it:', 12),\n",
       " ('any', 12),\n",
       " ('stand', 12),\n",
       " ('bring', 12),\n",
       " (\"what's\", 12),\n",
       " ('ere', 12),\n",
       " ('saw', 12),\n",
       " (\"e'en\", 12),\n",
       " ('lord!', 12),\n",
       " ('[sings.]', 12),\n",
       " ('matter', 12),\n",
       " ('else', 12),\n",
       " ('hand', 12),\n",
       " ('once', 11),\n",
       " ('life,', 11),\n",
       " ('oft', 11),\n",
       " ('death,', 11),\n",
       " (\"o'\", 11),\n",
       " ('son', 11),\n",
       " ('down', 11),\n",
       " ('other', 11),\n",
       " ('better', 11),\n",
       " ('form', 11),\n",
       " ('being', 11),\n",
       " ('ever', 11),\n",
       " ('this?', 11),\n",
       " ('go,', 11),\n",
       " ('love,', 11),\n",
       " ('things', 11),\n",
       " ('players', 11),\n",
       " (\"he's\", 11),\n",
       " ('last', 11),\n",
       " ('mad', 11),\n",
       " ('night', 11),\n",
       " ('body', 11),\n",
       " ('madness', 11),\n",
       " ('cause', 11),\n",
       " ('play.', 11),\n",
       " ('each', 11),\n",
       " ('goes', 10),\n",
       " ('after', 10),\n",
       " ('me:', 10),\n",
       " ('soul,', 10),\n",
       " ('them.', 10),\n",
       " ('same', 10),\n",
       " ('eyes', 10),\n",
       " ('ear', 10),\n",
       " ('virtue', 10),\n",
       " ('alas,', 10),\n",
       " ('far', 10),\n",
       " ('so.', 10),\n",
       " ('heart', 10),\n",
       " ('[to', 10),\n",
       " ('kind', 10),\n",
       " ('is,', 10),\n",
       " ('rest', 10),\n",
       " ('given', 10),\n",
       " ('himself', 10),\n",
       " (\"is't\", 10),\n",
       " ('away', 10),\n",
       " ('second', 10),\n",
       " (\"let's\", 10),\n",
       " ('majesty', 10),\n",
       " ('thousand', 10),\n",
       " ('haste', 10),\n",
       " ('end', 10),\n",
       " ('another', 10),\n",
       " ('heard', 9),\n",
       " ('p.', 9),\n",
       " ('will,', 9),\n",
       " ('shows', 9),\n",
       " ('excellent', 9),\n",
       " ('foul', 9),\n",
       " ('ourselves', 9),\n",
       " ('question', 9),\n",
       " ('who,', 9),\n",
       " ('free', 9),\n",
       " ('wind', 9),\n",
       " ('almost', 9),\n",
       " ('man,', 9),\n",
       " ('came', 9),\n",
       " ('get', 9),\n",
       " (\"'twere\", 9),\n",
       " ('further', 9),\n",
       " ('mark', 9),\n",
       " ('draw', 9),\n",
       " ('through', 9),\n",
       " ('well.', 9),\n",
       " ('seek', 9),\n",
       " (\"hamlet's\", 9),\n",
       " ('doubt', 9),\n",
       " ('gertrude,', 9),\n",
       " ('thine', 9),\n",
       " ('together', 9),\n",
       " ('him:', 9),\n",
       " ('be,', 9),\n",
       " ('none', 9),\n",
       " ('thank', 9),\n",
       " ('full', 9),\n",
       " ('please', 9),\n",
       " ('lay', 9),\n",
       " ('grace', 9),\n",
       " ('hamlet.]', 9),\n",
       " ('best', 9),\n",
       " ('seem', 9),\n",
       " ('you;', 9),\n",
       " ('[aside.]', 9),\n",
       " ('denmark', 9),\n",
       " ('duty', 9),\n",
       " ('thee,', 9),\n",
       " ('again', 9),\n",
       " ('not.', 8),\n",
       " ('three', 8),\n",
       " ('done,', 8),\n",
       " ('way', 8),\n",
       " ('answer', 8),\n",
       " ('them,', 8),\n",
       " ('said', 8),\n",
       " ('me;', 8),\n",
       " ('gave', 8),\n",
       " ('thought', 8),\n",
       " ('horatio.]', 8),\n",
       " ('sit', 8),\n",
       " ('in.', 8),\n",
       " ('nature,', 8),\n",
       " (\"king's\", 8),\n",
       " ('lie', 8),\n",
       " ('reason', 8),\n",
       " ('every', 8),\n",
       " ('unto', 8),\n",
       " ('speech', 8),\n",
       " ('fell', 8),\n",
       " (\"here's\", 8),\n",
       " ('fit', 8),\n",
       " ('business', 8),\n",
       " ('rosencrantz,', 8),\n",
       " ('so:', 8),\n",
       " ('me?', 8),\n",
       " ('blood', 8),\n",
       " ('farewell.', 8),\n",
       " ('which,', 8),\n",
       " ('heaven,', 8),\n",
       " ('men', 8),\n",
       " ('walk', 8),\n",
       " ('grief', 8),\n",
       " ('i.', 8),\n",
       " ('fran.', 8),\n",
       " ('wilt', 8),\n",
       " ('says', 7),\n",
       " ('times', 7),\n",
       " ('deed', 7),\n",
       " ('father;', 7),\n",
       " ('receive', 7),\n",
       " ('particular', 7),\n",
       " ('power', 7),\n",
       " ('sense', 7),\n",
       " ('for.', 7),\n",
       " ('horatio', 7),\n",
       " ('takes', 7),\n",
       " ('age', 7),\n",
       " ('action', 7),\n",
       " ('so?', 7),\n",
       " ('near', 7),\n",
       " ('sir;', 7),\n",
       " ('will.', 7),\n",
       " ('whole', 7),\n",
       " ('beseech', 7),\n",
       " ('her,', 7),\n",
       " ('daughter', 7),\n",
       " ('while', 7),\n",
       " ('break', 7),\n",
       " ('shall,', 7),\n",
       " ('watch', 7),\n",
       " ('all,', 7),\n",
       " ('england', 7),\n",
       " ('memory', 7),\n",
       " ('again,', 7),\n",
       " ('mind', 7),\n",
       " ('wherein', 7),\n",
       " ('spirit', 7),\n",
       " ('out,', 7),\n",
       " ('norway,', 7),\n",
       " ('custom', 7),\n",
       " ('grow', 7),\n",
       " ('whether', 7),\n",
       " ('more,', 7),\n",
       " ('he,', 7),\n",
       " ('lady,', 7),\n",
       " ('gentlemen,', 7),\n",
       " ('within.]', 7),\n",
       " ('sword,', 7),\n",
       " ('stay', 7),\n",
       " ('come;', 7),\n",
       " (\"brother's\", 7),\n",
       " ('fortinbras,', 7),\n",
       " ('help,', 7),\n",
       " ('yourself', 7),\n",
       " ('capt.', 7),\n",
       " ('father.', 7),\n",
       " ('friends', 7),\n",
       " ('shot', 7),\n",
       " ('understand', 7),\n",
       " ('needs', 7),\n",
       " ('down,', 7),\n",
       " ('mean,', 7),\n",
       " ('heaven;', 7),\n",
       " ('wholesome', 6),\n",
       " (\"mother's\", 6),\n",
       " ('fall', 6),\n",
       " ('round', 6),\n",
       " ('top', 6),\n",
       " ('now!', 6),\n",
       " ('ho!', 6),\n",
       " ('only', 6),\n",
       " ('ii.', 6),\n",
       " ('heart,', 6),\n",
       " ('remember', 6),\n",
       " ('cast', 6),\n",
       " ('face', 6),\n",
       " ('[within.]', 6),\n",
       " ('whom', 6),\n",
       " ('swear.', 6),\n",
       " ('lose', 6),\n",
       " ('for,', 6),\n",
       " ('awhile,', 6),\n",
       " ('eye,', 6),\n",
       " ('false', 6),\n",
       " ('name', 6),\n",
       " ('pale', 6),\n",
       " ('madam,', 6),\n",
       " ('back', 6),\n",
       " ('laertes', 6),\n",
       " ('dead,', 6),\n",
       " ('double', 6),\n",
       " ('word', 6),\n",
       " ('gives', 6),\n",
       " ('that?', 6),\n",
       " ('there,', 6),\n",
       " ('[re-enter', 6),\n",
       " ('father,', 6),\n",
       " ('death.', 6),\n",
       " ('honest', 6),\n",
       " ('all.', 6),\n",
       " ('wicked', 6),\n",
       " ('general', 6),\n",
       " ('less', 6),\n",
       " ('god,', 6),\n",
       " ('vile', 6),\n",
       " ('on.', 6),\n",
       " ('desperate', 6),\n",
       " ('there.', 6),\n",
       " ('alone', 6),\n",
       " ('state', 6),\n",
       " ('bid', 6),\n",
       " ('light', 6),\n",
       " ('hands', 6),\n",
       " ('hamlet!', 6),\n",
       " ('either', 6),\n",
       " ('elsinore.', 6),\n",
       " ('noise', 6),\n",
       " ('damned', 6),\n",
       " ('wouldst', 6),\n",
       " ('sir?', 6),\n",
       " ('earth,', 6),\n",
       " ('purpose', 6),\n",
       " ('news', 6),\n",
       " ('fellow', 6),\n",
       " ('lies', 6),\n",
       " ('speak,', 6),\n",
       " ('fine', 6),\n",
       " ('courtier.', 6),\n",
       " ('mother.', 6),\n",
       " ('polonius,', 6),\n",
       " ('hear.', 6),\n",
       " ('go.', 6),\n",
       " ('ho,', 6),\n",
       " ('murder', 6),\n",
       " ('husband', 6),\n",
       " ('guildenstern,', 6),\n",
       " ('tongue', 6),\n",
       " ('tears', 6),\n",
       " ('poison', 6),\n",
       " ('drink', 6),\n",
       " ('him;', 6),\n",
       " ('gone,', 6),\n",
       " ('laid', 6),\n",
       " ('done', 6),\n",
       " ('letters', 6),\n",
       " ('ghost.]', 6),\n",
       " ('fare', 6),\n",
       " ('passion', 6),\n",
       " ('indeed.', 6),\n",
       " ('quick', 6),\n",
       " ('offence', 5),\n",
       " ('ghost', 5),\n",
       " ('god!', 5),\n",
       " ('themselves', 5),\n",
       " ('hamlet:', 5),\n",
       " ('ill', 5),\n",
       " ('save', 5),\n",
       " ('time,', 5),\n",
       " ('away!', 5),\n",
       " ('so;', 5),\n",
       " ('speak!', 5),\n",
       " ('writ', 5),\n",
       " ('heard,', 5),\n",
       " ('bad', 5),\n",
       " ('means,', 5),\n",
       " ('went', 5),\n",
       " ('fashion', 5),\n",
       " ('choice', 5),\n",
       " ('sir:', 5),\n",
       " ('teach', 5),\n",
       " ('told', 5),\n",
       " ('alexander', 5),\n",
       " ('speech,', 5),\n",
       " ('love.', 5),\n",
       " ('honour', 5),\n",
       " ('gentle', 5),\n",
       " ('woe', 5),\n",
       " ('voice', 5),\n",
       " (\"in's\", 5),\n",
       " ('report', 5),\n",
       " ('try', 5),\n",
       " ('revenge', 5),\n",
       " ('her.', 5),\n",
       " ('coming', 5),\n",
       " ('brought', 5),\n",
       " ('point', 5),\n",
       " ('work', 5),\n",
       " ('water', 5),\n",
       " ('pass', 5),\n",
       " ('dull', 5),\n",
       " ('truly', 5),\n",
       " ('air,', 5),\n",
       " ('black', 5),\n",
       " ('forth', 5),\n",
       " ('bloody', 5),\n",
       " ('visit', 5),\n",
       " ('days', 5),\n",
       " ('part,', 5),\n",
       " ('devil', 5),\n",
       " ('enter', 5),\n",
       " ('heavy', 5),\n",
       " (\"'gainst\", 5),\n",
       " ('[they', 5),\n",
       " ('shalt', 5),\n",
       " ('was,', 5),\n",
       " ('then;', 5),\n",
       " ('warlike', 5),\n",
       " ('move', 5),\n",
       " ('welcome,', 5),\n",
       " ('day,', 5),\n",
       " (\"'twas\", 5),\n",
       " ('seems', 5),\n",
       " ('whilst', 5),\n",
       " ('drink,', 5),\n",
       " ('lord,--', 5),\n",
       " (\"man's\", 5),\n",
       " ('hope', 5),\n",
       " ('too.', 5),\n",
       " ('eyes,', 5),\n",
       " ('beard', 5),\n",
       " ('hour', 5),\n",
       " ('mortal', 5),\n",
       " (\"th'\", 5),\n",
       " ('man.', 5),\n",
       " ('lack', 5),\n",
       " ('madness,', 5),\n",
       " ('phrase', 5),\n",
       " ('toward', 5),\n",
       " ('keeps', 5),\n",
       " ('hot', 5),\n",
       " (\"woul't\", 5),\n",
       " ('enough', 5),\n",
       " ('humbly', 5),\n",
       " ('more.', 5),\n",
       " ('come.', 5),\n",
       " ('aught', 5),\n",
       " ('too,', 5),\n",
       " ('dread', 5),\n",
       " ('herself', 5),\n",
       " ('dare', 5),\n",
       " ('knew', 5),\n",
       " ('look,', 5),\n",
       " ('beg', 5),\n",
       " ('time.', 5),\n",
       " ('thou,', 5),\n",
       " ('indeed', 5),\n",
       " ('us.', 5),\n",
       " ('welcome', 5),\n",
       " ('piece', 5),\n",
       " ('yes,', 5),\n",
       " ('[the', 5),\n",
       " ('friends,', 5),\n",
       " ('it;', 5),\n",
       " ('grave', 5),\n",
       " ('rank', 5),\n",
       " ('turn', 5),\n",
       " ('conscience', 5),\n",
       " ('joy', 5),\n",
       " ('laertes?', 5),\n",
       " ('that.', 5),\n",
       " ('common', 5),\n",
       " ('whereon', 5),\n",
       " ('denmark.', 5),\n",
       " (\"is't,\", 5),\n",
       " ('himself;', 5),\n",
       " ('ophelia.]', 5),\n",
       " ('behind', 5),\n",
       " ('sudden', 5),\n",
       " ('yet,', 5),\n",
       " ('fat', 5),\n",
       " ('drown', 5),\n",
       " ('hither,', 5),\n",
       " (\"fortune's\", 5),\n",
       " ('buried', 5),\n",
       " ('well:', 5),\n",
       " ('son,', 5),\n",
       " ('thee.', 5),\n",
       " ('him!', 5),\n",
       " ('not?', 5),\n",
       " ('note', 5),\n",
       " ('ears', 5),\n",
       " ('season', 5),\n",
       " ('wisdom', 5),\n",
       " ('late', 5),\n",
       " ('neither', 5),\n",
       " ('soft!', 5),\n",
       " ('sure,', 5),\n",
       " ('this.', 5),\n",
       " ('known', 5),\n",
       " ('hell,', 5),\n",
       " ('again!', 4),\n",
       " ('it?', 4),\n",
       " ('feed', 4),\n",
       " ('ghost,', 4),\n",
       " ('me!', 4),\n",
       " ('dream', 4),\n",
       " ('violent', 4),\n",
       " ('took', 4),\n",
       " ('hands,', 4),\n",
       " ('sick', 4),\n",
       " ('attendants.]', 4),\n",
       " (\"kill'd\", 4),\n",
       " ('leave.', 4),\n",
       " ('choose', 4),\n",
       " ('grown', 4),\n",
       " ('calls', 4),\n",
       " ('iii.', 4),\n",
       " ('myself', 4),\n",
       " ('lord:', 4),\n",
       " ('act,', 4),\n",
       " ('health', 4),\n",
       " ('hamlet?', 4),\n",
       " ('eye', 4),\n",
       " ('thrice', 4),\n",
       " ('bestow', 4),\n",
       " (\"wi'\", 4),\n",
       " ('skull', 4),\n",
       " ('impart', 4),\n",
       " ('body.', 4),\n",
       " ('command', 4),\n",
       " ('instant', 4),\n",
       " ('imports', 4),\n",
       " ('sea', 4),\n",
       " ('voltimand,', 4),\n",
       " ('tale', 4),\n",
       " ('start', 4),\n",
       " ('mock', 4),\n",
       " ('friend', 4),\n",
       " ('mouth,', 4),\n",
       " ('hard', 4),\n",
       " ('kill', 4),\n",
       " ('cannon', 4),\n",
       " ('infinite', 4),\n",
       " ('dead.', 4),\n",
       " ('ten', 4),\n",
       " ('thee!', 4),\n",
       " ('cries', 4),\n",
       " ('now;', 4),\n",
       " ('breath', 4),\n",
       " ('ambition', 4),\n",
       " ('struck', 4),\n",
       " ('[a', 4),\n",
       " ('bore', 4),\n",
       " ('there;', 4),\n",
       " ('fair,', 4),\n",
       " ('sure', 4),\n",
       " ('native', 4),\n",
       " ('thus,', 4),\n",
       " ('kept', 4),\n",
       " ('air', 4),\n",
       " ('trumpet', 4),\n",
       " ('discourse', 4),\n",
       " ('lost', 4),\n",
       " ('uncle', 4),\n",
       " ('england;', 4),\n",
       " ('not:', 4),\n",
       " ('course', 4),\n",
       " ('stir', 4),\n",
       " ('king:', 4),\n",
       " ('now?', 4),\n",
       " ('shortly', 4),\n",
       " ('fain', 4),\n",
       " ('effect', 4),\n",
       " ('property', 4),\n",
       " (\"damn'd\", 4),\n",
       " ('send', 4),\n",
       " ('twice', 4),\n",
       " ('players.]', 4),\n",
       " ('fort.', 4),\n",
       " ('play.]', 4),\n",
       " ('hand,', 4),\n",
       " ('grows', 4),\n",
       " ('methought', 4),\n",
       " ('silence', 4),\n",
       " ('under', 4),\n",
       " ('guildenstern', 4),\n",
       " ('passion,', 4),\n",
       " ('gentleman', 4),\n",
       " ('treasure', 4),\n",
       " ('still,', 4),\n",
       " ('true;', 4),\n",
       " ('flesh', 4),\n",
       " ('one.', 4),\n",
       " ('heart;', 4),\n",
       " ('sorrow', 4),\n",
       " (\"turn'd\", 4),\n",
       " ('did;', 4),\n",
       " ('over', 4),\n",
       " (\"seal'd\", 4),\n",
       " ('iv.', 4),\n",
       " ('court', 4),\n",
       " ('quiet', 4),\n",
       " ('four', 4),\n",
       " ('certain', 4),\n",
       " ('french', 4),\n",
       " ('marcellus,', 4),\n",
       " ('christian', 4),\n",
       " ('lend', 4),\n",
       " ('truth', 4),\n",
       " ('cursed', 4),\n",
       " ('this,--', 4),\n",
       " ('it!', 4),\n",
       " ('yea,', 4),\n",
       " ('morning', 4),\n",
       " ('there?', 4),\n",
       " ('fool', 4),\n",
       " ('assume', 4),\n",
       " ('hell', 4),\n",
       " ('pyrrhus', 4),\n",
       " ('on,', 4),\n",
       " ('slave', 4),\n",
       " (\"lov'd\", 4),\n",
       " ('touch', 4),\n",
       " ('blessing', 4),\n",
       " ('voice,', 4),\n",
       " ('more:', 4),\n",
       " ('fault', 4),\n",
       " ('pate', 4),\n",
       " ('anon', 4),\n",
       " ('horatio!', 4),\n",
       " ('obey', 4),\n",
       " ('found', 4),\n",
       " ('dangerous', 4),\n",
       " ('sun', 4),\n",
       " ('see,', 4),\n",
       " ('present', 4),\n",
       " ('perhaps', 4),\n",
       " ('crown,', 4),\n",
       " ('fortune,', 4),\n",
       " ('sing', 4),\n",
       " ('strange', 4),\n",
       " ('hamlet;', 4),\n",
       " ('direct', 4),\n",
       " ('wager', 4),\n",
       " ('laugh', 4),\n",
       " ('blood,', 4),\n",
       " ('six', 4),\n",
       " ('mark.', 4),\n",
       " ('matter.', 4),\n",
       " ('sword', 4),\n",
       " ('sweet,', 4),\n",
       " ('think,', 4),\n",
       " ('life.', 4),\n",
       " ('rather', 4),\n",
       " ('holds', 4),\n",
       " ('mass,', 4),\n",
       " ('lady', 4),\n",
       " ('help', 4),\n",
       " ('king?', 4),\n",
       " ('play,', 4),\n",
       " ('away.', 4),\n",
       " ('them:', 4),\n",
       " ('all;', 4),\n",
       " ('sleep', 4),\n",
       " ('place', 4),\n",
       " ('head.', 4),\n",
       " ('glad', 4),\n",
       " ('lives', 4),\n",
       " ('puts', 4),\n",
       " ('entertainment', 4),\n",
       " ('natural', 4),\n",
       " ('countenance', 4),\n",
       " ('fly', 4),\n",
       " ('confess', 4),\n",
       " ('rose', 4),\n",
       " ('throw', 4),\n",
       " ('not;', 4),\n",
       " ('stronger', 4),\n",
       " ('judgment', 4),\n",
       " ('wear', 4),\n",
       " ('lest', 4),\n",
       " ('watch,', 4),\n",
       " (\"b'\", 4),\n",
       " ('lordship', 4),\n",
       " ('lead', 4),\n",
       " ('honesty', 4),\n",
       " ('pardon', 4),\n",
       " ('then?', 4),\n",
       " ('deep', 4),\n",
       " ('thinking', 4),\n",
       " ('half', 4),\n",
       " ('ah,', 4),\n",
       " ('cause,', 4),\n",
       " ('again.', 4),\n",
       " ('charge', 4),\n",
       " ('danish', 4),\n",
       " ('meet', 4),\n",
       " ('[reads.]', 4),\n",
       " ('speaks', 4),\n",
       " ('didst', 4),\n",
       " ('eat', 4),\n",
       " ('&c.]', 4),\n",
       " ('horatio.', 4),\n",
       " ('cry', 4),\n",
       " ('whereto', 4),\n",
       " ('beauty', 4),\n",
       " ('sword.', 4),\n",
       " ('white', 4),\n",
       " ('[beneath.]', 4),\n",
       " ('looks', 4),\n",
       " ('stood', 4),\n",
       " ('shame', 4),\n",
       " ('service', 4),\n",
       " ('brother.', 4),\n",
       " ('gracious', 4),\n",
       " ('commend', 4),\n",
       " ('love;', 4),\n",
       " ('right', 4),\n",
       " ('hide', 4),\n",
       " ('speak.', 4),\n",
       " ('well;', 4),\n",
       " ('perchance', 3),\n",
       " ('haply', 3),\n",
       " ('v.', 3),\n",
       " ('need', 3),\n",
       " ('revenge.', 3),\n",
       " ('justly', 3),\n",
       " ('tongue,', 3),\n",
       " ('reason,', 3),\n",
       " ('hence', 3),\n",
       " ('arras', 3),\n",
       " ('soldiers,', 3),\n",
       " ('phrase,', 3),\n",
       " ('commandment', 3),\n",
       " ('delight', 3),\n",
       " ('yourself.', 3),\n",
       " ('welcome.', 3),\n",
       " ('ordnance', 3),\n",
       " ('alack,', 3),\n",
       " ('liberal', 3),\n",
       " (\"in't?\", 3),\n",
       " ('unless', 3),\n",
       " ('words,', 3),\n",
       " (\"appear'd\", 3),\n",
       " ('to-morrow', 3),\n",
       " ('base', 3),\n",
       " ('wife;', 3),\n",
       " ('borne', 3),\n",
       " (\"stay'd\", 3),\n",
       " ('hear?', 3),\n",
       " ('service.', 3),\n",
       " (\"ta'en\", 3),\n",
       " ('these,', 3),\n",
       " ('censure', 3),\n",
       " ('man;', 3),\n",
       " ('proof', 3),\n",
       " ('next', 3),\n",
       " ('polonius', 3),\n",
       " ('conceit', 3),\n",
       " ('players,', 3),\n",
       " ('doors', 3),\n",
       " ('falls', 3),\n",
       " ('mountain', 3),\n",
       " ('haste.', 3),\n",
       " ('yourself,', 3),\n",
       " ('night.', 3),\n",
       " ('giving', 3),\n",
       " (\"look'd\", 3),\n",
       " (\"on't?\", 3),\n",
       " ('hadst', 3),\n",
       " ('land,', 3),\n",
       " ('quantity', 3),\n",
       " ('making', 3),\n",
       " (\"to't\", 3),\n",
       " ('imagination', 3),\n",
       " ('pay', 3),\n",
       " ('arms', 3),\n",
       " ('argal,', 3),\n",
       " (\"hamlet.'\", 3),\n",
       " ('villain!', 3),\n",
       " ...]"
      ]
     },
     "execution_count": 145,
     "metadata": {},
     "output_type": "execute_result"
    }
   ],
   "source": [
    "sorted(dicts.items(), key=lambda d: d[1], reverse=True)"
   ]
  },
  {
   "cell_type": "markdown",
   "metadata": {},
   "source": [
    "#### 绘制使用频率最高的20个词的条形图"
   ]
  },
  {
   "cell_type": "code",
   "execution_count": 151,
   "metadata": {},
   "outputs": [
    {
     "name": "stdout",
     "output_type": "stream",
     "text": [
      "[(1136, 'the'), (943, 'and'), (720, 'to'), (667, 'of'), (527, 'a'), (512, 'my'), (510, 'i'), (420, 'in'), (412, 'you'), (358, 'ham.'), (337, 'that'), (324, 'it'), (320, 'is'), (295, 'his'), (270, 'not'), (264, 'with'), (250, 'this'), (241, 'your'), (231, 'for'), (228, 'but')]\n"
     ]
    },
    {
     "data": {
      "image/png": "[encoded data removed]",
      "text/plain": [
       "<matplotlib.figure.Figure at 0xc52a208>"
      ]
     },
     "metadata": {},
     "output_type": "display_data"
    }
   ],
   "source": [
    "top20 = frequency[:20]\n",
    "print(top20)\n",
    "pos = np.arange(len(top20))\n",
    "plt.bar(pos, [e[0] for e in top20])\n",
    "plt.xticks(pos, [e[1] for e in top20]);"
   ]
  },
  {
   "cell_type": "code",
   "execution_count": null,
   "metadata": {
    "collapsed": true
   },
   "outputs": [],
   "source": []
  }
 ],
 "metadata": {
  "kernelspec": {
   "display_name": "Python 3",
   "language": "python",
   "name": "python3"
  },
  "language_info": {
   "codemirror_mode": {
    "name": "ipython",
    "version": 3
   },
   "file_extension": ".py",
   "mimetype": "text/x-python",
   "name": "python",
   "nbconvert_exporter": "python",
   "pygments_lexer": "ipython3",
   "version": "3.6.0"
  }
 },
 "nbformat": 4,
 "nbformat_minor": 2
}
